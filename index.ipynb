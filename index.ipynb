{
 "cells": [
  {
   "cell_type": "markdown",
   "id": "b43a8f92",
   "metadata": {},
   "source": [
    "# tools4rdf"
   ]
  },
  {
   "cell_type": "markdown",
   "id": "a123db1c",
   "metadata": {},
   "source": [
    "`tools4RDF` is a Python toolkit designed to simplify working with RDF data, ontologies, and knowledge graphs. It provides user-friendly utilities for creating, manipulating, querying, and visualizing RDF data, making it easier to integrate semantic web technologies into your research and applications.\n",
    "\n",
    "It is built on top of rdflib, and a primary function is the automated creation of SPARQL queries through an autocompleted programmatic interface.\n",
    "\n",
    "Explore the examples below to get started with `tools4rdf` and see how it can accelerate your semantic data workflows!"
   ]
  },
  {
   "cell_type": "markdown",
   "id": "c4af5af8",
   "metadata": {},
   "source": [
    "## A small example"
   ]
  },
  {
   "cell_type": "code",
   "execution_count": 3,
   "id": "bba3c873-332f-48fe-acb0-eb8bf38209df",
   "metadata": {},
   "outputs": [],
   "source": [
    "from tools4rdf import OntologyNetwork"
   ]
  },
  {
   "cell_type": "markdown",
   "id": "03e205d1",
   "metadata": {},
   "source": [
    "Read in the [FOAF ontology](http://xmlns.com/foaf/spec/)"
   ]
  },
  {
   "cell_type": "code",
   "execution_count": 5,
   "id": "b1488d43",
   "metadata": {},
   "outputs": [],
   "source": [
    "onto = OntologyNetwork('http://xmlns.com/foaf/0.1/')"
   ]
  },
  {
   "cell_type": "markdown",
   "id": "b6499d0b",
   "metadata": {},
   "source": [
    "Explore terms, autocompletion works!"
   ]
  },
  {
   "cell_type": "code",
   "execution_count": 8,
   "id": "358ffbb7",
   "metadata": {},
   "outputs": [
    {
     "data": {
      "text/plain": [
       "foaf:Person"
      ]
     },
     "execution_count": 8,
     "metadata": {},
     "output_type": "execute_result"
    }
   ],
   "source": [
    "onto.terms.foaf.Person"
   ]
  },
  {
   "cell_type": "code",
   "execution_count": 11,
   "id": "ad8701bd",
   "metadata": {},
   "outputs": [
    {
     "data": {
      "text/plain": [
       "('http://xmlns.com/foaf/0.1/Person', rdflib.term.Literal('A person.'))"
      ]
     },
     "execution_count": 11,
     "metadata": {},
     "output_type": "execute_result"
    }
   ],
   "source": [
    "onto.terms.foaf.Person.uri, onto.terms.foaf.Person.description"
   ]
  },
  {
   "cell_type": "code",
   "execution_count": 12,
   "id": "bd71e934",
   "metadata": {},
   "outputs": [
    {
     "name": "stdout",
     "output_type": "stream",
     "text": [
      "http://www.openlinksw.com/schemas/virtrdf#DefaultQuadMap\n",
      "http://www.openlinksw.com/schemas/virtrdf#TmpQuadMap\n",
      "http://www.openlinksw.com/schemas/virtrdf#DefaultServiceMap\n"
     ]
    }
   ],
   "source": [
    "import rdflib\n",
    "\n",
    "g = rdflib.Graph()\n",
    "qres = g.query(\n",
    "    \"\"\"\n",
    "    SELECT ?s\n",
    "    WHERE {\n",
    "      SERVICE <https://dbpedia.org/sparql> {\n",
    "        ?s a ?o .\n",
    "      }\n",
    "    }\n",
    "    LIMIT 3\n",
    "    \"\"\"\n",
    ")\n",
    "\n",
    "for row in qres:\n",
    "    print(row.s)"
   ]
  },
  {
   "cell_type": "code",
   "execution_count": null,
   "id": "e2f97069",
   "metadata": {},
   "outputs": [],
   "source": []
  }
 ],
 "metadata": {
  "kernelspec": {
   "display_name": "tools4rdf",
   "language": "python",
   "name": "python3"
  },
  "language_info": {
   "codemirror_mode": {
    "name": "ipython",
    "version": 3
   },
   "file_extension": ".py",
   "mimetype": "text/x-python",
   "name": "python",
   "nbconvert_exporter": "python",
   "pygments_lexer": "ipython3",
   "version": "3.11.13"
  }
 },
 "nbformat": 4,
 "nbformat_minor": 5
}
