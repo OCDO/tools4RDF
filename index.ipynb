{
 "cells": [
  {
   "cell_type": "markdown",
   "id": "b43a8f92",
   "metadata": {},
   "source": [
    "# tools4rdf"
   ]
  },
  {
   "cell_type": "markdown",
   "id": "a123db1c",
   "metadata": {},
   "source": [
    "`tools4RDF` is a Python toolkit designed to simplify working with RDF data, ontologies, and knowledge graphs. It provides user-friendly utilities for creating, manipulating, querying, and visualizing RDF data, making it easier to integrate semantic web technologies into your research and applications.\n",
    "\n",
    "It is built on top of rdflib, and a primary function is the automated creation of SPARQL queries through an autocompleted programmatic interface.\n",
    "\n",
    "Explore the examples below to get started with `tools4rdf` and see how it can accelerate your semantic data workflows!"
   ]
  },
  {
   "cell_type": "markdown",
   "id": "c4af5af8",
   "metadata": {},
   "source": [
    "## A small example"
   ]
  },
  {
   "cell_type": "code",
   "execution_count": 1,
   "id": "bba3c873-332f-48fe-acb0-eb8bf38209df",
   "metadata": {},
   "outputs": [],
   "source": [
    "from tools4rdf import OntologyNetwork"
   ]
  },
  {
   "cell_type": "markdown",
   "id": "03e205d1",
   "metadata": {},
   "source": [
    "Read in the [FOAF ontology](http://xmlns.com/foaf/spec/)"
   ]
  },
  {
   "cell_type": "code",
   "execution_count": 2,
   "id": "b1488d43",
   "metadata": {},
   "outputs": [],
   "source": [
    "onto = OntologyNetwork('http://xmlns.com/foaf/0.1/')"
   ]
  },
  {
   "cell_type": "markdown",
   "id": "b6499d0b",
   "metadata": {},
   "source": [
    "Explore terms, autocompletion works!"
   ]
  },
  {
   "cell_type": "code",
   "execution_count": 3,
   "id": "358ffbb7",
   "metadata": {},
   "outputs": [
    {
     "name": "stderr",
     "output_type": "stream",
     "text": [
      "/Users/smenon/Documents/repos/projects-iuc17/tools4RDF/tools4rdf/network/parser.py:289: UserWarning: foaf:isPrimaryTopicOf is a superproperty of foaf:homepage, but not found in attribute.\n",
      "  warnings.warn(\n",
      "/Users/smenon/Documents/repos/projects-iuc17/tools4RDF/tools4rdf/network/parser.py:289: UserWarning: foaf:isPrimaryTopicOf is a superproperty of foaf:openid, but not found in attribute.\n",
      "  warnings.warn(\n",
      "/Users/smenon/Documents/repos/projects-iuc17/tools4RDF/tools4rdf/network/parser.py:289: UserWarning: rdfs:label is a superproperty of foaf:name, but not found in attribute.\n",
      "  warnings.warn(\n"
     ]
    },
    {
     "data": {
      "text/plain": [
       "foaf:Person"
      ]
     },
     "execution_count": 3,
     "metadata": {},
     "output_type": "execute_result"
    }
   ],
   "source": [
    "onto.terms.foaf.Person"
   ]
  },
  {
   "cell_type": "code",
   "execution_count": 4,
   "id": "ad8701bd",
   "metadata": {},
   "outputs": [
    {
     "data": {
      "text/plain": [
       "('http://xmlns.com/foaf/0.1/Person', rdflib.term.Literal('A person.'))"
      ]
     },
     "execution_count": 4,
     "metadata": {},
     "output_type": "execute_result"
    }
   ],
   "source": [
    "onto.terms.foaf.Person.uri, onto.terms.foaf.Person.description"
   ]
  },
  {
   "cell_type": "markdown",
   "id": "e2f97069",
   "metadata": {},
   "source": [
    "Another term"
   ]
  },
  {
   "cell_type": "code",
   "execution_count": 7,
   "id": "a25d4ef4",
   "metadata": {},
   "outputs": [
    {
     "data": {
      "text/plain": [
       "foaf:familyName"
      ]
     },
     "execution_count": 7,
     "metadata": {},
     "output_type": "execute_result"
    }
   ],
   "source": [
    "onto.terms.foaf.familyName"
   ]
  },
  {
   "cell_type": "markdown",
   "id": "13d3caa9",
   "metadata": {},
   "source": [
    "Find domain and range of the term"
   ]
  },
  {
   "cell_type": "code",
   "execution_count": 9,
   "id": "39d1e4c3",
   "metadata": {},
   "outputs": [
    {
     "data": {
      "text/plain": [
       "(['foaf:Person'], ['Literal'])"
      ]
     },
     "execution_count": 9,
     "metadata": {},
     "output_type": "execute_result"
    }
   ],
   "source": [
    "onto.terms.foaf.familyName.domain, onto.terms.foaf.familyName.range"
   ]
  },
  {
   "cell_type": "markdown",
   "id": "66a4660b",
   "metadata": {},
   "source": [
    "Build SPARQL queries automatically, and execute them on endpoints"
   ]
  },
  {
   "cell_type": "code",
   "execution_count": 10,
   "id": "8fa1a18e",
   "metadata": {},
   "outputs": [
    {
     "data": {
      "text/html": [
       "<div>\n",
       "<style scoped>\n",
       "    .dataframe tbody tr th:only-of-type {\n",
       "        vertical-align: middle;\n",
       "    }\n",
       "\n",
       "    .dataframe tbody tr th {\n",
       "        vertical-align: top;\n",
       "    }\n",
       "\n",
       "    .dataframe thead th {\n",
       "        text-align: right;\n",
       "    }\n",
       "</style>\n",
       "<table border=\"1\" class=\"dataframe\">\n",
       "  <thead>\n",
       "    <tr style=\"text-align: right;\">\n",
       "      <th></th>\n",
       "      <th>Person</th>\n",
       "      <th>familyNamevalue</th>\n",
       "    </tr>\n",
       "  </thead>\n",
       "  <tbody>\n",
       "    <tr>\n",
       "      <th>0</th>\n",
       "      <td>http://dbpedia.org/resource/Sami_Kelopuro</td>\n",
       "      <td>Kelopuro</td>\n",
       "    </tr>\n",
       "    <tr>\n",
       "      <th>1</th>\n",
       "      <td>http://dbpedia.org/resource/Ben_Lamb_(poker_pl...</td>\n",
       "      <td>Lamb</td>\n",
       "    </tr>\n",
       "    <tr>\n",
       "      <th>2</th>\n",
       "      <td>http://dbpedia.org/resource/Juha_Helppi</td>\n",
       "      <td>Helppi</td>\n",
       "    </tr>\n",
       "    <tr>\n",
       "      <th>3</th>\n",
       "      <td>http://dbpedia.org/resource/Patrik_Antonius</td>\n",
       "      <td>Antonius</td>\n",
       "    </tr>\n",
       "    <tr>\n",
       "      <th>4</th>\n",
       "      <td>http://dbpedia.org/resource/Peter_Jetten</td>\n",
       "      <td>Jetten</td>\n",
       "    </tr>\n",
       "    <tr>\n",
       "      <th>5</th>\n",
       "      <td>http://dbpedia.org/resource/Viacheslav_Zhukov</td>\n",
       "      <td>Zhukov</td>\n",
       "    </tr>\n",
       "    <tr>\n",
       "      <th>6</th>\n",
       "      <td>http://dbpedia.org/resource/Chris_Moorman</td>\n",
       "      <td>Moorman</td>\n",
       "    </tr>\n",
       "    <tr>\n",
       "      <th>7</th>\n",
       "      <td>http://dbpedia.org/resource/Mitch_Schock</td>\n",
       "      <td>Schock</td>\n",
       "    </tr>\n",
       "    <tr>\n",
       "      <th>8</th>\n",
       "      <td>http://dbpedia.org/resource/Tommy_Angelo</td>\n",
       "      <td>Angelo</td>\n",
       "    </tr>\n",
       "    <tr>\n",
       "      <th>9</th>\n",
       "      <td>http://dbpedia.org/resource/Eric_Haber</td>\n",
       "      <td>Haber</td>\n",
       "    </tr>\n",
       "  </tbody>\n",
       "</table>\n",
       "</div>"
      ],
      "text/plain": [
       "                                              Person familyNamevalue\n",
       "0          http://dbpedia.org/resource/Sami_Kelopuro        Kelopuro\n",
       "1  http://dbpedia.org/resource/Ben_Lamb_(poker_pl...            Lamb\n",
       "2            http://dbpedia.org/resource/Juha_Helppi          Helppi\n",
       "3        http://dbpedia.org/resource/Patrik_Antonius        Antonius\n",
       "4           http://dbpedia.org/resource/Peter_Jetten          Jetten\n",
       "5      http://dbpedia.org/resource/Viacheslav_Zhukov          Zhukov\n",
       "6          http://dbpedia.org/resource/Chris_Moorman         Moorman\n",
       "7           http://dbpedia.org/resource/Mitch_Schock          Schock\n",
       "8           http://dbpedia.org/resource/Tommy_Angelo          Angelo\n",
       "9             http://dbpedia.org/resource/Eric_Haber           Haber"
      ]
     },
     "execution_count": 10,
     "metadata": {},
     "output_type": "execute_result"
    }
   ],
   "source": [
    "df = onto.query(\n",
    "    'https://dbpedia.org/sparql',\n",
    "    onto.terms.foaf.Person,\n",
    "    onto.terms.foaf.familyName,\n",
    "    limit=10,\n",
    ")\n",
    "df"
   ]
  },
  {
   "cell_type": "markdown",
   "id": "f59af9fc",
   "metadata": {},
   "source": [
    "Other features include:\n",
    "- Automated SPARQL query of both local knowledge graphs and remote endpoints\n",
    "- Read and parse ontologies\n",
    "- Combine ontologies programatically and connect them\n",
    "\n",
    "For more examples, please check [here](add link)\n"
   ]
  }
 ],
 "metadata": {
  "kernelspec": {
   "display_name": "tools4rdf",
   "language": "python",
   "name": "python3"
  },
  "language_info": {
   "codemirror_mode": {
    "name": "ipython",
    "version": 3
   },
   "file_extension": ".py",
   "mimetype": "text/x-python",
   "name": "python",
   "nbconvert_exporter": "python",
   "pygments_lexer": "ipython3",
   "version": "3.11.13"
  }
 },
 "nbformat": 4,
 "nbformat_minor": 5
}
