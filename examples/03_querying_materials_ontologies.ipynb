{
 "cells": [
  {
   "cell_type": "markdown",
   "metadata": {},
   "source": [
    "# Querying materials science ontologies\n",
    "\n",
    "This notebook demonstrates how to build SPARQL queries tailored to materials science applications using tools4RDF. We work with ontology networks relevant to atomistic simulations application and mid-level ontologies, showing how to extract structured information."
   ]
  },
  {
   "cell_type": "markdown",
   "metadata": {},
   "source": [
    "ToDo: examples with OCDO and PMDco (show example from issue #36)"
   ]
  },
  {
   "cell_type": "code",
   "execution_count": 1,
   "metadata": {},
   "outputs": [],
   "source": [
    "from tools4rdf.network.ontology import read_ontology\n",
    "from tools4rdf.network.network import OntologyNetwork\n",
    "from rdflib import Graph"
   ]
  },
  {
   "cell_type": "code",
   "execution_count": 2,
   "metadata": {},
   "outputs": [],
   "source": [
    "onto = read_ontology()"
   ]
  },
  {
   "cell_type": "markdown",
   "metadata": {
    "jp-MarkdownHeadingCollapsed": true
   },
   "source": [
    "## Atomistic Simulations"
   ]
  },
  {
   "cell_type": "code",
   "execution_count": 7,
   "metadata": {},
   "outputs": [
    {
     "name": "stdout",
     "output_type": "stream",
     "text": [
      "PREFIX cmso: <http://purls.helmholtz-metadaten.de/cmso/>\n",
      "PREFIX asmo: <http://purls.helmholtz-metadaten.de/asmo/>\n",
      "PREFIX pldo: <http://purls.helmholtz-metadaten.de/pldo/>\n",
      "PREFIX calculation: <https://w3id.org/mdo/calculation/>\n",
      "PREFIX podo: <http://purls.helmholtz-metadaten.de/podo/>\n",
      "PREFIX prov: <http://www.w3.org/ns/prov>\n",
      "PREFIX qudt: <http://qudt.org/schema/qudt/>\n",
      "PREFIX ldo: <http://purls.helmholtz-metadaten.de/cdos/ldo/>\n",
      "PREFIX owl: <http://www.w3.org/2002/07/owl>\n",
      "PREFIX rdf: <http://www.w3.org/1999/02/22-rdf-syntax-ns#>\n",
      "PREFIX rdfs: <http://www.w3.org/2000/01/rdf-schema#>\n",
      "SELECT DISTINCT ?AtomicScaleSample ?CrystalStructure_hasAltNamevalue\n",
      "WHERE {\n",
      "    ?AtomicScaleSample cmso:hasMaterial ?cmso_Material .\n",
      "    ?cmso_Material cmso:hasStructure ?CrystalStructure .\n",
      "    ?CrystalStructure cmso:hasAltName ?CrystalStructure_hasAltNamevalue .\n",
      "    ?AtomicScaleSample rdf:type cmso:AtomicScaleSample .\n",
      "}\n"
     ]
    }
   ],
   "source": [
    "query = (onto.create_query(onto.terms.cmso.AtomicScaleSample,\n",
    "                        onto.terms.cmso.hasAltName@onto.terms.cmso.CrystalStructure))\n",
    "print(query)"
   ]
  },
  {
   "cell_type": "code",
   "execution_count": 10,
   "metadata": {},
   "outputs": [
    {
     "data": {
      "text/plain": [
       "True"
      ]
     },
     "execution_count": 10,
     "metadata": {},
     "output_type": "execute_result"
    }
   ],
   "source": [
    "\"CrystalStructure_hasAltNamevalue\" in query"
   ]
  },
  {
   "cell_type": "code",
   "execution_count": 3,
   "metadata": {},
   "outputs": [
    {
     "data": {
      "text/plain": [
       "<Graph identifier=Ne02658a3ba7f4b39a6c9b5d8fe91d961 (<class 'rdflib.graph.Graph'>)>"
      ]
     },
     "execution_count": 3,
     "metadata": {},
     "output_type": "execute_result"
    }
   ],
   "source": [
    "#kg = KnowledgeGraph.unarchive('dataset.tar.gz')\n",
    "kg = Graph()\n",
    "kg.parse(\"dataset/triples\", format=\"turtle\")"
   ]
  },
  {
   "cell_type": "markdown",
   "metadata": {},
   "source": [
    "Of course, SPARQL queries can be directly run. See an example:"
   ]
  },
  {
   "cell_type": "code",
   "execution_count": 4,
   "metadata": {},
   "outputs": [],
   "source": [
    "query = \"\"\"\n",
    "PREFIX cmso: <http://purls.helmholtz-metadaten.de/cmso/>\n",
    "SELECT DISTINCT ?sample ?symbol ?number \n",
    "WHERE {\n",
    "    ?sample cmso:hasMaterial ?material .\n",
    "    ?material cmso:hasStructure ?structure .\n",
    "    ?structure cmso:hasSpaceGroupSymbol ?symbol .\n",
    "    ?sample cmso:hasNumberOfAtoms ?number .\n",
    "FILTER (?number=\"4\"^^xsd:integer)\n",
    "}\"\"\""
   ]
  },
  {
   "cell_type": "markdown",
   "metadata": {},
   "source": [
    "The above query finds the Space Group symbol of all structures which have four atoms."
   ]
  },
  {
   "cell_type": "code",
   "execution_count": 5,
   "metadata": {},
   "outputs": [],
   "source": [
    "results = kg.query(query)"
   ]
  },
  {
   "cell_type": "code",
   "execution_count": 6,
   "metadata": {},
   "outputs": [
    {
     "name": "stdout",
     "output_type": "stream",
     "text": [
      "(rdflib.term.URIRef('sample:10ffd2cc-9e92-4f04-896d-d6c0fdb9e55f'), rdflib.term.Literal('Pm-3m', datatype=rdflib.term.URIRef('http://www.w3.org/2001/XMLSchema#string')), rdflib.term.Literal('4', datatype=rdflib.term.URIRef('http://www.w3.org/2001/XMLSchema#integer')))\n",
      "(rdflib.term.URIRef('sample:1f6b1b0f-446a-4ad8-877e-d2e6176797df'), rdflib.term.Literal('Fm-3m', datatype=rdflib.term.URIRef('http://www.w3.org/2001/XMLSchema#string')), rdflib.term.Literal('4', datatype=rdflib.term.URIRef('http://www.w3.org/2001/XMLSchema#integer')))\n",
      "(rdflib.term.URIRef('sample:286c3974-962b-4333-a2bb-d164ae645454'), rdflib.term.Literal('Fm-3m', datatype=rdflib.term.URIRef('http://www.w3.org/2001/XMLSchema#string')), rdflib.term.Literal('4', datatype=rdflib.term.URIRef('http://www.w3.org/2001/XMLSchema#integer')))\n",
      "(rdflib.term.URIRef('sample:67be61c7-f9c7-4d46-a61d-5350fd0ee246'), rdflib.term.Literal('Fm-3m', datatype=rdflib.term.URIRef('http://www.w3.org/2001/XMLSchema#string')), rdflib.term.Literal('4', datatype=rdflib.term.URIRef('http://www.w3.org/2001/XMLSchema#integer')))\n",
      "(rdflib.term.URIRef('sample:721b7447-8363-4e65-9515-9da2581d7124'), rdflib.term.Literal('Fm-3m', datatype=rdflib.term.URIRef('http://www.w3.org/2001/XMLSchema#string')), rdflib.term.Literal('4', datatype=rdflib.term.URIRef('http://www.w3.org/2001/XMLSchema#integer')))\n",
      "(rdflib.term.URIRef('sample:8fc8e47b-acee-40f8-bcbf-fc298cc31f05'), rdflib.term.Literal('Fm-3m', datatype=rdflib.term.URIRef('http://www.w3.org/2001/XMLSchema#string')), rdflib.term.Literal('4', datatype=rdflib.term.URIRef('http://www.w3.org/2001/XMLSchema#integer')))\n",
      "(rdflib.term.URIRef('sample:9f0f48d1-5ebf-4f7a-b241-5e7aa273f5a0'), rdflib.term.Literal('Fm-3m', datatype=rdflib.term.URIRef('http://www.w3.org/2001/XMLSchema#string')), rdflib.term.Literal('4', datatype=rdflib.term.URIRef('http://www.w3.org/2001/XMLSchema#integer')))\n",
      "(rdflib.term.URIRef('sample:a3cf6d97-c922-4c4d-8517-e784df83b71e'), rdflib.term.Literal('Fm-3m', datatype=rdflib.term.URIRef('http://www.w3.org/2001/XMLSchema#string')), rdflib.term.Literal('4', datatype=rdflib.term.URIRef('http://www.w3.org/2001/XMLSchema#integer')))\n",
      "(rdflib.term.URIRef('sample:ab2bea57-39ea-49ea-ad3f-c1c40b013154'), rdflib.term.Literal('Fm-3m', datatype=rdflib.term.URIRef('http://www.w3.org/2001/XMLSchema#string')), rdflib.term.Literal('4', datatype=rdflib.term.URIRef('http://www.w3.org/2001/XMLSchema#integer')))\n",
      "(rdflib.term.URIRef('sample:aef7472e-7577-4256-8422-6ba77a954ce1'), rdflib.term.Literal('Fm-3m', datatype=rdflib.term.URIRef('http://www.w3.org/2001/XMLSchema#string')), rdflib.term.Literal('4', datatype=rdflib.term.URIRef('http://www.w3.org/2001/XMLSchema#integer')))\n",
      "(rdflib.term.URIRef('sample:b1f52dc6-5c92-428f-8f7a-78794fd0544c'), rdflib.term.Literal('Fm-3m', datatype=rdflib.term.URIRef('http://www.w3.org/2001/XMLSchema#string')), rdflib.term.Literal('4', datatype=rdflib.term.URIRef('http://www.w3.org/2001/XMLSchema#integer')))\n",
      "(rdflib.term.URIRef('sample:d015cfca-e047-40bc-baab-423e87fa2618'), rdflib.term.Literal('Fm-3m', datatype=rdflib.term.URIRef('http://www.w3.org/2001/XMLSchema#string')), rdflib.term.Literal('4', datatype=rdflib.term.URIRef('http://www.w3.org/2001/XMLSchema#integer')))\n",
      "(rdflib.term.URIRef('sample:e54c0e91-52ec-4c47-8ba3-43979a1ebe2e'), rdflib.term.Literal('Fm-3m', datatype=rdflib.term.URIRef('http://www.w3.org/2001/XMLSchema#string')), rdflib.term.Literal('4', datatype=rdflib.term.URIRef('http://www.w3.org/2001/XMLSchema#integer')))\n",
      "(rdflib.term.URIRef('sample:fb01a7f2-8984-442b-a32e-15321c4fa99b'), rdflib.term.Literal('Fm-3m', datatype=rdflib.term.URIRef('http://www.w3.org/2001/XMLSchema#string')), rdflib.term.Literal('4', datatype=rdflib.term.URIRef('http://www.w3.org/2001/XMLSchema#integer')))\n"
     ]
    }
   ],
   "source": [
    "for row in results:\n",
    "    print(row)"
   ]
  },
  {
   "cell_type": "markdown",
   "metadata": {},
   "source": [
    "This query can also be performed programmatically, which looks like this:"
   ]
  },
  {
   "cell_type": "markdown",
   "metadata": {},
   "source": [
    "`onto.terms` can be auto-completed to find ontology terms"
   ]
  },
  {
   "cell_type": "code",
   "execution_count": 7,
   "metadata": {},
   "outputs": [],
   "source": [
    "query = onto.create_query(onto.terms.cmso.AtomicScaleSample, [onto.terms.cmso.hasSpaceGroupSymbol, onto.terms.cmso.hasNumberOfAtoms==4])"
   ]
  },
  {
   "cell_type": "code",
   "execution_count": 8,
   "metadata": {},
   "outputs": [
    {
     "name": "stdout",
     "output_type": "stream",
     "text": [
      "PREFIX cmso: <http://purls.helmholtz-metadaten.de/cmso/>\n",
      "PREFIX qudt: <http://qudt.org/schema/qudt/>\n",
      "PREFIX pldo: <http://purls.helmholtz-metadaten.de/pldo/>\n",
      "PREFIX podo: <http://purls.helmholtz-metadaten.de/podo/>\n",
      "PREFIX asmo: <http://purls.helmholtz-metadaten.de/asmo/>\n",
      "PREFIX prov: <http://www.w3.org/ns/prov>\n",
      "PREFIX calculation: <https://w3id.org/mdo/calculation/>\n",
      "PREFIX ldo: <http://purls.helmholtz-metadaten.de/cdos/ldo/>\n",
      "PREFIX rdf: <http://www.w3.org/1999/02/22-rdf-syntax-ns#>\n",
      "PREFIX rdfs: <http://www.w3.org/2000/01/rdf-schema#>\n",
      "SELECT DISTINCT ?AtomicScaleSample ?hasSpaceGroupSymbolvalue ?hasNumberOfAtomsvalue\n",
      "WHERE {\n",
      "    ?AtomicScaleSample cmso:hasMaterial ?cmso_Material .\n",
      "    ?cmso_Material cmso:hasStructure ?cmso_CrystalStructure .\n",
      "    ?cmso_CrystalStructure cmso:hasSpaceGroupSymbol ?hasSpaceGroupSymbolvalue .\n",
      "    ?AtomicScaleSample cmso:hasNumberOfAtoms ?hasNumberOfAtomsvalue .\n",
      "    ?AtomicScaleSample rdf:type cmso:AtomicScaleSample .\n",
      "FILTER (?hasNumberOfAtomsvalue=\"4\"^^xsd:integer)\n",
      "}\n"
     ]
    }
   ],
   "source": [
    "print(query)"
   ]
  },
  {
   "cell_type": "markdown",
   "metadata": {},
   "source": [
    "Which can now be executed"
   ]
  },
  {
   "cell_type": "code",
   "execution_count": 9,
   "metadata": {},
   "outputs": [
    {
     "name": "stdout",
     "output_type": "stream",
     "text": [
      "(rdflib.term.URIRef('sample:10ffd2cc-9e92-4f04-896d-d6c0fdb9e55f'), rdflib.term.Literal('Pm-3m', datatype=rdflib.term.URIRef('http://www.w3.org/2001/XMLSchema#string')), rdflib.term.Literal('4', datatype=rdflib.term.URIRef('http://www.w3.org/2001/XMLSchema#integer')))\n",
      "(rdflib.term.URIRef('sample:286c3974-962b-4333-a2bb-d164ae645454'), rdflib.term.Literal('Fm-3m', datatype=rdflib.term.URIRef('http://www.w3.org/2001/XMLSchema#string')), rdflib.term.Literal('4', datatype=rdflib.term.URIRef('http://www.w3.org/2001/XMLSchema#integer')))\n",
      "(rdflib.term.URIRef('sample:8fc8e47b-acee-40f8-bcbf-fc298cc31f05'), rdflib.term.Literal('Fm-3m', datatype=rdflib.term.URIRef('http://www.w3.org/2001/XMLSchema#string')), rdflib.term.Literal('4', datatype=rdflib.term.URIRef('http://www.w3.org/2001/XMLSchema#integer')))\n",
      "(rdflib.term.URIRef('sample:9f0f48d1-5ebf-4f7a-b241-5e7aa273f5a0'), rdflib.term.Literal('Fm-3m', datatype=rdflib.term.URIRef('http://www.w3.org/2001/XMLSchema#string')), rdflib.term.Literal('4', datatype=rdflib.term.URIRef('http://www.w3.org/2001/XMLSchema#integer')))\n",
      "(rdflib.term.URIRef('sample:e54c0e91-52ec-4c47-8ba3-43979a1ebe2e'), rdflib.term.Literal('Fm-3m', datatype=rdflib.term.URIRef('http://www.w3.org/2001/XMLSchema#string')), rdflib.term.Literal('4', datatype=rdflib.term.URIRef('http://www.w3.org/2001/XMLSchema#integer')))\n",
      "(rdflib.term.URIRef('sample:1f6b1b0f-446a-4ad8-877e-d2e6176797df'), rdflib.term.Literal('Fm-3m', datatype=rdflib.term.URIRef('http://www.w3.org/2001/XMLSchema#string')), rdflib.term.Literal('4', datatype=rdflib.term.URIRef('http://www.w3.org/2001/XMLSchema#integer')))\n",
      "(rdflib.term.URIRef('sample:67be61c7-f9c7-4d46-a61d-5350fd0ee246'), rdflib.term.Literal('Fm-3m', datatype=rdflib.term.URIRef('http://www.w3.org/2001/XMLSchema#string')), rdflib.term.Literal('4', datatype=rdflib.term.URIRef('http://www.w3.org/2001/XMLSchema#integer')))\n",
      "(rdflib.term.URIRef('sample:721b7447-8363-4e65-9515-9da2581d7124'), rdflib.term.Literal('Fm-3m', datatype=rdflib.term.URIRef('http://www.w3.org/2001/XMLSchema#string')), rdflib.term.Literal('4', datatype=rdflib.term.URIRef('http://www.w3.org/2001/XMLSchema#integer')))\n",
      "(rdflib.term.URIRef('sample:a3cf6d97-c922-4c4d-8517-e784df83b71e'), rdflib.term.Literal('Fm-3m', datatype=rdflib.term.URIRef('http://www.w3.org/2001/XMLSchema#string')), rdflib.term.Literal('4', datatype=rdflib.term.URIRef('http://www.w3.org/2001/XMLSchema#integer')))\n",
      "(rdflib.term.URIRef('sample:ab2bea57-39ea-49ea-ad3f-c1c40b013154'), rdflib.term.Literal('Fm-3m', datatype=rdflib.term.URIRef('http://www.w3.org/2001/XMLSchema#string')), rdflib.term.Literal('4', datatype=rdflib.term.URIRef('http://www.w3.org/2001/XMLSchema#integer')))\n",
      "(rdflib.term.URIRef('sample:b1f52dc6-5c92-428f-8f7a-78794fd0544c'), rdflib.term.Literal('Fm-3m', datatype=rdflib.term.URIRef('http://www.w3.org/2001/XMLSchema#string')), rdflib.term.Literal('4', datatype=rdflib.term.URIRef('http://www.w3.org/2001/XMLSchema#integer')))\n",
      "(rdflib.term.URIRef('sample:d015cfca-e047-40bc-baab-423e87fa2618'), rdflib.term.Literal('Fm-3m', datatype=rdflib.term.URIRef('http://www.w3.org/2001/XMLSchema#string')), rdflib.term.Literal('4', datatype=rdflib.term.URIRef('http://www.w3.org/2001/XMLSchema#integer')))\n",
      "(rdflib.term.URIRef('sample:fb01a7f2-8984-442b-a32e-15321c4fa99b'), rdflib.term.Literal('Fm-3m', datatype=rdflib.term.URIRef('http://www.w3.org/2001/XMLSchema#string')), rdflib.term.Literal('4', datatype=rdflib.term.URIRef('http://www.w3.org/2001/XMLSchema#integer')))\n",
      "(rdflib.term.URIRef('sample:aef7472e-7577-4256-8422-6ba77a954ce1'), rdflib.term.Literal('Fm-3m', datatype=rdflib.term.URIRef('http://www.w3.org/2001/XMLSchema#string')), rdflib.term.Literal('4', datatype=rdflib.term.URIRef('http://www.w3.org/2001/XMLSchema#integer')))\n"
     ]
    }
   ],
   "source": [
    "results = kg.query(query)\n",
    "for row in results:\n",
    "    print(row)"
   ]
  },
  {
   "cell_type": "markdown",
   "metadata": {},
   "source": [
    "OntologyNetwork also has a query method which returns a pandas DataFrame for convenience"
   ]
  },
  {
   "cell_type": "code",
   "execution_count": 11,
   "metadata": {},
   "outputs": [
    {
     "data": {
      "text/html": [
       "<div>\n",
       "<style scoped>\n",
       "    .dataframe tbody tr th:only-of-type {\n",
       "        vertical-align: middle;\n",
       "    }\n",
       "\n",
       "    .dataframe tbody tr th {\n",
       "        vertical-align: top;\n",
       "    }\n",
       "\n",
       "    .dataframe thead th {\n",
       "        text-align: right;\n",
       "    }\n",
       "</style>\n",
       "<table border=\"1\" class=\"dataframe\">\n",
       "  <thead>\n",
       "    <tr style=\"text-align: right;\">\n",
       "      <th></th>\n",
       "      <th>AtomicScaleSample</th>\n",
       "      <th>hasSpaceGroupSymbolvalue</th>\n",
       "      <th>hasNumberOfAtomsvalue</th>\n",
       "    </tr>\n",
       "  </thead>\n",
       "  <tbody>\n",
       "    <tr>\n",
       "      <th>0</th>\n",
       "      <td>sample:10ffd2cc-9e92-4f04-896d-d6c0fdb9e55f</td>\n",
       "      <td>Pm-3m</td>\n",
       "      <td>4</td>\n",
       "    </tr>\n",
       "    <tr>\n",
       "      <th>1</th>\n",
       "      <td>sample:286c3974-962b-4333-a2bb-d164ae645454</td>\n",
       "      <td>Fm-3m</td>\n",
       "      <td>4</td>\n",
       "    </tr>\n",
       "    <tr>\n",
       "      <th>2</th>\n",
       "      <td>sample:8fc8e47b-acee-40f8-bcbf-fc298cc31f05</td>\n",
       "      <td>Fm-3m</td>\n",
       "      <td>4</td>\n",
       "    </tr>\n",
       "    <tr>\n",
       "      <th>3</th>\n",
       "      <td>sample:9f0f48d1-5ebf-4f7a-b241-5e7aa273f5a0</td>\n",
       "      <td>Fm-3m</td>\n",
       "      <td>4</td>\n",
       "    </tr>\n",
       "    <tr>\n",
       "      <th>4</th>\n",
       "      <td>sample:e54c0e91-52ec-4c47-8ba3-43979a1ebe2e</td>\n",
       "      <td>Fm-3m</td>\n",
       "      <td>4</td>\n",
       "    </tr>\n",
       "    <tr>\n",
       "      <th>5</th>\n",
       "      <td>sample:1f6b1b0f-446a-4ad8-877e-d2e6176797df</td>\n",
       "      <td>Fm-3m</td>\n",
       "      <td>4</td>\n",
       "    </tr>\n",
       "    <tr>\n",
       "      <th>6</th>\n",
       "      <td>sample:67be61c7-f9c7-4d46-a61d-5350fd0ee246</td>\n",
       "      <td>Fm-3m</td>\n",
       "      <td>4</td>\n",
       "    </tr>\n",
       "    <tr>\n",
       "      <th>7</th>\n",
       "      <td>sample:721b7447-8363-4e65-9515-9da2581d7124</td>\n",
       "      <td>Fm-3m</td>\n",
       "      <td>4</td>\n",
       "    </tr>\n",
       "    <tr>\n",
       "      <th>8</th>\n",
       "      <td>sample:a3cf6d97-c922-4c4d-8517-e784df83b71e</td>\n",
       "      <td>Fm-3m</td>\n",
       "      <td>4</td>\n",
       "    </tr>\n",
       "    <tr>\n",
       "      <th>9</th>\n",
       "      <td>sample:ab2bea57-39ea-49ea-ad3f-c1c40b013154</td>\n",
       "      <td>Fm-3m</td>\n",
       "      <td>4</td>\n",
       "    </tr>\n",
       "    <tr>\n",
       "      <th>10</th>\n",
       "      <td>sample:b1f52dc6-5c92-428f-8f7a-78794fd0544c</td>\n",
       "      <td>Fm-3m</td>\n",
       "      <td>4</td>\n",
       "    </tr>\n",
       "    <tr>\n",
       "      <th>11</th>\n",
       "      <td>sample:d015cfca-e047-40bc-baab-423e87fa2618</td>\n",
       "      <td>Fm-3m</td>\n",
       "      <td>4</td>\n",
       "    </tr>\n",
       "    <tr>\n",
       "      <th>12</th>\n",
       "      <td>sample:fb01a7f2-8984-442b-a32e-15321c4fa99b</td>\n",
       "      <td>Fm-3m</td>\n",
       "      <td>4</td>\n",
       "    </tr>\n",
       "    <tr>\n",
       "      <th>13</th>\n",
       "      <td>sample:aef7472e-7577-4256-8422-6ba77a954ce1</td>\n",
       "      <td>Fm-3m</td>\n",
       "      <td>4</td>\n",
       "    </tr>\n",
       "  </tbody>\n",
       "</table>\n",
       "</div>"
      ],
      "text/plain": [
       "                              AtomicScaleSample hasSpaceGroupSymbolvalue  \\\n",
       "0   sample:10ffd2cc-9e92-4f04-896d-d6c0fdb9e55f                    Pm-3m   \n",
       "1   sample:286c3974-962b-4333-a2bb-d164ae645454                    Fm-3m   \n",
       "2   sample:8fc8e47b-acee-40f8-bcbf-fc298cc31f05                    Fm-3m   \n",
       "3   sample:9f0f48d1-5ebf-4f7a-b241-5e7aa273f5a0                    Fm-3m   \n",
       "4   sample:e54c0e91-52ec-4c47-8ba3-43979a1ebe2e                    Fm-3m   \n",
       "5   sample:1f6b1b0f-446a-4ad8-877e-d2e6176797df                    Fm-3m   \n",
       "6   sample:67be61c7-f9c7-4d46-a61d-5350fd0ee246                    Fm-3m   \n",
       "7   sample:721b7447-8363-4e65-9515-9da2581d7124                    Fm-3m   \n",
       "8   sample:a3cf6d97-c922-4c4d-8517-e784df83b71e                    Fm-3m   \n",
       "9   sample:ab2bea57-39ea-49ea-ad3f-c1c40b013154                    Fm-3m   \n",
       "10  sample:b1f52dc6-5c92-428f-8f7a-78794fd0544c                    Fm-3m   \n",
       "11  sample:d015cfca-e047-40bc-baab-423e87fa2618                    Fm-3m   \n",
       "12  sample:fb01a7f2-8984-442b-a32e-15321c4fa99b                    Fm-3m   \n",
       "13  sample:aef7472e-7577-4256-8422-6ba77a954ce1                    Fm-3m   \n",
       "\n",
       "   hasNumberOfAtomsvalue  \n",
       "0                      4  \n",
       "1                      4  \n",
       "2                      4  \n",
       "3                      4  \n",
       "4                      4  \n",
       "5                      4  \n",
       "6                      4  \n",
       "7                      4  \n",
       "8                      4  \n",
       "9                      4  \n",
       "10                     4  \n",
       "11                     4  \n",
       "12                     4  \n",
       "13                     4  "
      ]
     },
     "execution_count": 11,
     "metadata": {},
     "output_type": "execute_result"
    }
   ],
   "source": [
    "onto.query(kg, onto.terms.cmso.AtomicScaleSample, [onto.terms.cmso.hasSpaceGroupSymbol, onto.terms.cmso.hasNumberOfAtoms==4])"
   ]
  },
  {
   "cell_type": "markdown",
   "metadata": {},
   "source": [
    "Now the building of such a query programmatically is discussed. The function needs a source and destination(s). Destination can include conditions attached to it, for example, that numbers of atoms. The first thing to do is to find the right terms. For this, we can use the tab completion feature."
   ]
  },
  {
   "cell_type": "code",
   "execution_count": 12,
   "metadata": {},
   "outputs": [
    {
     "data": {
      "text/plain": [
       "cmso, qudt, pldo, podo, asmo, prov, calculation, ldo, rdf, rdfs"
      ]
     },
     "execution_count": 12,
     "metadata": {},
     "output_type": "execute_result"
    }
   ],
   "source": [
    "onto.terms"
   ]
  },
  {
   "cell_type": "markdown",
   "metadata": {},
   "source": [
    "Those are all the ontologies, with the terms we use. One can go deeper down"
   ]
  },
  {
   "cell_type": "code",
   "execution_count": 13,
   "metadata": {},
   "outputs": [
    {
     "data": {
      "text/plain": [
       "AmorphousMaterial, Angle, Atom, AtomAttribute, AtomicForce, AtomicPosition, AtomicScaleSample, AtomicVelocity, Basis, CalculatedProperty, ChemicalComposition, ChemicalElement, ChemicalSpecies, ComputationalSample, CoordinationNumber, CrystalDefect, CrystalStructure, CrystallineMaterial, LatticeAngle, LatticeParameter, LatticePlane, LatticeVector, Length, MacroscaleSample, Material, MesoscaleSample, MicroscaleSample, Microstructure, Molecule, NanoscaleSample, NormalVector, Occupancy, Plane, SimulationCell, SimulationCellAngle, SimulationCellLength, SimulationCellVector, SpaceGroup, Structure, UnitCell, Vector, hasAngle, hasAttribute, hasBasis, hasCalculatedProperty, hasDefect, hasElement, hasLatticeParameter, hasLength, hasMaterial, hasNormalVector, hasSimulationCell, hasSpaceGroup, hasSpecies, hasStructure, hasUnit, hasUnitCell, hasVector, isCalculatedPropertyOf, isDefectOf, isMaterialOf, hasAltName, hasAngle_alpha, hasAngle_beta, hasAngle_gamma, hasAtomicPercent, hasBravaisLattice, hasChemicalSymbol, hasComponent_x, hasComponent_y, hasComponent_z, hasDistanceFromOrigin, hasElementRatio, hasIdentifier, hasLength_x, hasLength_y, hasLength_z, hasName, hasNumberOfAtoms, hasPath, hasReference, hasRepetition_x, hasRepetition_y, hasRepetition_z, hasSpaceGroupNumber, hasSpaceGroupSymbol, hasSymbol, hasValue, hasVolume, hasWeightPercent"
      ]
     },
     "execution_count": 13,
     "metadata": {},
     "output_type": "execute_result"
    }
   ],
   "source": [
    "onto.terms.cmso"
   ]
  },
  {
   "cell_type": "markdown",
   "metadata": {},
   "source": [
    "And further select terms from there."
   ]
  },
  {
   "cell_type": "code",
   "execution_count": 14,
   "metadata": {},
   "outputs": [
    {
     "data": {
      "text/plain": [
       "cmso:AtomicScaleSample\n",
       "Atomic scale sample is a computational sample in the atomic length scale."
      ]
     },
     "execution_count": 14,
     "metadata": {},
     "output_type": "execute_result"
    }
   ],
   "source": [
    "onto.terms.cmso.AtomicScaleSample"
   ]
  },
  {
   "cell_type": "markdown",
   "metadata": {},
   "source": [
    "Domains and ranges can also be checked"
   ]
  },
  {
   "cell_type": "code",
   "execution_count": 15,
   "metadata": {},
   "outputs": [
    {
     "data": {
      "text/plain": [
       "(['cmso:CrystalStructure'], ['string'])"
      ]
     },
     "execution_count": 15,
     "metadata": {},
     "output_type": "execute_result"
    }
   ],
   "source": [
    "onto.terms.cmso.hasSpaceGroupSymbol.domain, onto.terms.cmso.hasSpaceGroupSymbol.range"
   ]
  },
  {
   "cell_type": "markdown",
   "metadata": {},
   "source": [
    "## PMDcore ontology"
   ]
  },
  {
   "cell_type": "code",
   "execution_count": 2,
   "metadata": {},
   "outputs": [],
   "source": [
    "pmdco = OntologyNetwork('pmd_2_ontology.ttl',format='ttl')"
   ]
  },
  {
   "cell_type": "code",
   "execution_count": 5,
   "metadata": {},
   "outputs": [
    {
     "name": "stdout",
     "output_type": "stream",
     "text": [
      "PREFIX rdf: <http://www.w3.org/1999/02/22-rdf-syntax-ns#>\n",
      "PREFIX co: <https://w3id.org/pmd/co/>\n",
      "SELECT DISTINCT ?TestPiece ?valuevalue\n",
      "WHERE {\n",
      "    ?TestPiece co:characteristic ?co_ValueObject .\n",
      "    ?co_ValueObject co:value ?valuevalue .\n",
      "    ?TestPiece rdf:type co:TestPiece .\n",
      "}\n"
     ]
    }
   ],
   "source": [
    "print (pmdco.create_query(pmdco.terms.co.TestPiece, pmdco.terms.co.value)[0])"
   ]
  },
  {
   "cell_type": "code",
   "execution_count": 6,
   "metadata": {},
   "outputs": [
    {
     "ename": "ValueError",
     "evalue": "No common classes found in the domains of the object properties.",
     "output_type": "error",
     "traceback": [
      "\u001b[31m---------------------------------------------------------------------------\u001b[39m",
      "\u001b[31mValueError\u001b[39m                                Traceback (most recent call last)",
      "\u001b[36mCell\u001b[39m\u001b[36m \u001b[39m\u001b[32mIn[6]\u001b[39m\u001b[32m, line 1\u001b[39m\n\u001b[32m----> \u001b[39m\u001b[32m1\u001b[39m \u001b[38;5;28mprint\u001b[39m (\u001b[43mpmdco\u001b[49m\u001b[43m.\u001b[49m\u001b[43mcreate_query\u001b[49m\u001b[43m(\u001b[49m\u001b[43m[\u001b[49m\u001b[43mpmdco\u001b[49m\u001b[43m.\u001b[49m\u001b[43mterms\u001b[49m\u001b[43m.\u001b[49m\u001b[43mco\u001b[49m\u001b[43m.\u001b[49m\u001b[43minput\u001b[49m\u001b[43m,\u001b[49m\u001b[43mpmdco\u001b[49m\u001b[43m.\u001b[49m\u001b[43mterms\u001b[49m\u001b[43m.\u001b[49m\u001b[43mco\u001b[49m\u001b[43m.\u001b[49m\u001b[43mcharacteristic\u001b[49m\u001b[43m]\u001b[49m\u001b[43m,\u001b[49m\u001b[43m \u001b[49m\u001b[43mpmdco\u001b[49m\u001b[43m.\u001b[49m\u001b[43mterms\u001b[49m\u001b[43m.\u001b[49m\u001b[43mco\u001b[49m\u001b[43m.\u001b[49m\u001b[43mvalue\u001b[49m\u001b[43m)\u001b[49m[\u001b[32m0\u001b[39m])\n",
      "\u001b[36mFile \u001b[39m\u001b[32m~/miniconda3/envs/tools4rdf/lib/python3.11/site-packages/tools4rdf/network/network.py:167\u001b[39m, in \u001b[36mNetwork.create_query\u001b[39m\u001b[34m(self, source, destinations, enforce_types)\u001b[39m\n\u001b[32m    165\u001b[39m common_classes = [\u001b[38;5;28mself\u001b[39m.onto.attributes[\u001b[33m\"\u001b[39m\u001b[33mclass\u001b[39m\u001b[33m\"\u001b[39m][x] \u001b[38;5;28;01mfor\u001b[39;00m x \u001b[38;5;129;01min\u001b[39;00m common_classes]\n\u001b[32m    166\u001b[39m \u001b[38;5;28;01mif\u001b[39;00m \u001b[38;5;28mlen\u001b[39m(common_classes) == \u001b[32m0\u001b[39m:\n\u001b[32m--> \u001b[39m\u001b[32m167\u001b[39m     \u001b[38;5;28;01mraise\u001b[39;00m \u001b[38;5;167;01mValueError\u001b[39;00m(\n\u001b[32m    168\u001b[39m         \u001b[33m\"\u001b[39m\u001b[33mNo common classes found in the domains of the object properties.\u001b[39m\u001b[33m\"\u001b[39m\n\u001b[32m    169\u001b[39m     )\n\u001b[32m    171\u001b[39m \u001b[38;5;66;03m# now check classes; see if anython common classes are not there, if so add.\u001b[39;00m\n\u001b[32m    172\u001b[39m class_names = [c.name \u001b[38;5;28;01mfor\u001b[39;00m c \u001b[38;5;129;01min\u001b[39;00m classes]\n",
      "\u001b[31mValueError\u001b[39m: No common classes found in the domains of the object properties."
     ]
    }
   ],
   "source": [
    "print (pmdco.create_query([pmdco.terms.co.input,pmdco.terms.co.characteristic], pmdco.terms.co.value)[0])"
   ]
  },
  {
   "cell_type": "code",
   "execution_count": 7,
   "metadata": {},
   "outputs": [
    {
     "data": {
      "text/plain": [
       "[]"
      ]
     },
     "execution_count": 7,
     "metadata": {},
     "output_type": "execute_result"
    }
   ],
   "source": [
    "pmdco.terms.co.input.domain"
   ]
  }
 ],
 "metadata": {
  "kernelspec": {
   "display_name": "Python 3 (ipykernel)",
   "language": "python",
   "name": "python3"
  },
  "language_info": {
   "codemirror_mode": {
    "name": "ipython",
    "version": 3
   },
   "file_extension": ".py",
   "mimetype": "text/x-python",
   "name": "python",
   "nbconvert_exporter": "python",
   "pygments_lexer": "ipython3",
   "version": "3.11.11"
  }
 },
 "nbformat": 4,
 "nbformat_minor": 4
}
