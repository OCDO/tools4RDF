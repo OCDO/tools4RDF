{
 "cells": [
  {
   "cell_type": "markdown",
   "metadata": {},
   "source": [
    "# Advanced Query Building with tools4RDF\n",
    "\n",
    "This notebook builds on the previous tutorial by introducing more powerful query-building features, including comparison operators and logical composition. These capabilities allow you to construct sophisticated SPARQL queries using intuitive Python syntax."
   ]
  },
  {
   "cell_type": "markdown",
   "metadata": {},
   "source": [
    "## Setup\n",
    "\n",
    "Once again, we'll use the Pizza ontology and a pre-loaded RDF knowledge graph."
   ]
  },
  {
   "cell_type": "code",
   "execution_count": 1,
   "metadata": {},
   "outputs": [],
   "source": [
    "from tools4rdf.network.network import OntologyNetwork\n",
    "from rdflib import Graph"
   ]
  },
  {
   "cell_type": "code",
   "execution_count": 2,
   "metadata": {},
   "outputs": [],
   "source": [
    "onto = OntologyNetwork(\"pizza.owl\")"
   ]
  },
  {
   "cell_type": "code",
   "execution_count": 3,
   "metadata": {},
   "outputs": [
    {
     "data": {
      "text/plain": [
       "<Graph identifier=Na7fa575ddb224911b10ad2833681f0aa (<class 'rdflib.graph.Graph'>)>"
      ]
     },
     "execution_count": 3,
     "metadata": {},
     "output_type": "execute_result"
    }
   ],
   "source": [
    "g = Graph()\n",
    "g.parse(\"pizza_kg.ttl\", format=\"ttl\")"
   ]
  },
  {
   "cell_type": "markdown",
   "metadata": {},
   "source": [
    "## Comparison Operators\n",
    "\n",
    "`tools4RDF` supports all standard comparison operators: `<`, `>`, `<=`, `>=`, and `==`. These operators enable you to add conditional filters to your SPARQL queries in a Pythonic way."
   ]
  },
  {
   "cell_type": "markdown",
   "metadata": {},
   "source": [
    "### Baseline Query\n",
    "\n",
    "Let's start with a simple query to find all Food items and their prices:"
   ]
  },
  {
   "cell_type": "code",
   "execution_count": 4,
   "metadata": {},
   "outputs": [
    {
     "data": {
      "text/html": [
       "<div>\n",
       "<style scoped>\n",
       "    .dataframe tbody tr th:only-of-type {\n",
       "        vertical-align: middle;\n",
       "    }\n",
       "\n",
       "    .dataframe tbody tr th {\n",
       "        vertical-align: top;\n",
       "    }\n",
       "\n",
       "    .dataframe thead th {\n",
       "        text-align: right;\n",
       "    }\n",
       "</style>\n",
       "<table border=\"1\" class=\"dataframe\">\n",
       "  <thead>\n",
       "    <tr style=\"text-align: right;\">\n",
       "      <th></th>\n",
       "      <th>Food</th>\n",
       "      <th>hasPricevalue</th>\n",
       "    </tr>\n",
       "  </thead>\n",
       "  <tbody>\n",
       "    <tr>\n",
       "      <th>0</th>\n",
       "      <td>American:245aa2f1</td>\n",
       "      <td>10.0</td>\n",
       "    </tr>\n",
       "    <tr>\n",
       "      <th>1</th>\n",
       "      <td>AmericanHot:81efd537</td>\n",
       "      <td>11.5</td>\n",
       "    </tr>\n",
       "    <tr>\n",
       "      <th>2</th>\n",
       "      <td>Pizza:bec7e5f2</td>\n",
       "      <td>11.5</td>\n",
       "    </tr>\n",
       "    <tr>\n",
       "      <th>3</th>\n",
       "      <td>IceCream:b992bbd1</td>\n",
       "      <td>7.0</td>\n",
       "    </tr>\n",
       "    <tr>\n",
       "      <th>4</th>\n",
       "      <td>Margherita:3cfeae45</td>\n",
       "      <td>8.99</td>\n",
       "    </tr>\n",
       "    <tr>\n",
       "      <th>5</th>\n",
       "      <td>Margherita:e424656a</td>\n",
       "      <td>9.5</td>\n",
       "    </tr>\n",
       "    <tr>\n",
       "      <th>6</th>\n",
       "      <td>Mushroom:b6b736c9</td>\n",
       "      <td>11.0</td>\n",
       "    </tr>\n",
       "    <tr>\n",
       "      <th>7</th>\n",
       "      <td>Pizza:71307a5a</td>\n",
       "      <td>11.0</td>\n",
       "    </tr>\n",
       "    <tr>\n",
       "      <th>8</th>\n",
       "      <td>Pizza:f9f81adc</td>\n",
       "      <td>12.99</td>\n",
       "    </tr>\n",
       "  </tbody>\n",
       "</table>\n",
       "</div>"
      ],
      "text/plain": [
       "                   Food hasPricevalue\n",
       "0     American:245aa2f1          10.0\n",
       "1  AmericanHot:81efd537          11.5\n",
       "2        Pizza:bec7e5f2          11.5\n",
       "3     IceCream:b992bbd1           7.0\n",
       "4   Margherita:3cfeae45          8.99\n",
       "5   Margherita:e424656a           9.5\n",
       "6     Mushroom:b6b736c9          11.0\n",
       "7        Pizza:71307a5a          11.0\n",
       "8        Pizza:f9f81adc         12.99"
      ]
     },
     "execution_count": 4,
     "metadata": {},
     "output_type": "execute_result"
    }
   ],
   "source": [
    "q = onto.query(g, onto.terms.pizza.Food.any, onto.terms.pizza.hasPrice)\n",
    "q"
   ]
  },
  {
   "cell_type": "markdown",
   "metadata": {},
   "source": [
    "### Less Than Operator\n",
    "\n",
    "Now let's filter the results to show only Food items with a price less than 10:"
   ]
  },
  {
   "cell_type": "code",
   "execution_count": 5,
   "metadata": {},
   "outputs": [
    {
     "data": {
      "text/html": [
       "<div>\n",
       "<style scoped>\n",
       "    .dataframe tbody tr th:only-of-type {\n",
       "        vertical-align: middle;\n",
       "    }\n",
       "\n",
       "    .dataframe tbody tr th {\n",
       "        vertical-align: top;\n",
       "    }\n",
       "\n",
       "    .dataframe thead th {\n",
       "        text-align: right;\n",
       "    }\n",
       "</style>\n",
       "<table border=\"1\" class=\"dataframe\">\n",
       "  <thead>\n",
       "    <tr style=\"text-align: right;\">\n",
       "      <th></th>\n",
       "      <th>Food</th>\n",
       "      <th>hasPricevalue</th>\n",
       "    </tr>\n",
       "  </thead>\n",
       "  <tbody>\n",
       "    <tr>\n",
       "      <th>0</th>\n",
       "      <td>IceCream:b992bbd1</td>\n",
       "      <td>7.0</td>\n",
       "    </tr>\n",
       "    <tr>\n",
       "      <th>1</th>\n",
       "      <td>Margherita:3cfeae45</td>\n",
       "      <td>8.99</td>\n",
       "    </tr>\n",
       "    <tr>\n",
       "      <th>2</th>\n",
       "      <td>Margherita:e424656a</td>\n",
       "      <td>9.5</td>\n",
       "    </tr>\n",
       "  </tbody>\n",
       "</table>\n",
       "</div>"
      ],
      "text/plain": [
       "                  Food hasPricevalue\n",
       "0    IceCream:b992bbd1           7.0\n",
       "1  Margherita:3cfeae45          8.99\n",
       "2  Margherita:e424656a           9.5"
      ]
     },
     "execution_count": 5,
     "metadata": {},
     "output_type": "execute_result"
    }
   ],
   "source": [
    "q = onto.query(g, onto.terms.pizza.Food.any, onto.terms.pizza.hasPrice < 10)\n",
    "q"
   ]
  },
  {
   "cell_type": "markdown",
   "metadata": {},
   "source": [
    "### Equality Operator\n",
    "\n",
    "The other comparison operators work in the same way. For example, let's find Food items with a price equal to 10:"
   ]
  },
  {
   "cell_type": "code",
   "execution_count": 6,
   "metadata": {},
   "outputs": [
    {
     "data": {
      "text/html": [
       "<div>\n",
       "<style scoped>\n",
       "    .dataframe tbody tr th:only-of-type {\n",
       "        vertical-align: middle;\n",
       "    }\n",
       "\n",
       "    .dataframe tbody tr th {\n",
       "        vertical-align: top;\n",
       "    }\n",
       "\n",
       "    .dataframe thead th {\n",
       "        text-align: right;\n",
       "    }\n",
       "</style>\n",
       "<table border=\"1\" class=\"dataframe\">\n",
       "  <thead>\n",
       "    <tr style=\"text-align: right;\">\n",
       "      <th></th>\n",
       "      <th>Food</th>\n",
       "      <th>hasPricevalue</th>\n",
       "    </tr>\n",
       "  </thead>\n",
       "  <tbody>\n",
       "    <tr>\n",
       "      <th>0</th>\n",
       "      <td>American:245aa2f1</td>\n",
       "      <td>10.0</td>\n",
       "    </tr>\n",
       "  </tbody>\n",
       "</table>\n",
       "</div>"
      ],
      "text/plain": [
       "                Food hasPricevalue\n",
       "0  American:245aa2f1          10.0"
      ]
     },
     "execution_count": 6,
     "metadata": {},
     "output_type": "execute_result"
    }
   ],
   "source": [
    "q = onto.query(g, onto.terms.pizza.Food.any, onto.terms.pizza.hasPrice == 10)\n",
    "q"
   ]
  },
  {
   "cell_type": "markdown",
   "metadata": {},
   "source": [
    "## Logical Operators\n",
    "\n",
    "`tools4RDF` supports logical operators `&` (AND) and `|` (OR) to combine multiple conditions. This allows you to build complex filters by composing simple comparison operations."
   ]
  },
  {
   "cell_type": "markdown",
   "metadata": {},
   "source": [
    "### AND Operator\n",
    "\n",
    "For example, let's find Food items with a price between 10 and 11 (inclusive):"
   ]
  },
  {
   "cell_type": "code",
   "execution_count": 8,
   "metadata": {},
   "outputs": [
    {
     "data": {
      "text/html": [
       "<div>\n",
       "<style scoped>\n",
       "    .dataframe tbody tr th:only-of-type {\n",
       "        vertical-align: middle;\n",
       "    }\n",
       "\n",
       "    .dataframe tbody tr th {\n",
       "        vertical-align: top;\n",
       "    }\n",
       "\n",
       "    .dataframe thead th {\n",
       "        text-align: right;\n",
       "    }\n",
       "</style>\n",
       "<table border=\"1\" class=\"dataframe\">\n",
       "  <thead>\n",
       "    <tr style=\"text-align: right;\">\n",
       "      <th></th>\n",
       "      <th>Food</th>\n",
       "      <th>hasPricevalue</th>\n",
       "    </tr>\n",
       "  </thead>\n",
       "  <tbody>\n",
       "    <tr>\n",
       "      <th>0</th>\n",
       "      <td>American:245aa2f1</td>\n",
       "      <td>10.0</td>\n",
       "    </tr>\n",
       "    <tr>\n",
       "      <th>1</th>\n",
       "      <td>Mushroom:b6b736c9</td>\n",
       "      <td>11.0</td>\n",
       "    </tr>\n",
       "    <tr>\n",
       "      <th>2</th>\n",
       "      <td>Pizza:71307a5a</td>\n",
       "      <td>11.0</td>\n",
       "    </tr>\n",
       "  </tbody>\n",
       "</table>\n",
       "</div>"
      ],
      "text/plain": [
       "                Food hasPricevalue\n",
       "0  American:245aa2f1          10.0\n",
       "1  Mushroom:b6b736c9          11.0\n",
       "2     Pizza:71307a5a          11.0"
      ]
     },
     "execution_count": 8,
     "metadata": {},
     "output_type": "execute_result"
    }
   ],
   "source": [
    "q = onto.query(g, onto.terms.pizza.Food.any, \n",
    "               ((onto.terms.pizza.hasPrice >= 10) & (onto.terms.pizza.hasPrice <= 11)))\n",
    "q"
   ]
  },
  {
   "cell_type": "markdown",
   "metadata": {},
   "source": [
    "### OR Operator\n",
    "\n",
    "The OR operator (`|`) allows you to match items that satisfy at least one of the specified conditions. Let's find Food items with a price less than 9 OR greater than 11:"
   ]
  },
  {
   "cell_type": "code",
   "execution_count": 10,
   "metadata": {},
   "outputs": [
    {
     "data": {
      "text/html": [
       "<div>\n",
       "<style scoped>\n",
       "    .dataframe tbody tr th:only-of-type {\n",
       "        vertical-align: middle;\n",
       "    }\n",
       "\n",
       "    .dataframe tbody tr th {\n",
       "        vertical-align: top;\n",
       "    }\n",
       "\n",
       "    .dataframe thead th {\n",
       "        text-align: right;\n",
       "    }\n",
       "</style>\n",
       "<table border=\"1\" class=\"dataframe\">\n",
       "  <thead>\n",
       "    <tr style=\"text-align: right;\">\n",
       "      <th></th>\n",
       "      <th>Food</th>\n",
       "      <th>hasPricevalue</th>\n",
       "    </tr>\n",
       "  </thead>\n",
       "  <tbody>\n",
       "    <tr>\n",
       "      <th>0</th>\n",
       "      <td>AmericanHot:81efd537</td>\n",
       "      <td>11.5</td>\n",
       "    </tr>\n",
       "    <tr>\n",
       "      <th>1</th>\n",
       "      <td>Pizza:bec7e5f2</td>\n",
       "      <td>11.5</td>\n",
       "    </tr>\n",
       "    <tr>\n",
       "      <th>2</th>\n",
       "      <td>IceCream:b992bbd1</td>\n",
       "      <td>7.0</td>\n",
       "    </tr>\n",
       "    <tr>\n",
       "      <th>3</th>\n",
       "      <td>Margherita:3cfeae45</td>\n",
       "      <td>8.99</td>\n",
       "    </tr>\n",
       "    <tr>\n",
       "      <th>4</th>\n",
       "      <td>Pizza:f9f81adc</td>\n",
       "      <td>12.99</td>\n",
       "    </tr>\n",
       "  </tbody>\n",
       "</table>\n",
       "</div>"
      ],
      "text/plain": [
       "                   Food hasPricevalue\n",
       "0  AmericanHot:81efd537          11.5\n",
       "1        Pizza:bec7e5f2          11.5\n",
       "2     IceCream:b992bbd1           7.0\n",
       "3   Margherita:3cfeae45          8.99\n",
       "4        Pizza:f9f81adc         12.99"
      ]
     },
     "execution_count": 10,
     "metadata": {},
     "output_type": "execute_result"
    }
   ],
   "source": [
    "q = onto.query(g, onto.terms.pizza.Food.any, \n",
    "               ((onto.terms.pizza.hasPrice < 9) | (onto.terms.pizza.hasPrice > 11)))\n",
    "q"
   ]
  },
  {
   "cell_type": "markdown",
   "metadata": {},
   "source": [
    "## Combining Multiple Properties and Conditions\n",
    "\n",
    "One of the most powerful features of `tools4RDF` is the ability to combine queries across multiple properties with different conditions. This enables you to express complex queries that would otherwise require intricate SPARQL syntax."
   ]
  },
  {
   "cell_type": "markdown",
   "metadata": {},
   "source": [
    "### Querying Multiple Properties\n",
    "\n",
    "You can pass multiple destination terms to the query function. For example, let's find Pizza items and both their prices and calorific content values:"
   ]
  },
  {
   "cell_type": "code",
   "execution_count": 26,
   "metadata": {},
   "outputs": [
    {
     "data": {
      "text/html": [
       "<div>\n",
       "<style scoped>\n",
       "    .dataframe tbody tr th:only-of-type {\n",
       "        vertical-align: middle;\n",
       "    }\n",
       "\n",
       "    .dataframe tbody tr th {\n",
       "        vertical-align: top;\n",
       "    }\n",
       "\n",
       "    .dataframe thead th {\n",
       "        text-align: right;\n",
       "    }\n",
       "</style>\n",
       "<table border=\"1\" class=\"dataframe\">\n",
       "  <thead>\n",
       "    <tr style=\"text-align: right;\">\n",
       "      <th></th>\n",
       "      <th>Pizza</th>\n",
       "      <th>hasPricevalue</th>\n",
       "      <th>hasCalorificContentValuevalue</th>\n",
       "    </tr>\n",
       "  </thead>\n",
       "  <tbody>\n",
       "    <tr>\n",
       "      <th>0</th>\n",
       "      <td>American:245aa2f1</td>\n",
       "      <td>10.0</td>\n",
       "      <td>1292.0</td>\n",
       "    </tr>\n",
       "    <tr>\n",
       "      <th>1</th>\n",
       "      <td>AmericanHot:81efd537</td>\n",
       "      <td>11.5</td>\n",
       "      <td>1321.0</td>\n",
       "    </tr>\n",
       "    <tr>\n",
       "      <th>2</th>\n",
       "      <td>Margherita:3cfeae45</td>\n",
       "      <td>8.99</td>\n",
       "      <td>848.0</td>\n",
       "    </tr>\n",
       "    <tr>\n",
       "      <th>3</th>\n",
       "      <td>Margherita:e424656a</td>\n",
       "      <td>9.5</td>\n",
       "      <td>898.0</td>\n",
       "    </tr>\n",
       "    <tr>\n",
       "      <th>4</th>\n",
       "      <td>Mushroom:b6b736c9</td>\n",
       "      <td>11.0</td>\n",
       "      <td>820.0</td>\n",
       "    </tr>\n",
       "    <tr>\n",
       "      <th>5</th>\n",
       "      <td>Pizza:71307a5a</td>\n",
       "      <td>11.0</td>\n",
       "      <td>838.0</td>\n",
       "    </tr>\n",
       "    <tr>\n",
       "      <th>6</th>\n",
       "      <td>Pizza:bec7e5f2</td>\n",
       "      <td>11.5</td>\n",
       "      <td>960.0</td>\n",
       "    </tr>\n",
       "    <tr>\n",
       "      <th>7</th>\n",
       "      <td>Pizza:f9f81adc</td>\n",
       "      <td>12.99</td>\n",
       "      <td>824.0</td>\n",
       "    </tr>\n",
       "  </tbody>\n",
       "</table>\n",
       "</div>"
      ],
      "text/plain": [
       "                  Pizza hasPricevalue hasCalorificContentValuevalue\n",
       "0     American:245aa2f1          10.0                        1292.0\n",
       "1  AmericanHot:81efd537          11.5                        1321.0\n",
       "2   Margherita:3cfeae45          8.99                         848.0\n",
       "3   Margherita:e424656a           9.5                         898.0\n",
       "4     Mushroom:b6b736c9          11.0                         820.0\n",
       "5        Pizza:71307a5a          11.0                         838.0\n",
       "6        Pizza:bec7e5f2          11.5                         960.0\n",
       "7        Pizza:f9f81adc         12.99                         824.0"
      ]
     },
     "execution_count": 26,
     "metadata": {},
     "output_type": "execute_result"
    }
   ],
   "source": [
    "q = onto.query(g, onto.terms.pizza.Pizza, \n",
    "               [onto.terms.pizza.hasPrice,\n",
    "               onto.terms.pizza.hasCalorificContentValue,]\n",
    "            )\n",
    "q"
   ]
  },
  {
   "cell_type": "markdown",
   "metadata": {},
   "source": [
    "### Combining Conditions on Multiple Properties\n",
    "\n",
    "Now let's apply different conditions to multiple properties. For example, find Pizza items with a price less than or equal to 10 AND calorific content greater than 1000:"
   ]
  },
  {
   "cell_type": "code",
   "execution_count": 19,
   "metadata": {},
   "outputs": [
    {
     "data": {
      "text/html": [
       "<div>\n",
       "<style scoped>\n",
       "    .dataframe tbody tr th:only-of-type {\n",
       "        vertical-align: middle;\n",
       "    }\n",
       "\n",
       "    .dataframe tbody tr th {\n",
       "        vertical-align: top;\n",
       "    }\n",
       "\n",
       "    .dataframe thead th {\n",
       "        text-align: right;\n",
       "    }\n",
       "</style>\n",
       "<table border=\"1\" class=\"dataframe\">\n",
       "  <thead>\n",
       "    <tr style=\"text-align: right;\">\n",
       "      <th></th>\n",
       "      <th>Pizza</th>\n",
       "      <th>hasPricevalue</th>\n",
       "      <th>hasCalorificContentValuevalue</th>\n",
       "    </tr>\n",
       "  </thead>\n",
       "  <tbody>\n",
       "    <tr>\n",
       "      <th>0</th>\n",
       "      <td>American:245aa2f1</td>\n",
       "      <td>10.0</td>\n",
       "      <td>1292.0</td>\n",
       "    </tr>\n",
       "  </tbody>\n",
       "</table>\n",
       "</div>"
      ],
      "text/plain": [
       "               Pizza hasPricevalue hasCalorificContentValuevalue\n",
       "0  American:245aa2f1          10.0                        1292.0"
      ]
     },
     "execution_count": 19,
     "metadata": {},
     "output_type": "execute_result"
    }
   ],
   "source": [
    "q = onto.query(g, onto.terms.pizza.Pizza, \n",
    "               ((onto.terms.pizza.hasPrice <= 10) & (onto.terms.pizza.hasCalorificContentValue > 1000))\n",
    "            )\n",
    "q"
   ]
  },
  {
   "cell_type": "markdown",
   "metadata": {},
   "source": [
    "### Complex Nested Conditions\n",
    "\n",
    "You can create sophisticated queries by nesting logical operators. For example, let's find Pizza items in the \"sweet spot\" with a price between 10-11 AND calorific content greater than 1000:"
   ]
  },
  {
   "cell_type": "code",
   "execution_count": 23,
   "metadata": {},
   "outputs": [
    {
     "data": {
      "text/html": [
       "<div>\n",
       "<style scoped>\n",
       "    .dataframe tbody tr th:only-of-type {\n",
       "        vertical-align: middle;\n",
       "    }\n",
       "\n",
       "    .dataframe tbody tr th {\n",
       "        vertical-align: top;\n",
       "    }\n",
       "\n",
       "    .dataframe thead th {\n",
       "        text-align: right;\n",
       "    }\n",
       "</style>\n",
       "<table border=\"1\" class=\"dataframe\">\n",
       "  <thead>\n",
       "    <tr style=\"text-align: right;\">\n",
       "      <th></th>\n",
       "      <th>Pizza</th>\n",
       "      <th>hasPricevalue</th>\n",
       "      <th>hasCalorificContentValuevalue</th>\n",
       "    </tr>\n",
       "  </thead>\n",
       "  <tbody>\n",
       "    <tr>\n",
       "      <th>0</th>\n",
       "      <td>American:245aa2f1</td>\n",
       "      <td>10.0</td>\n",
       "      <td>1292.0</td>\n",
       "    </tr>\n",
       "  </tbody>\n",
       "</table>\n",
       "</div>"
      ],
      "text/plain": [
       "               Pizza hasPricevalue hasCalorificContentValuevalue\n",
       "0  American:245aa2f1          10.0                        1292.0"
      ]
     },
     "execution_count": 23,
     "metadata": {},
     "output_type": "execute_result"
    }
   ],
   "source": [
    "\n",
    "condition = ((onto.terms.pizza.hasPrice >= 10) & (onto.terms.pizza.hasPrice <= 11) & (onto.terms.pizza.hasCalorificContentValue > 1000))\n",
    "\n",
    "q = onto.query(g, onto.terms.pizza.Pizza, \n",
    "               (condition)\n",
    "            )\n",
    "q"
   ]
  },
  {
   "cell_type": "markdown",
   "metadata": {},
   "source": [
    "We can of course check how the actual SPARQL query looks like:"
   ]
  },
  {
   "cell_type": "code",
   "execution_count": null,
   "metadata": {},
   "outputs": [
    {
     "name": "stdout",
     "output_type": "stream",
     "text": [
      "PREFIX pizza: <https://example.org/pizza#>\n",
      "PREFIX rdf: <http://www.w3.org/1999/02/22-rdf-syntax-ns#>\n",
      "SELECT DISTINCT ?Pizza ?hasPricevalue ?hasCalorificContentValuevalue\n",
      "WHERE {\n",
      "    ?Pizza pizza:hasPrice ?hasPricevalue .\n",
      "    ?Pizza pizza:hasCalorificContentValue ?hasCalorificContentValuevalue .\n",
      "   { ?Pizza rdf:type pizza:Pizza . }\n",
      "    UNION    \n",
      "   { ?Pizza rdf:type pizza:NamedPizza . }\n",
      "    UNION    \n",
      "   { ?Pizza rdf:type pizza:American . }\n",
      "    UNION    \n",
      "   { ?Pizza rdf:type pizza:AmericanHot . }\n",
      "    UNION    \n",
      "   { ?Pizza rdf:type pizza:Cajun . }\n",
      "    UNION    \n",
      "   { ?Pizza rdf:type pizza:Capricciosa . }\n",
      "    UNION    \n",
      "   { ?Pizza rdf:type pizza:Caprina . }\n",
      "    UNION    \n",
      "   { ?Pizza rdf:type pizza:Fiorentina . }\n",
      "    UNION    \n",
      "   { ?Pizza rdf:type pizza:FourSeasons . }\n",
      "    UNION    \n",
      "   { ?Pizza rdf:type pizza:FruttiDiMare . }\n",
      "    UNION    \n",
      "   { ?Pizza rdf:type pizza:Giardiniera . }\n",
      "    UNION    \n",
      "   { ?Pizza rdf:type pizza:LaReine . }\n",
      "    UNION    \n",
      "   { ?Pizza rdf:type pizza:Margherita . }\n",
      "    UNION    \n",
      "   { ?Pizza rdf:type pizza:Mushroom . }\n",
      "    UNION    \n",
      "   { ?Pizza rdf:type pizza:Napoletana . }\n",
      "    UNION    \n",
      "   { ?Pizza rdf:type pizza:Parmense . }\n",
      "    UNION    \n",
      "   { ?Pizza rdf:type pizza:PolloAdAstra . }\n",
      "    UNION    \n",
      "   { ?Pizza rdf:type pizza:PrinceCarlo . }\n",
      "    UNION    \n",
      "   { ?Pizza rdf:type pizza:QuattroFormaggi . }\n",
      "    UNION    \n",
      "   { ?Pizza rdf:type pizza:Rosa . }\n",
      "    UNION    \n",
      "   { ?Pizza rdf:type pizza:Siciliana . }\n",
      "    UNION    \n",
      "   { ?Pizza rdf:type pizza:SloppyGiuseppe . }\n",
      "    UNION    \n",
      "   { ?Pizza rdf:type pizza:Soho . }\n",
      "    UNION    \n",
      "   { ?Pizza rdf:type pizza:UnclosedPizza . }\n",
      "    UNION    \n",
      "   { ?Pizza rdf:type pizza:Veneziana . }\n",
      "FILTER (((?hasPricevalue>=\"10\"^^xsd:float)&&(?hasPricevalue<=\"11\"^^xsd:float))&&(?hasCalorificContentValuevalue>\"1000\"^^xsd:float))\n",
      "}\n"
     ]
    }
   ],
   "source": [
    "condition = ((onto.terms.pizza.hasPrice >= 10) & (onto.terms.pizza.hasPrice <= 11) & (onto.terms.pizza.hasCalorificContentValue > 1000))\n",
    "\n",
    "q = onto.create_query(onto.terms.pizza.Pizza, \n",
    "               (condition)\n",
    "            )\n",
    "print(q)"
   ]
  },
  {
   "cell_type": "markdown",
   "metadata": {},
   "source": [
    "## Working with Specific Class Selectors\n",
    "\n",
    "Remember from the previous notebook that you can control how classes and their hierarchies are queried. `tools4RDF` supports four different class selector patterns:\n",
    "\n",
    "- **`onto.terms.pizza.Pizza`** or **`onto.terms.pizza.Pizza.all_subtypes`**: Queries the class `Pizza` and all its subclasses (default behavior)\n",
    "- **`onto.terms.pizza.Pizza.any`**: Queries any entity that satisfies the predicate conditions, regardless of subclass hierarchy\n",
    "- **`onto.terms.pizza.Pizza.only`**: Queries only the exact class `Pizza`, excluding subclasses\n",
    "\n",
    "These selectors become particularly useful when combined with comparison operators and filters."
   ]
  },
  {
   "cell_type": "markdown",
   "metadata": {},
   "source": [
    "## Summary\n",
    "\n",
    "In this notebook, we explored advanced query-building capabilities in `tools4RDF`:\n",
    "\n",
    "1. **Comparison Operators**: Use `<`, `>`, `<=`, `>=`, and `==` to filter results based on property values\n",
    "2. **Logical Operators**: Combine conditions with `&` (AND) and `|` (OR) for complex filters\n",
    "3. **Multiple Properties**: Query multiple properties simultaneously  \n",
    "4. **Nested Conditions**: Build sophisticated queries by nesting logical operators for complex filtering logic\n",
    "5. **Class Selectors**: Control query behavior with `.all_subtypes`, `.any`, and `.only` to precisely target classes and hierarchies\n",
    "\n",
    "These features allow you to construct complex SPARQL queries using intuitive Python syntax, making knowledge graph querying more accessible without requiring deep SPARQL expertise."
   ]
  },
  {
   "cell_type": "markdown",
   "metadata": {},
   "source": []
  }
 ],
 "metadata": {
  "kernelspec": {
   "display_name": "tools4rdf",
   "language": "python",
   "name": "python3"
  },
  "language_info": {
   "codemirror_mode": {
    "name": "ipython",
    "version": 3
   },
   "file_extension": ".py",
   "mimetype": "text/x-python",
   "name": "python",
   "nbconvert_exporter": "python",
   "pygments_lexer": "ipython3",
   "version": "3.11.13"
  }
 },
 "nbformat": 4,
 "nbformat_minor": 4
}
