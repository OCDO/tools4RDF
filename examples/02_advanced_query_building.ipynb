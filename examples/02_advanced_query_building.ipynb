{
 "cells": [
  {
   "cell_type": "markdown",
   "metadata": {},
   "source": [
    "# Building complex queries and ontology networks\n",
    "\n",
    "This notebook builds on the previous one by introducing more expressive query-building features such as comparison operators, logical composition, and path resolution with semantic ontologies."
   ]
  },
  {
   "cell_type": "markdown",
   "metadata": {},
   "source": [
    "TO DO: change this to Pizza Ontology example"
   ]
  },
  {
   "cell_type": "code",
   "execution_count": 1,
   "metadata": {},
   "outputs": [],
   "source": [
    "from tools4rdf.network.ontology import read_ontology\n",
    "from rdflib import Graph"
   ]
  },
  {
   "cell_type": "code",
   "execution_count": 2,
   "metadata": {},
   "outputs": [],
   "source": [
    "onto = read_ontology()"
   ]
  },
  {
   "cell_type": "code",
   "execution_count": 3,
   "metadata": {},
   "outputs": [
    {
     "data": {
      "text/plain": [
       "<Graph identifier=Na4730e087d2641698162513edb40c7eb (<class 'rdflib.graph.Graph'>)>"
      ]
     },
     "execution_count": 3,
     "metadata": {},
     "output_type": "execute_result"
    }
   ],
   "source": [
    "#kg = KnowledgeGraph.unarchive('dataset.tar.gz')\n",
    "kg = Graph()\n",
    "kg.parse(\"dataset/triples\", format=\"turtle\")"
   ]
  },
  {
   "cell_type": "code",
   "execution_count": 11,
   "metadata": {},
   "outputs": [
    {
     "data": {
      "text/plain": [
       "brick, csvw, dc, dcat, dcmitype, dcterms, dcam, doap, foaf, geo, odrl, org, prof, prov, qb, schema, sh, skos, sosa, ssn, time, vann, void, wgs, owl, rdf, rdfs, xsd, xml, obo, asmo, calculation, cmso, pldo, podo, qudt, ldo"
      ]
     },
     "execution_count": 11,
     "metadata": {},
     "output_type": "execute_result"
    }
   ],
   "source": [
    "onto.terms"
   ]
  },
  {
   "cell_type": "markdown",
   "metadata": {},
   "source": [
    "Those are all the ontologies, with the terms we use. One can go deeper down"
   ]
  },
  {
   "cell_type": "code",
   "execution_count": 12,
   "metadata": {},
   "outputs": [
    {
     "data": {
      "text/plain": [
       "NormalVector, Length, SimulationCell, AmorphousMaterial, ComputationalSample, Basis, ChemicalElement, UnitCell, ChemicalComposition, CrystalDefect, MacroscaleSample, Microstructure, AtomicScaleSample, AtomicForce, ChemicalSpecies, SimulationCellLength, MicroscaleSample, LatticePlane, LatticeAngle, CalculatedProperty, LatticeParameter, Material, LatticeVector, NanoscaleSample, Atom, AtomAttribute, SpaceGroup, SimulationCellAngle, CrystallineMaterial, Plane, SimulationCellVector, Vector, Occupancy, Angle, CoordinationNumber, Structure, Molecule, CrystalStructure, AtomicPosition, AtomicVelocity, MesoscaleSample, hasAngle, hasBasis, hasStructure, hasUnitCell, hasLatticeParameter, hasElement, hasLength, hasDefect, hasSpecies, hasAttribute, isDefectOf, hasSpaceGroup, hasVector, hasNormalVector, hasUnit, hasSimulationCell, isCalculatedPropertyOf, hasMaterial, hasCalculatedProperty, isMaterialOf, hasLength_y, hasAtomicPercent, hasComponent_y, hasAngle_alpha, hasRepetition_x, hasReference, hasName, hasChemicalSymbol, hasLength_x, hasPath, hasBravaisLattice, hasDistanceFromOrigin, hasLength_z, hasComponent_z, hasComponent_x, hasRepetition_y, hasElementRatio, hasRepetition_z, hasSymbol, hasWeightPercent, hasValue, hasSpaceGroupSymbol, hasVolume, hasAltName, hasNumberOfAtoms, hasSpaceGroupNumber, hasIdentifier, hasAngle_gamma, hasAngle_beta"
      ]
     },
     "execution_count": 12,
     "metadata": {},
     "output_type": "execute_result"
    }
   ],
   "source": [
    "onto.terms.cmso"
   ]
  },
  {
   "cell_type": "markdown",
   "metadata": {},
   "source": [
    "And further select terms from there."
   ]
  },
  {
   "cell_type": "code",
   "execution_count": 13,
   "metadata": {},
   "outputs": [
    {
     "data": {
      "text/plain": [
       "cmso:AtomicScaleSample\n",
       "Atomic scale sample is a computational sample in the atomic length scale."
      ]
     },
     "execution_count": 13,
     "metadata": {},
     "output_type": "execute_result"
    }
   ],
   "source": [
    "onto.terms.cmso.AtomicScaleSample"
   ]
  },
  {
   "cell_type": "markdown",
   "metadata": {},
   "source": [
    "Domains and ranges can also be checked"
   ]
  },
  {
   "cell_type": "code",
   "execution_count": 14,
   "metadata": {},
   "outputs": [
    {
     "data": {
      "text/plain": [
       "(['cmso:CrystalStructure'], ['string'])"
      ]
     },
     "execution_count": 14,
     "metadata": {},
     "output_type": "execute_result"
    }
   ],
   "source": [
    "onto.terms.cmso.hasSpaceGroupSymbol.domain, onto.terms.cmso.hasSpaceGroupSymbol.range"
   ]
  },
  {
   "cell_type": "markdown",
   "metadata": {},
   "source": [
    "Applying constraints can be done through basic comparison operators"
   ]
  },
  {
   "cell_type": "markdown",
   "metadata": {},
   "source": [
    "## Basic comparison operations\n",
    "\n",
    "Basic operators such as <, >, <=, >=, and =="
   ]
  },
  {
   "cell_type": "markdown",
   "metadata": {},
   "source": [
    "These operations are useful for adding conditions to the SPARQL query. When these operations are performed on a term, it is stored in its condition string. No other changes are needed. "
   ]
  },
  {
   "cell_type": "code",
   "execution_count": 15,
   "metadata": {},
   "outputs": [
    {
     "data": {
      "text/plain": [
       "NormalVector, Length, SimulationCell, AmorphousMaterial, ComputationalSample, Basis, ChemicalElement, UnitCell, ChemicalComposition, CrystalDefect, MacroscaleSample, Microstructure, AtomicScaleSample, AtomicForce, ChemicalSpecies, SimulationCellLength, MicroscaleSample, LatticePlane, LatticeAngle, CalculatedProperty, LatticeParameter, Material, LatticeVector, NanoscaleSample, Atom, AtomAttribute, SpaceGroup, SimulationCellAngle, CrystallineMaterial, Plane, SimulationCellVector, Vector, Occupancy, Angle, CoordinationNumber, Structure, Molecule, CrystalStructure, AtomicPosition, AtomicVelocity, MesoscaleSample, hasAngle, hasBasis, hasStructure, hasUnitCell, hasLatticeParameter, hasElement, hasLength, hasDefect, hasSpecies, hasAttribute, isDefectOf, hasSpaceGroup, hasVector, hasNormalVector, hasUnit, hasSimulationCell, isCalculatedPropertyOf, hasMaterial, hasCalculatedProperty, isMaterialOf, hasLength_y, hasAtomicPercent, hasComponent_y, hasAngle_alpha, hasRepetition_x, hasReference, hasName, hasChemicalSymbol, hasLength_x, hasPath, hasBravaisLattice, hasDistanceFromOrigin, hasLength_z, hasComponent_z, hasComponent_x, hasRepetition_y, hasElementRatio, hasRepetition_z, hasSymbol, hasWeightPercent, hasValue, hasSpaceGroupSymbol, hasVolume, hasAltName, hasNumberOfAtoms, hasSpaceGroupNumber, hasIdentifier, hasAngle_gamma, hasAngle_beta"
      ]
     },
     "execution_count": 15,
     "metadata": {},
     "output_type": "execute_result"
    }
   ],
   "source": [
    "onto.terms.cmso"
   ]
  },
  {
   "cell_type": "code",
   "execution_count": 16,
   "metadata": {},
   "outputs": [
    {
     "data": {
      "text/plain": [
       "cmso:hasElementRatio\n",
       "A data property linking a chemical element with the ratio or fraction of it in the material."
      ]
     },
     "execution_count": 16,
     "metadata": {},
     "output_type": "execute_result"
    }
   ],
   "source": [
    "onto.terms.cmso.hasElementRatio==1.0"
   ]
  },
  {
   "cell_type": "markdown",
   "metadata": {},
   "source": [
    "## Logical operators\n",
    "\n",
    "Logical operators currently supported are & and |. These operators, when applied, aggregates the condition between two terms|"
   ]
  },
  {
   "cell_type": "code",
   "execution_count": 17,
   "metadata": {},
   "outputs": [
    {
     "data": {
      "text/plain": [
       "cmso:hasChemicalSymbol\n",
       "A data property linking an element with its chemical symbol."
      ]
     },
     "execution_count": 17,
     "metadata": {},
     "output_type": "execute_result"
    }
   ],
   "source": [
    "(onto.terms.cmso.hasChemicalSymbol=='Al') & (onto.terms.cmso.hasElementRatio==1.0)"
   ]
  },
  {
   "cell_type": "code",
   "execution_count": 18,
   "metadata": {},
   "outputs": [
    {
     "data": {
      "text/plain": [
       "cmso:hasChemicalSymbol\n",
       "A data property linking an element with its chemical symbol."
      ]
     },
     "execution_count": 18,
     "metadata": {},
     "output_type": "execute_result"
    }
   ],
   "source": [
    "(onto.terms.cmso.hasChemicalSymbol=='Al') | (onto.terms.cmso.hasElementRatio==1.0)"
   ]
  },
  {
   "cell_type": "markdown",
   "metadata": {},
   "source": [
    "## @ operator\n",
    "\n",
    "The final class of operator we have is the @ operator. This can be used for resolving terms that has multiple paths. For example, rdfs:label which multiple entities can have. "
   ]
  },
  {
   "cell_type": "markdown",
   "metadata": {},
   "source": [
    "If we want to specify label for the InputParameter, it can be done like this:"
   ]
  },
  {
   "cell_type": "code",
   "execution_count": 19,
   "metadata": {},
   "outputs": [
    {
     "data": {
      "text/plain": [
       "rdfs:label"
      ]
     },
     "execution_count": 19,
     "metadata": {},
     "output_type": "execute_result"
    }
   ],
   "source": [
    "onto.terms.rdfs.label@onto.terms.asmo.hasInputParameter"
   ]
  },
  {
   "cell_type": "markdown",
   "metadata": {},
   "source": [
    "conditions can also be applied on top"
   ]
  },
  {
   "cell_type": "code",
   "execution_count": 20,
   "metadata": {},
   "outputs": [
    {
     "data": {
      "text/plain": [
       "rdfs:label"
      ]
     },
     "execution_count": 20,
     "metadata": {},
     "output_type": "execute_result"
    }
   ],
   "source": [
    "onto.terms.rdfs.label@onto.terms.asmo.hasInputParameter=='label_string'"
   ]
  },
  {
   "cell_type": "markdown",
   "metadata": {},
   "source": [
    "That summarises all the possible options. Now we put together these blocks to formulate some more complex queries"
   ]
  }
 ],
 "metadata": {
  "kernelspec": {
   "display_name": "Python 3 (ipykernel)",
   "language": "python",
   "name": "python3"
  },
  "language_info": {
   "codemirror_mode": {
    "name": "ipython",
    "version": 3
   },
   "file_extension": ".py",
   "mimetype": "text/x-python",
   "name": "python",
   "nbconvert_exporter": "python",
   "pygments_lexer": "ipython3",
   "version": "3.11.11"
  }
 },
 "nbformat": 4,
 "nbformat_minor": 4
}
