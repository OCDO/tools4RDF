{
 "cells": [
  {
   "cell_type": "markdown",
   "metadata": {},
   "source": [
    "# Linking calculations"
   ]
  },
  {
   "cell_type": "code",
   "execution_count": 1,
   "metadata": {},
   "outputs": [],
   "source": [
    "%config IPCompleter.evaluation='unsafe'"
   ]
  },
  {
   "cell_type": "code",
   "execution_count": 2,
   "metadata": {},
   "outputs": [
    {
     "data": {
      "application/vnd.jupyter.widget-view+json": {
       "model_id": "b6419865dad84808a962c4d5e99980a0",
       "version_major": 2,
       "version_minor": 0
      },
      "text/plain": []
     },
     "metadata": {},
     "output_type": "display_data"
    }
   ],
   "source": [
    "from pyiron_atomistics import Project\n",
    "from atomrdf import KnowledgeGraph\n",
    "import numpy as np"
   ]
  },
  {
   "cell_type": "code",
   "execution_count": 3,
   "metadata": {},
   "outputs": [],
   "source": [
    "project = 'wf9d52b'\n",
    "pr = Project(project)\n",
    "kg = KnowledgeGraph(store='db', store_file=f'{project}.db')\n",
    "kg.enable_workflow(pr, workflow_environment='pyiron')"
   ]
  },
  {
   "cell_type": "markdown",
   "metadata": {},
   "source": [
    "Run a MD simulation; and get the relaxed structure"
   ]
  },
  {
   "cell_type": "code",
   "execution_count": 4,
   "metadata": {},
   "outputs": [
    {
     "name": "stderr",
     "output_type": "stream",
     "text": [
      "2024-07-25 11:36:05,520 - pyiron_log - WARNING - No HDF5 file found - remove database entry and create new job! j1\n",
      "2024-07-25 11:36:05,520 - pyiron_log - WARNING - No HDF5 file found - remove database entry and create new job! j1\n"
     ]
    },
    {
     "name": "stdout",
     "output_type": "stream",
     "text": [
      "The job j1 was saved and received the ID: 1157\n"
     ]
    }
   ],
   "source": [
    "structure = pr.create.structure.annotated_structure.bulk('Cu', cubic=True, label='cu_min', repetitions=(3,3,3))\n",
    "job = pr.create.job.Lammps('j1', delete_existing_job=True, delete_aborted_job=True)\n",
    "job.structure = structure\n",
    "job.potential = '2001--Mishin-Y--Cu-1--LAMMPS--ipr1'\n",
    "job.calc_minimize(pressure=0)\n",
    "job.run()\n",
    "kg.add_workflow(job, workflow_environment='pyiron')"
   ]
  },
  {
   "cell_type": "code",
   "execution_count": 5,
   "metadata": {},
   "outputs": [
    {
     "data": {
      "text/plain": [
       "[cu_min, sample:1aba25f7-b037-4dcd-933f-e9872856b068_from_cu_min]"
      ]
     },
     "execution_count": 5,
     "metadata": {},
     "output_type": "execute_result"
    }
   ],
   "source": [
    "kg.samples"
   ]
  },
  {
   "cell_type": "code",
   "execution_count": 6,
   "metadata": {},
   "outputs": [],
   "source": [
    "sample = kg.samples[-1]"
   ]
  },
  {
   "cell_type": "markdown",
   "metadata": {},
   "source": [
    "The relaxed structure values are also calculation outputs"
   ]
  },
  {
   "cell_type": "code",
   "execution_count": 7,
   "metadata": {},
   "outputs": [
    {
     "data": {
      "text/plain": [
       "TotalEnergy, TotalVolume, SimulationCellLength_x, SimulationCellLength_y, SimulationCellLength_z, Volume, NumberOfAtoms"
      ]
     },
     "execution_count": 7,
     "metadata": {},
     "output_type": "execute_result"
    }
   ],
   "source": [
    "sample.outputs"
   ]
  },
  {
   "cell_type": "code",
   "execution_count": 8,
   "metadata": {},
   "outputs": [],
   "source": [
    "a = sample.outputs.SimulationCellLength_x/3"
   ]
  },
  {
   "cell_type": "code",
   "execution_count": 9,
   "metadata": {},
   "outputs": [
    {
     "data": {
      "text/plain": [
       "3.615 ANGSTROM"
      ]
     },
     "execution_count": 9,
     "metadata": {},
     "output_type": "execute_result"
    }
   ],
   "source": [
    "a"
   ]
  },
  {
   "cell_type": "markdown",
   "metadata": {},
   "source": [
    "Now create a new structure with this and run a MD simulation"
   ]
  },
  {
   "cell_type": "code",
   "execution_count": 10,
   "metadata": {},
   "outputs": [],
   "source": [
    "rel_struct = pr.create.structure.annotated_structure.bulk('Cu', cubic=True, label='cu_new',\n",
    "                                                    a=a, repetitions=(3,3,3))"
   ]
  },
  {
   "cell_type": "code",
   "execution_count": 11,
   "metadata": {},
   "outputs": [
    {
     "name": "stdout",
     "output_type": "stream",
     "text": [
      "The job j1 was saved and received the ID: 1157\n"
     ]
    }
   ],
   "source": [
    "job = pr.create.job.Lammps('j1', delete_existing_job=True, delete_aborted_job=True)\n",
    "job.structure = rel_struct\n",
    "job.potential = '2001--Mishin-Y--Cu-1--LAMMPS--ipr1'\n",
    "job.calc_md(pressure=0, temperature=300)\n",
    "job.run()\n",
    "kg.add_workflow(job, workflow_environment='pyiron')"
   ]
  },
  {
   "cell_type": "markdown",
   "metadata": {},
   "source": [
    "Check the KG"
   ]
  },
  {
   "cell_type": "code",
   "execution_count": 12,
   "metadata": {},
   "outputs": [
    {
     "data": {
      "image/svg+xml": [
       "<?xml version=\"1.0\" encoding=\"UTF-8\" standalone=\"no\"?>\n",
       "<!DOCTYPE svg PUBLIC \"-//W3C//DTD SVG 1.1//EN\"\n",
       " \"http://www.w3.org/Graphics/SVG/1.1/DTD/svg11.dtd\">\n",
       "<!-- Generated by graphviz version 9.0.0 (20231125.0833)\n",
       " -->\n",
       "<!-- Pages: 1 -->\n",
       "<svg width=\"459pt\" height=\"520pt\"\n",
       " viewBox=\"0.00 0.00 459.02 520.28\" xmlns=\"http://www.w3.org/2000/svg\" xmlns:xlink=\"http://www.w3.org/1999/xlink\">\n",
       "<g id=\"graph0\" class=\"graph\" transform=\"scale(1 1) rotate(0) translate(4 516.28)\">\n",
       "<polygon fill=\"white\" stroke=\"none\" points=\"-4,4 -4,-516.28 455.02,-516.28 455.02,4 -4,4\"/>\n",
       "<!-- sample_1aba25f7&#45;b037&#45;4dcd&#45;933f&#45;e9872856b068 -->\n",
       "<g id=\"node1\" class=\"node\">\n",
       "<title>sample_1aba25f7&#45;b037&#45;4dcd&#45;933f&#45;e9872856b068</title>\n",
       "<polygon fill=\"#d9d9d9\" stroke=\"#d9d9d9\" points=\"337.29,-116.45 113.54,-116.45 113.54,-80.45 337.29,-80.45 337.29,-116.45\"/>\n",
       "<text text-anchor=\"middle\" x=\"225.42\" y=\"-95.72\" font-family=\"Helvetica,sans-Serif\" font-size=\"8.00\">sample_1aba25f7&#45;b037&#45;4dcd&#45;933f&#45;e9872856b068</text>\n",
       "</g>\n",
       "<!-- sample_5766a8cf&#45;5b6f&#45;4732&#45;b2dc&#45;3da1dcd928fa -->\n",
       "<g id=\"node2\" class=\"node\">\n",
       "<title>sample_5766a8cf&#45;5b6f&#45;4732&#45;b2dc&#45;3da1dcd928fa</title>\n",
       "<polygon fill=\"#d9d9d9\" stroke=\"#d9d9d9\" points=\"451.02,-39.55 231.77,-39.55 231.77,-3.55 451.02,-3.55 451.02,-39.55\"/>\n",
       "<text text-anchor=\"middle\" x=\"341.4\" y=\"-18.83\" font-family=\"Helvetica,sans-Serif\" font-size=\"8.00\">sample_5766a8cf&#45;5b6f&#45;4732&#45;b2dc&#45;3da1dcd928fa</text>\n",
       "</g>\n",
       "<!-- sample_1aba25f7&#45;b037&#45;4dcd&#45;933f&#45;e9872856b068&#45;&gt;sample_5766a8cf&#45;5b6f&#45;4732&#45;b2dc&#45;3da1dcd928fa -->\n",
       "<g id=\"edge1\" class=\"edge\">\n",
       "<title>sample_1aba25f7&#45;b037&#45;4dcd&#45;933f&#45;e9872856b068&#45;&gt;sample_5766a8cf&#45;5b6f&#45;4732&#45;b2dc&#45;3da1dcd928fa</title>\n",
       "<path fill=\"none\" stroke=\"#263238\" d=\"M253.2,-80.03C268.55,-69.85 287.82,-57.08 304.42,-46.07\"/>\n",
       "<polygon fill=\"#263238\" stroke=\"#263238\" points=\"306.18,-49.1 312.58,-40.66 302.31,-43.27 306.18,-49.1\"/>\n",
       "<text text-anchor=\"middle\" x=\"245.06\" y=\"-65.2\" font-family=\"Helvetica,sans-Serif\" font-size=\"8.00\">wasDerivedFrom</text>\n",
       "</g>\n",
       "<!-- activity_d3e1d769&#45;ff00&#45;470d&#45;9e3b&#45;a05459957084 -->\n",
       "<g id=\"node3\" class=\"node\">\n",
       "<title>activity_d3e1d769&#45;ff00&#45;470d&#45;9e3b&#45;a05459957084</title>\n",
       "<polygon fill=\"#d9d9d9\" stroke=\"#d9d9d9\" points=\"223.75,-36 0,-36 0,0 223.75,0 223.75,-36\"/>\n",
       "<text text-anchor=\"middle\" x=\"111.88\" y=\"-15.28\" font-family=\"Helvetica,sans-Serif\" font-size=\"8.00\">activity_d3e1d769&#45;ff00&#45;470d&#45;9e3b&#45;a05459957084</text>\n",
       "</g>\n",
       "<!-- sample_1aba25f7&#45;b037&#45;4dcd&#45;933f&#45;e9872856b068&#45;&gt;activity_d3e1d769&#45;ff00&#45;470d&#45;9e3b&#45;a05459957084 -->\n",
       "<g id=\"edge2\" class=\"edge\">\n",
       "<title>sample_1aba25f7&#45;b037&#45;4dcd&#45;933f&#45;e9872856b068&#45;&gt;activity_d3e1d769&#45;ff00&#45;470d&#45;9e3b&#45;a05459957084</title>\n",
       "<path fill=\"none\" stroke=\"#263238\" d=\"M199.37,-79.99C183.79,-68.95 163.8,-54.79 146.85,-42.78\"/>\n",
       "<polygon fill=\"#263238\" stroke=\"#263238\" points=\"149.22,-40.17 139.04,-37.24 145.17,-45.88 149.22,-40.17\"/>\n",
       "<text text-anchor=\"middle\" x=\"138.24\" y=\"-63.54\" font-family=\"Helvetica,sans-Serif\" font-size=\"8.00\">wasGeneratedBy</text>\n",
       "</g>\n",
       "<!-- sample_c24d8289&#45;dd56&#45;4b36&#45;b278&#45;31951b404763 -->\n",
       "<g id=\"node4\" class=\"node\">\n",
       "<title>sample_c24d8289&#45;dd56&#45;4b36&#45;b278&#45;31951b404763</title>\n",
       "<polygon fill=\"#d9d9d9\" stroke=\"#d9d9d9\" points=\"337.05,-253.03 108.05,-253.03 108.05,-217.03 337.05,-217.03 337.05,-253.03\"/>\n",
       "<text text-anchor=\"middle\" x=\"222.55\" y=\"-232.3\" font-family=\"Helvetica,sans-Serif\" font-size=\"8.00\">sample_c24d8289&#45;dd56&#45;4b36&#45;b278&#45;31951b404763</text>\n",
       "</g>\n",
       "<!-- sample_c24d8289&#45;dd56&#45;4b36&#45;b278&#45;31951b404763&#45;&gt;sample_1aba25f7&#45;b037&#45;4dcd&#45;933f&#45;e9872856b068 -->\n",
       "<g id=\"edge3\" class=\"edge\">\n",
       "<title>sample_c24d8289&#45;dd56&#45;4b36&#45;b278&#45;31951b404763&#45;&gt;sample_1aba25f7&#45;b037&#45;4dcd&#45;933f&#45;e9872856b068</title>\n",
       "<path fill=\"none\" stroke=\"#263238\" d=\"M222.93,-216.61C223.41,-193.87 224.23,-154.93 224.8,-128\"/>\n",
       "<polygon fill=\"#263238\" stroke=\"#263238\" points=\"228.29,-128.16 225.01,-118.09 221.3,-128.01 228.29,-128.16\"/>\n",
       "<text text-anchor=\"middle\" x=\"190.12\" y=\"-174.45\" font-family=\"Helvetica,sans-Serif\" font-size=\"8.00\">wasDerivedFrom</text>\n",
       "</g>\n",
       "<!-- sample_54c33179&#45;ecc2&#45;4262&#45;bf0b&#45;5d24eb760fa6 -->\n",
       "<g id=\"node5\" class=\"node\">\n",
       "<title>sample_54c33179&#45;ecc2&#45;4262&#45;bf0b&#45;5d24eb760fa6</title>\n",
       "<polygon fill=\"#d9d9d9\" stroke=\"#d9d9d9\" points=\"337.6,-383.41 114.6,-383.41 114.6,-347.41 337.6,-347.41 337.6,-383.41\"/>\n",
       "<text text-anchor=\"middle\" x=\"226.1\" y=\"-362.69\" font-family=\"Helvetica,sans-Serif\" font-size=\"8.00\">sample_54c33179&#45;ecc2&#45;4262&#45;bf0b&#45;5d24eb760fa6</text>\n",
       "</g>\n",
       "<!-- sample_54c33179&#45;ecc2&#45;4262&#45;bf0b&#45;5d24eb760fa6&#45;&gt;sample_c24d8289&#45;dd56&#45;4b36&#45;b278&#45;31951b404763 -->\n",
       "<g id=\"edge4\" class=\"edge\">\n",
       "<title>sample_54c33179&#45;ecc2&#45;4262&#45;bf0b&#45;5d24eb760fa6&#45;&gt;sample_c24d8289&#45;dd56&#45;4b36&#45;b278&#45;31951b404763</title>\n",
       "<path fill=\"none\" stroke=\"#263238\" d=\"M225.6,-347.01C225.02,-325.65 224.05,-290.14 223.36,-264.83\"/>\n",
       "<polygon fill=\"#263238\" stroke=\"#263238\" points=\"226.86,-264.75 223.09,-254.85 219.86,-264.94 226.86,-264.75\"/>\n",
       "<text text-anchor=\"middle\" x=\"190.73\" y=\"-308.07\" font-family=\"Helvetica,sans-Serif\" font-size=\"8.00\">wasDerivedFrom</text>\n",
       "</g>\n",
       "<!-- activity_1f476cdb&#45;372d&#45;498c&#45;b9e1&#45;fcf011771854 -->\n",
       "<g id=\"node6\" class=\"node\">\n",
       "<title>activity_1f476cdb&#45;372d&#45;498c&#45;b9e1&#45;fcf011771854</title>\n",
       "<polygon fill=\"#d9d9d9\" stroke=\"#d9d9d9\" points=\"332.02,-512.28 112.02,-512.28 112.02,-476.28 332.02,-476.28 332.02,-512.28\"/>\n",
       "<text text-anchor=\"middle\" x=\"222.02\" y=\"-491.55\" font-family=\"Helvetica,sans-Serif\" font-size=\"8.00\">activity_1f476cdb&#45;372d&#45;498c&#45;b9e1&#45;fcf011771854</text>\n",
       "</g>\n",
       "<!-- sample_54c33179&#45;ecc2&#45;4262&#45;bf0b&#45;5d24eb760fa6&#45;&gt;activity_1f476cdb&#45;372d&#45;498c&#45;b9e1&#45;fcf011771854 -->\n",
       "<g id=\"edge5\" class=\"edge\">\n",
       "<title>sample_54c33179&#45;ecc2&#45;4262&#45;bf0b&#45;5d24eb760fa6&#45;&gt;activity_1f476cdb&#45;372d&#45;498c&#45;b9e1&#45;fcf011771854</title>\n",
       "<path fill=\"none\" stroke=\"#263238\" d=\"M225.52,-383.87C224.85,-404.93 223.75,-439.64 222.96,-464.53\"/>\n",
       "<polygon fill=\"#263238\" stroke=\"#263238\" points=\"219.47,-464.23 222.65,-474.34 226.46,-464.45 219.47,-464.23\"/>\n",
       "<text text-anchor=\"middle\" x=\"189.36\" y=\"-426.35\" font-family=\"Helvetica,sans-Serif\" font-size=\"8.00\">wasGeneratedBy</text>\n",
       "</g>\n",
       "</g>\n",
       "</svg>\n"
      ],
      "text/plain": [
       "<graphviz.graphs.Digraph at 0x7fb69d70f9d0>"
      ]
     },
     "execution_count": 12,
     "metadata": {},
     "output_type": "execute_result"
    }
   ],
   "source": [
    "kg.visualise(sample_view=True)"
   ]
  },
  {
   "cell_type": "markdown",
   "metadata": {},
   "source": [
    "We can also query and see the lattice parameter was calculated by an activity"
   ]
  },
  {
   "cell_type": "code",
   "execution_count": 16,
   "metadata": {},
   "outputs": [
    {
     "data": {
      "text/html": [
       "<div>\n",
       "<style scoped>\n",
       "    .dataframe tbody tr th:only-of-type {\n",
       "        vertical-align: middle;\n",
       "    }\n",
       "\n",
       "    .dataframe tbody tr th {\n",
       "        vertical-align: top;\n",
       "    }\n",
       "\n",
       "    .dataframe thead th {\n",
       "        text-align: right;\n",
       "    }\n",
       "</style>\n",
       "<table border=\"1\" class=\"dataframe\">\n",
       "  <thead>\n",
       "    <tr style=\"text-align: right;\">\n",
       "      <th></th>\n",
       "      <th>LatticeParameter</th>\n",
       "      <th>wasCalculatedBy</th>\n",
       "    </tr>\n",
       "  </thead>\n",
       "  <tbody>\n",
       "    <tr>\n",
       "      <th>0</th>\n",
       "      <td>sample:60996d0a-82b3-4812-a61f-9029e9e57ca8_La...</td>\n",
       "      <td>operation:04fc5b80-11c0-4b7f-9125-0e04516807c6</td>\n",
       "    </tr>\n",
       "  </tbody>\n",
       "</table>\n",
       "</div>"
      ],
      "text/plain": [
       "                                    LatticeParameter  \\\n",
       "0  sample:60996d0a-82b3-4812-a61f-9029e9e57ca8_La...   \n",
       "\n",
       "                                  wasCalculatedBy  \n",
       "0  operation:04fc5b80-11c0-4b7f-9125-0e04516807c6  "
      ]
     },
     "execution_count": 16,
     "metadata": {},
     "output_type": "execute_result"
    }
   ],
   "source": [
    "kg.auto_query(kg.terms.cmso.LatticeParameter, [kg.terms.asmo.wasCalculatedBy])"
   ]
  }
 ],
 "metadata": {
  "kernelspec": {
   "display_name": "Python 3 (ipykernel)",
   "language": "python",
   "name": "python3"
  },
  "language_info": {
   "codemirror_mode": {
    "name": "ipython",
    "version": 3
   },
   "file_extension": ".py",
   "mimetype": "text/x-python",
   "name": "python",
   "nbconvert_exporter": "python",
   "pygments_lexer": "ipython3",
   "version": "3.11.8"
  }
 },
 "nbformat": 4,
 "nbformat_minor": 4
}
