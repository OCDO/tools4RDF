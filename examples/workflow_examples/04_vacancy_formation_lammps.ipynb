{
 "cells": [
  {
   "cell_type": "code",
   "execution_count": 1,
   "metadata": {},
   "outputs": [],
   "source": [
    "%config IPCompleter.evaluation='unsafe'"
   ]
  },
  {
   "cell_type": "code",
   "execution_count": 2,
   "metadata": {},
   "outputs": [
    {
     "data": {
      "application/vnd.jupyter.widget-view+json": {
       "model_id": "1e2d7928898d4f1bbc591b039a4c46f2",
       "version_major": 2,
       "version_minor": 0
      },
      "text/plain": []
     },
     "metadata": {},
     "output_type": "display_data"
    }
   ],
   "source": [
    "from pyiron_atomistics import Project\n",
    "from atomrdf import KnowledgeGraph\n",
    "import numpy as np"
   ]
  },
  {
   "cell_type": "code",
   "execution_count": 3,
   "metadata": {},
   "outputs": [],
   "source": [
    "project = 'y8'\n",
    "pr = Project(project)\n",
    "kg = KnowledgeGraph(store='db', store_file=f'{project}.db')\n",
    "kg.enable_workflow(pr, workflow_environment='pyiron')"
   ]
  },
  {
   "cell_type": "code",
   "execution_count": 4,
   "metadata": {},
   "outputs": [
    {
     "name": "stdout",
     "output_type": "stream",
     "text": [
      "The job bulk was saved and received the ID: 1214\n"
     ]
    }
   ],
   "source": [
    "structure = pr.create.structure.annotated_structure.bulk('Cu', cubic=True, label='cu md', repetitions=(3, 3, 3))\n",
    "job = pr.create.job.Lammps('bulk', delete_existing_job=True, delete_aborted_job=True)\n",
    "job.structure = structure\n",
    "job.potential = '2001--Mishin-Y--Cu-1--LAMMPS--ipr1'\n",
    "job.calc_md(pressure=0, temperature=500)\n",
    "job.run()\n",
    "kg.add_workflow(job, workflow_environment='pyiron')"
   ]
  },
  {
   "cell_type": "code",
   "execution_count": 5,
   "metadata": {},
   "outputs": [
    {
     "data": {
      "text/plain": [
       "[cu_md, sample:b5b503c7-f5a6-4794-a1c1-042c7fa77add_from_cu_md]"
      ]
     },
     "execution_count": 5,
     "metadata": {},
     "output_type": "execute_result"
    }
   ],
   "source": [
    "kg.samples"
   ]
  },
  {
   "cell_type": "code",
   "execution_count": 6,
   "metadata": {},
   "outputs": [],
   "source": [
    "sample = kg.samples[1]"
   ]
  },
  {
   "cell_type": "code",
   "execution_count": 7,
   "metadata": {},
   "outputs": [],
   "source": [
    "min_struct = sample.structure"
   ]
  },
  {
   "cell_type": "code",
   "execution_count": 8,
   "metadata": {},
   "outputs": [],
   "source": [
    "del min_struct[3]"
   ]
  },
  {
   "cell_type": "code",
   "execution_count": 9,
   "metadata": {},
   "outputs": [
    {
     "name": "stdout",
     "output_type": "stream",
     "text": [
      "The job vacancy was saved and received the ID: 1215\n"
     ]
    }
   ],
   "source": [
    "job = pr.create.job.Lammps('vacancy', delete_existing_job=True, delete_aborted_job=True)\n",
    "job.structure = min_struct.write.pyiron()\n",
    "job.potential = '2001--Mishin-Y--Cu-1--LAMMPS--ipr1'\n",
    "job.calc_static()\n",
    "job.run()\n",
    "kg.add_workflow(job, workflow_environment='pyiron')"
   ]
  },
  {
   "cell_type": "markdown",
   "metadata": {},
   "source": [
    "form_energy = energy_vac - ((number_atoms-1)/number_atoms)*energy_bulk"
   ]
  },
  {
   "cell_type": "code",
   "execution_count": 10,
   "metadata": {},
   "outputs": [
    {
     "data": {
      "text/plain": [
       "[cu_md,\n",
       " sample:b5b503c7-f5a6-4794-a1c1-042c7fa77add_from_cu_md,\n",
       " sample:7f0eed16-820c-4ff1-baa0-64cf2f08f027_from_sample:b5b503c7-f5a6-4794-a1c1-042c7fa77add_from_cu_md]"
      ]
     },
     "execution_count": 10,
     "metadata": {},
     "output_type": "execute_result"
    }
   ],
   "source": [
    "kg.samples"
   ]
  },
  {
   "cell_type": "code",
   "execution_count": 11,
   "metadata": {},
   "outputs": [],
   "source": [
    "vac_sample = kg.samples[2]\n",
    "bulk_sample = kg.samples[1]"
   ]
  },
  {
   "cell_type": "code",
   "execution_count": 12,
   "metadata": {},
   "outputs": [],
   "source": [
    "e_form = vac_sample.outputs.TotalEnergy - ((bulk_sample.properties.NumberOfAtoms - 1)/bulk_sample.properties.NumberOfAtoms)*bulk_sample.outputs.TotalEnergy"
   ]
  },
  {
   "cell_type": "code",
   "execution_count": 13,
   "metadata": {},
   "outputs": [
    {
     "data": {
      "text/plain": [
       "-5.688631775700969"
      ]
     },
     "execution_count": 13,
     "metadata": {},
     "output_type": "execute_result"
    }
   ],
   "source": [
    "e_form.value"
   ]
  },
  {
   "cell_type": "code",
   "execution_count": 14,
   "metadata": {},
   "outputs": [],
   "source": [
    "e_form.label = 'VacancyFormationEnergy'"
   ]
  },
  {
   "cell_type": "code",
   "execution_count": 15,
   "metadata": {},
   "outputs": [
    {
     "name": "stdout",
     "output_type": "stream",
     "text": [
      "http://purls.helmholtz-metadaten.de/asmo/wasCalculatedBy operation:ba8d62e4-8049-4d1f-b596-4d2713b91d71\n",
      "http://purls.helmholtz-metadaten.de/asmo/wasCalculatedBy\n"
     ]
    },
    {
     "data": {
      "text/plain": [
       "{'property:34a2146f-25c5-4498-aab9-0599937098e2': {'found': True,\n",
       "  'label': 'VacancyFormationEnergy',\n",
       "  'operation': 'output_parameter',\n",
       "  'inputs': {'0': 'operation:ba8d62e4-8049-4d1f-b596-4d2713b91d71'}},\n",
       " 'operation:ba8d62e4-8049-4d1f-b596-4d2713b91d71': {'found': True,\n",
       "  'label': 'operation:ba8d62e4-8049-4d1f-b596-4d2713b91d71',\n",
       "  'inputs': {},\n",
       "  'operation': 'sample_for_activity'}}"
      ]
     },
     "execution_count": 15,
     "metadata": {},
     "output_type": "execute_result"
    }
   ],
   "source": [
    "kg.generate_provenance(label='VacancyFormationEnergy', visualize=False)"
   ]
  },
  {
   "cell_type": "code",
   "execution_count": 19,
   "metadata": {},
   "outputs": [],
   "source": [
    "from rdflib import URIRef"
   ]
  },
  {
   "cell_type": "code",
   "execution_count": 21,
   "metadata": {},
   "outputs": [
    {
     "name": "stdout",
     "output_type": "stream",
     "text": [
      "(rdflib.term.URIRef('operation:412b11a7-0bfd-48d9-addb-851e244dbadf'), rdflib.term.URIRef('http://www.w3.org/1999/02/22-rdf-syntax-ns#type'), rdflib.term.URIRef('http://purls.helmholtz-metadaten.de/asmo/Subtraction'))\n",
      "(rdflib.term.URIRef('operation:412b11a7-0bfd-48d9-addb-851e244dbadf'), rdflib.term.URIRef('http://www.w3.org/1999/02/22-rdf-syntax-ns#type'), rdflib.term.URIRef('http://www.w3.org/ns/prov#Activity'))\n",
      "(rdflib.term.URIRef('operation:412b11a7-0bfd-48d9-addb-851e244dbadf'), rdflib.term.URIRef('http://purls.helmholtz-metadaten.de/asmo/hasMinuend'), rdflib.term.URIRef('activity:b1d6751d-16b6-4ae8-9ace-55da70f803db_TotalEnergy'))\n",
      "(rdflib.term.URIRef('operation:412b11a7-0bfd-48d9-addb-851e244dbadf'), rdflib.term.URIRef('http://purls.helmholtz-metadaten.de/asmo/hasSubtrahend'), rdflib.term.URIRef('property:7c88abd8-93f0-450a-8739-446e78a3e565'))\n",
      "(rdflib.term.URIRef('operation:412b11a7-0bfd-48d9-addb-851e244dbadf'), rdflib.term.URIRef('http://purls.helmholtz-metadaten.de/asmo/hasDifference'), rdflib.term.URIRef('property:9b5d8fe1-bea9-4e06-8c5a-aa9133a50fc2'))\n"
     ]
    }
   ],
   "source": [
    "for x in kg.triples((URIRef('operation:412b11a7-0bfd-48d9-addb-851e244dbadf'), None, None)):\n",
    "    print(x)"
   ]
  },
  {
   "cell_type": "code",
   "execution_count": null,
   "metadata": {},
   "outputs": [],
   "source": []
  }
 ],
 "metadata": {
  "kernelspec": {
   "display_name": "workflow-rdf",
   "language": "python",
   "name": "python3"
  },
  "language_info": {
   "codemirror_mode": {
    "name": "ipython",
    "version": 3
   },
   "file_extension": ".py",
   "mimetype": "text/x-python",
   "name": "python",
   "nbconvert_exporter": "python",
   "pygments_lexer": "ipython3",
   "version": "3.11.10"
  }
 },
 "nbformat": 4,
 "nbformat_minor": 4
}
