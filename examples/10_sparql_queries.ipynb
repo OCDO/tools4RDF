{
 "cells": [
  {
   "cell_type": "markdown",
   "metadata": {},
   "source": [
    "# SPARQL queries\n",
    "\n",
    "This notebook demonstrates how SPARQL queries can be composed programmatically, and without (almost) no knowledge of SPARQL. For this purpose, we will use an existing dataset."
   ]
  },
  {
   "cell_type": "code",
   "execution_count": 5,
   "metadata": {},
   "outputs": [],
   "source": [
    "from atomrdf import KnowledgeGraph"
   ]
  },
  {
   "cell_type": "code",
   "execution_count": 6,
   "metadata": {},
   "outputs": [],
   "source": [
    "#kg = KnowledgeGraph.unarchive('dataset.tar.gz')\n",
    "kg = KnowledgeGraph.unarchive('dataset', compress=False)"
   ]
  },
  {
   "cell_type": "code",
   "execution_count": 7,
   "metadata": {},
   "outputs": [
    {
     "data": {
      "text/plain": [
       "22"
      ]
     },
     "execution_count": 7,
     "metadata": {},
     "output_type": "execute_result"
    }
   ],
   "source": [
    "kg.n_samples"
   ]
  },
  {
   "cell_type": "markdown",
   "metadata": {},
   "source": [
    "The dataset contains 22 samples"
   ]
  },
  {
   "cell_type": "markdown",
   "metadata": {},
   "source": [
    "Of course, SPARQL queries can be directly run through atomRDF. See an example:"
   ]
  },
  {
   "cell_type": "code",
   "execution_count": 8,
   "metadata": {},
   "outputs": [],
   "source": [
    "query = \"\"\"\n",
    "PREFIX cmso: <http://purls.helmholtz-metadaten.de/cmso/>\n",
    "SELECT DISTINCT ?sample ?symbol ?number \n",
    "WHERE {\n",
    "    ?sample cmso:hasMaterial ?material .\n",
    "    ?material cmso:hasStructure ?structure .\n",
    "    ?structure cmso:hasSpaceGroupSymbol ?symbol .\n",
    "    ?sample cmso:hasNumberOfAtoms ?number .\n",
    "FILTER (?number=\"4\"^^xsd:integer)\n",
    "}\"\"\""
   ]
  },
  {
   "cell_type": "markdown",
   "metadata": {},
   "source": [
    "The above query finds the Space Group symbol of all structures which have four atoms."
   ]
  },
  {
   "cell_type": "code",
   "execution_count": 9,
   "metadata": {},
   "outputs": [
    {
     "data": {
      "text/html": [
       "<div>\n",
       "<style scoped>\n",
       "    .dataframe tbody tr th:only-of-type {\n",
       "        vertical-align: middle;\n",
       "    }\n",
       "\n",
       "    .dataframe tbody tr th {\n",
       "        vertical-align: top;\n",
       "    }\n",
       "\n",
       "    .dataframe thead th {\n",
       "        text-align: right;\n",
       "    }\n",
       "</style>\n",
       "<table border=\"1\" class=\"dataframe\">\n",
       "  <thead>\n",
       "    <tr style=\"text-align: right;\">\n",
       "      <th></th>\n",
       "      <th>sample</th>\n",
       "      <th>symbol</th>\n",
       "      <th>number</th>\n",
       "    </tr>\n",
       "  </thead>\n",
       "  <tbody>\n",
       "    <tr>\n",
       "      <th>0</th>\n",
       "      <td>sample:10ffd2cc-9e92-4f04-896d-d6c0fdb9e55f</td>\n",
       "      <td>Pm-3m</td>\n",
       "      <td>4</td>\n",
       "    </tr>\n",
       "    <tr>\n",
       "      <th>1</th>\n",
       "      <td>sample:1f6b1b0f-446a-4ad8-877e-d2e6176797df</td>\n",
       "      <td>Fm-3m</td>\n",
       "      <td>4</td>\n",
       "    </tr>\n",
       "    <tr>\n",
       "      <th>2</th>\n",
       "      <td>sample:286c3974-962b-4333-a2bb-d164ae645454</td>\n",
       "      <td>Fm-3m</td>\n",
       "      <td>4</td>\n",
       "    </tr>\n",
       "    <tr>\n",
       "      <th>3</th>\n",
       "      <td>sample:67be61c7-f9c7-4d46-a61d-5350fd0ee246</td>\n",
       "      <td>Fm-3m</td>\n",
       "      <td>4</td>\n",
       "    </tr>\n",
       "    <tr>\n",
       "      <th>4</th>\n",
       "      <td>sample:721b7447-8363-4e65-9515-9da2581d7124</td>\n",
       "      <td>Fm-3m</td>\n",
       "      <td>4</td>\n",
       "    </tr>\n",
       "    <tr>\n",
       "      <th>5</th>\n",
       "      <td>sample:8fc8e47b-acee-40f8-bcbf-fc298cc31f05</td>\n",
       "      <td>Fm-3m</td>\n",
       "      <td>4</td>\n",
       "    </tr>\n",
       "    <tr>\n",
       "      <th>6</th>\n",
       "      <td>sample:9f0f48d1-5ebf-4f7a-b241-5e7aa273f5a0</td>\n",
       "      <td>Fm-3m</td>\n",
       "      <td>4</td>\n",
       "    </tr>\n",
       "    <tr>\n",
       "      <th>7</th>\n",
       "      <td>sample:a3cf6d97-c922-4c4d-8517-e784df83b71e</td>\n",
       "      <td>Fm-3m</td>\n",
       "      <td>4</td>\n",
       "    </tr>\n",
       "    <tr>\n",
       "      <th>8</th>\n",
       "      <td>sample:ab2bea57-39ea-49ea-ad3f-c1c40b013154</td>\n",
       "      <td>Fm-3m</td>\n",
       "      <td>4</td>\n",
       "    </tr>\n",
       "    <tr>\n",
       "      <th>9</th>\n",
       "      <td>sample:aef7472e-7577-4256-8422-6ba77a954ce1</td>\n",
       "      <td>Fm-3m</td>\n",
       "      <td>4</td>\n",
       "    </tr>\n",
       "    <tr>\n",
       "      <th>10</th>\n",
       "      <td>sample:b1f52dc6-5c92-428f-8f7a-78794fd0544c</td>\n",
       "      <td>Fm-3m</td>\n",
       "      <td>4</td>\n",
       "    </tr>\n",
       "    <tr>\n",
       "      <th>11</th>\n",
       "      <td>sample:d015cfca-e047-40bc-baab-423e87fa2618</td>\n",
       "      <td>Fm-3m</td>\n",
       "      <td>4</td>\n",
       "    </tr>\n",
       "    <tr>\n",
       "      <th>12</th>\n",
       "      <td>sample:e54c0e91-52ec-4c47-8ba3-43979a1ebe2e</td>\n",
       "      <td>Fm-3m</td>\n",
       "      <td>4</td>\n",
       "    </tr>\n",
       "    <tr>\n",
       "      <th>13</th>\n",
       "      <td>sample:fb01a7f2-8984-442b-a32e-15321c4fa99b</td>\n",
       "      <td>Fm-3m</td>\n",
       "      <td>4</td>\n",
       "    </tr>\n",
       "  </tbody>\n",
       "</table>\n",
       "</div>"
      ],
      "text/plain": [
       "                                         sample symbol number\n",
       "0   sample:10ffd2cc-9e92-4f04-896d-d6c0fdb9e55f  Pm-3m      4\n",
       "1   sample:1f6b1b0f-446a-4ad8-877e-d2e6176797df  Fm-3m      4\n",
       "2   sample:286c3974-962b-4333-a2bb-d164ae645454  Fm-3m      4\n",
       "3   sample:67be61c7-f9c7-4d46-a61d-5350fd0ee246  Fm-3m      4\n",
       "4   sample:721b7447-8363-4e65-9515-9da2581d7124  Fm-3m      4\n",
       "5   sample:8fc8e47b-acee-40f8-bcbf-fc298cc31f05  Fm-3m      4\n",
       "6   sample:9f0f48d1-5ebf-4f7a-b241-5e7aa273f5a0  Fm-3m      4\n",
       "7   sample:a3cf6d97-c922-4c4d-8517-e784df83b71e  Fm-3m      4\n",
       "8   sample:ab2bea57-39ea-49ea-ad3f-c1c40b013154  Fm-3m      4\n",
       "9   sample:aef7472e-7577-4256-8422-6ba77a954ce1  Fm-3m      4\n",
       "10  sample:b1f52dc6-5c92-428f-8f7a-78794fd0544c  Fm-3m      4\n",
       "11  sample:d015cfca-e047-40bc-baab-423e87fa2618  Fm-3m      4\n",
       "12  sample:e54c0e91-52ec-4c47-8ba3-43979a1ebe2e  Fm-3m      4\n",
       "13  sample:fb01a7f2-8984-442b-a32e-15321c4fa99b  Fm-3m      4"
      ]
     },
     "execution_count": 9,
     "metadata": {},
     "output_type": "execute_result"
    }
   ],
   "source": [
    "kg.query(query)"
   ]
  },
  {
   "cell_type": "markdown",
   "metadata": {},
   "source": [
    "The results are given in the form of a Pandas DataFrame."
   ]
  },
  {
   "cell_type": "markdown",
   "metadata": {},
   "source": [
    "This query can also be performed programmatically, which looks like this:"
   ]
  },
  {
   "cell_type": "code",
   "execution_count": 18,
   "metadata": {},
   "outputs": [
    {
     "data": {
      "text/plain": [
       "['cmso:AtomicScaleSample',\n",
       " 'cmso:ComputationalSample',\n",
       " 'cmso:MacroscaleSample',\n",
       " 'cmso:MesoscaleSample',\n",
       " 'cmso:MicroscaleSample',\n",
       " 'cmso:NanoscaleSample']"
      ]
     },
     "execution_count": 18,
     "metadata": {},
     "output_type": "execute_result"
    }
   ],
   "source": [
    "kg.terms.cmso.hasNumberOfAtoms.domain"
   ]
  },
  {
   "cell_type": "code",
   "execution_count": 19,
   "metadata": {},
   "outputs": [
    {
     "data": {
      "text/html": [
       "<div>\n",
       "<style scoped>\n",
       "    .dataframe tbody tr th:only-of-type {\n",
       "        vertical-align: middle;\n",
       "    }\n",
       "\n",
       "    .dataframe tbody tr th {\n",
       "        vertical-align: top;\n",
       "    }\n",
       "\n",
       "    .dataframe thead th {\n",
       "        text-align: right;\n",
       "    }\n",
       "</style>\n",
       "<table border=\"1\" class=\"dataframe\">\n",
       "  <thead>\n",
       "    <tr style=\"text-align: right;\">\n",
       "      <th></th>\n",
       "      <th>AtomicScaleSample</th>\n",
       "      <th>hasSpaceGroupSymbolvalue</th>\n",
       "      <th>hasNumberOfAtomsvalue</th>\n",
       "    </tr>\n",
       "  </thead>\n",
       "  <tbody>\n",
       "    <tr>\n",
       "      <th>0</th>\n",
       "      <td>sample:10ffd2cc-9e92-4f04-896d-d6c0fdb9e55f</td>\n",
       "      <td>Pm-3m</td>\n",
       "      <td>4</td>\n",
       "    </tr>\n",
       "    <tr>\n",
       "      <th>1</th>\n",
       "      <td>sample:286c3974-962b-4333-a2bb-d164ae645454</td>\n",
       "      <td>Fm-3m</td>\n",
       "      <td>4</td>\n",
       "    </tr>\n",
       "    <tr>\n",
       "      <th>2</th>\n",
       "      <td>sample:8fc8e47b-acee-40f8-bcbf-fc298cc31f05</td>\n",
       "      <td>Fm-3m</td>\n",
       "      <td>4</td>\n",
       "    </tr>\n",
       "    <tr>\n",
       "      <th>3</th>\n",
       "      <td>sample:9f0f48d1-5ebf-4f7a-b241-5e7aa273f5a0</td>\n",
       "      <td>Fm-3m</td>\n",
       "      <td>4</td>\n",
       "    </tr>\n",
       "    <tr>\n",
       "      <th>4</th>\n",
       "      <td>sample:e54c0e91-52ec-4c47-8ba3-43979a1ebe2e</td>\n",
       "      <td>Fm-3m</td>\n",
       "      <td>4</td>\n",
       "    </tr>\n",
       "    <tr>\n",
       "      <th>5</th>\n",
       "      <td>sample:1f6b1b0f-446a-4ad8-877e-d2e6176797df</td>\n",
       "      <td>Fm-3m</td>\n",
       "      <td>4</td>\n",
       "    </tr>\n",
       "    <tr>\n",
       "      <th>6</th>\n",
       "      <td>sample:67be61c7-f9c7-4d46-a61d-5350fd0ee246</td>\n",
       "      <td>Fm-3m</td>\n",
       "      <td>4</td>\n",
       "    </tr>\n",
       "    <tr>\n",
       "      <th>7</th>\n",
       "      <td>sample:721b7447-8363-4e65-9515-9da2581d7124</td>\n",
       "      <td>Fm-3m</td>\n",
       "      <td>4</td>\n",
       "    </tr>\n",
       "    <tr>\n",
       "      <th>8</th>\n",
       "      <td>sample:a3cf6d97-c922-4c4d-8517-e784df83b71e</td>\n",
       "      <td>Fm-3m</td>\n",
       "      <td>4</td>\n",
       "    </tr>\n",
       "    <tr>\n",
       "      <th>9</th>\n",
       "      <td>sample:ab2bea57-39ea-49ea-ad3f-c1c40b013154</td>\n",
       "      <td>Fm-3m</td>\n",
       "      <td>4</td>\n",
       "    </tr>\n",
       "    <tr>\n",
       "      <th>10</th>\n",
       "      <td>sample:b1f52dc6-5c92-428f-8f7a-78794fd0544c</td>\n",
       "      <td>Fm-3m</td>\n",
       "      <td>4</td>\n",
       "    </tr>\n",
       "    <tr>\n",
       "      <th>11</th>\n",
       "      <td>sample:d015cfca-e047-40bc-baab-423e87fa2618</td>\n",
       "      <td>Fm-3m</td>\n",
       "      <td>4</td>\n",
       "    </tr>\n",
       "    <tr>\n",
       "      <th>12</th>\n",
       "      <td>sample:fb01a7f2-8984-442b-a32e-15321c4fa99b</td>\n",
       "      <td>Fm-3m</td>\n",
       "      <td>4</td>\n",
       "    </tr>\n",
       "    <tr>\n",
       "      <th>13</th>\n",
       "      <td>sample:aef7472e-7577-4256-8422-6ba77a954ce1</td>\n",
       "      <td>Fm-3m</td>\n",
       "      <td>4</td>\n",
       "    </tr>\n",
       "  </tbody>\n",
       "</table>\n",
       "</div>"
      ],
      "text/plain": [
       "                              AtomicScaleSample hasSpaceGroupSymbolvalue  \\\n",
       "0   sample:10ffd2cc-9e92-4f04-896d-d6c0fdb9e55f                    Pm-3m   \n",
       "1   sample:286c3974-962b-4333-a2bb-d164ae645454                    Fm-3m   \n",
       "2   sample:8fc8e47b-acee-40f8-bcbf-fc298cc31f05                    Fm-3m   \n",
       "3   sample:9f0f48d1-5ebf-4f7a-b241-5e7aa273f5a0                    Fm-3m   \n",
       "4   sample:e54c0e91-52ec-4c47-8ba3-43979a1ebe2e                    Fm-3m   \n",
       "5   sample:1f6b1b0f-446a-4ad8-877e-d2e6176797df                    Fm-3m   \n",
       "6   sample:67be61c7-f9c7-4d46-a61d-5350fd0ee246                    Fm-3m   \n",
       "7   sample:721b7447-8363-4e65-9515-9da2581d7124                    Fm-3m   \n",
       "8   sample:a3cf6d97-c922-4c4d-8517-e784df83b71e                    Fm-3m   \n",
       "9   sample:ab2bea57-39ea-49ea-ad3f-c1c40b013154                    Fm-3m   \n",
       "10  sample:b1f52dc6-5c92-428f-8f7a-78794fd0544c                    Fm-3m   \n",
       "11  sample:d015cfca-e047-40bc-baab-423e87fa2618                    Fm-3m   \n",
       "12  sample:fb01a7f2-8984-442b-a32e-15321c4fa99b                    Fm-3m   \n",
       "13  sample:aef7472e-7577-4256-8422-6ba77a954ce1                    Fm-3m   \n",
       "\n",
       "   hasNumberOfAtomsvalue  \n",
       "0                      4  \n",
       "1                      4  \n",
       "2                      4  \n",
       "3                      4  \n",
       "4                      4  \n",
       "5                      4  \n",
       "6                      4  \n",
       "7                      4  \n",
       "8                      4  \n",
       "9                      4  \n",
       "10                     4  \n",
       "11                     4  \n",
       "12                     4  \n",
       "13                     4  "
      ]
     },
     "execution_count": 19,
     "metadata": {},
     "output_type": "execute_result"
    }
   ],
   "source": [
    "kg.query_sample([kg.terms.cmso.hasSpaceGroupSymbol, kg.terms.cmso.hasNumberOfAtoms==4])"
   ]
  },
  {
   "cell_type": "markdown",
   "metadata": {},
   "source": [
    "or more explicitely (`query_sample` is just a shortcut for `auto_query`)"
   ]
  },
  {
   "cell_type": "code",
   "execution_count": 20,
   "metadata": {},
   "outputs": [
    {
     "data": {
      "text/html": [
       "<div>\n",
       "<style scoped>\n",
       "    .dataframe tbody tr th:only-of-type {\n",
       "        vertical-align: middle;\n",
       "    }\n",
       "\n",
       "    .dataframe tbody tr th {\n",
       "        vertical-align: top;\n",
       "    }\n",
       "\n",
       "    .dataframe thead th {\n",
       "        text-align: right;\n",
       "    }\n",
       "</style>\n",
       "<table border=\"1\" class=\"dataframe\">\n",
       "  <thead>\n",
       "    <tr style=\"text-align: right;\">\n",
       "      <th></th>\n",
       "      <th>AtomicScaleSample</th>\n",
       "      <th>hasSpaceGroupSymbolvalue</th>\n",
       "      <th>hasNumberOfAtomsvalue</th>\n",
       "    </tr>\n",
       "  </thead>\n",
       "  <tbody>\n",
       "    <tr>\n",
       "      <th>0</th>\n",
       "      <td>sample:10ffd2cc-9e92-4f04-896d-d6c0fdb9e55f</td>\n",
       "      <td>Pm-3m</td>\n",
       "      <td>4</td>\n",
       "    </tr>\n",
       "    <tr>\n",
       "      <th>1</th>\n",
       "      <td>sample:286c3974-962b-4333-a2bb-d164ae645454</td>\n",
       "      <td>Fm-3m</td>\n",
       "      <td>4</td>\n",
       "    </tr>\n",
       "    <tr>\n",
       "      <th>2</th>\n",
       "      <td>sample:8fc8e47b-acee-40f8-bcbf-fc298cc31f05</td>\n",
       "      <td>Fm-3m</td>\n",
       "      <td>4</td>\n",
       "    </tr>\n",
       "    <tr>\n",
       "      <th>3</th>\n",
       "      <td>sample:9f0f48d1-5ebf-4f7a-b241-5e7aa273f5a0</td>\n",
       "      <td>Fm-3m</td>\n",
       "      <td>4</td>\n",
       "    </tr>\n",
       "    <tr>\n",
       "      <th>4</th>\n",
       "      <td>sample:e54c0e91-52ec-4c47-8ba3-43979a1ebe2e</td>\n",
       "      <td>Fm-3m</td>\n",
       "      <td>4</td>\n",
       "    </tr>\n",
       "    <tr>\n",
       "      <th>5</th>\n",
       "      <td>sample:1f6b1b0f-446a-4ad8-877e-d2e6176797df</td>\n",
       "      <td>Fm-3m</td>\n",
       "      <td>4</td>\n",
       "    </tr>\n",
       "    <tr>\n",
       "      <th>6</th>\n",
       "      <td>sample:67be61c7-f9c7-4d46-a61d-5350fd0ee246</td>\n",
       "      <td>Fm-3m</td>\n",
       "      <td>4</td>\n",
       "    </tr>\n",
       "    <tr>\n",
       "      <th>7</th>\n",
       "      <td>sample:721b7447-8363-4e65-9515-9da2581d7124</td>\n",
       "      <td>Fm-3m</td>\n",
       "      <td>4</td>\n",
       "    </tr>\n",
       "    <tr>\n",
       "      <th>8</th>\n",
       "      <td>sample:a3cf6d97-c922-4c4d-8517-e784df83b71e</td>\n",
       "      <td>Fm-3m</td>\n",
       "      <td>4</td>\n",
       "    </tr>\n",
       "    <tr>\n",
       "      <th>9</th>\n",
       "      <td>sample:ab2bea57-39ea-49ea-ad3f-c1c40b013154</td>\n",
       "      <td>Fm-3m</td>\n",
       "      <td>4</td>\n",
       "    </tr>\n",
       "    <tr>\n",
       "      <th>10</th>\n",
       "      <td>sample:b1f52dc6-5c92-428f-8f7a-78794fd0544c</td>\n",
       "      <td>Fm-3m</td>\n",
       "      <td>4</td>\n",
       "    </tr>\n",
       "    <tr>\n",
       "      <th>11</th>\n",
       "      <td>sample:d015cfca-e047-40bc-baab-423e87fa2618</td>\n",
       "      <td>Fm-3m</td>\n",
       "      <td>4</td>\n",
       "    </tr>\n",
       "    <tr>\n",
       "      <th>12</th>\n",
       "      <td>sample:fb01a7f2-8984-442b-a32e-15321c4fa99b</td>\n",
       "      <td>Fm-3m</td>\n",
       "      <td>4</td>\n",
       "    </tr>\n",
       "    <tr>\n",
       "      <th>13</th>\n",
       "      <td>sample:aef7472e-7577-4256-8422-6ba77a954ce1</td>\n",
       "      <td>Fm-3m</td>\n",
       "      <td>4</td>\n",
       "    </tr>\n",
       "  </tbody>\n",
       "</table>\n",
       "</div>"
      ],
      "text/plain": [
       "                              AtomicScaleSample hasSpaceGroupSymbolvalue  \\\n",
       "0   sample:10ffd2cc-9e92-4f04-896d-d6c0fdb9e55f                    Pm-3m   \n",
       "1   sample:286c3974-962b-4333-a2bb-d164ae645454                    Fm-3m   \n",
       "2   sample:8fc8e47b-acee-40f8-bcbf-fc298cc31f05                    Fm-3m   \n",
       "3   sample:9f0f48d1-5ebf-4f7a-b241-5e7aa273f5a0                    Fm-3m   \n",
       "4   sample:e54c0e91-52ec-4c47-8ba3-43979a1ebe2e                    Fm-3m   \n",
       "5   sample:1f6b1b0f-446a-4ad8-877e-d2e6176797df                    Fm-3m   \n",
       "6   sample:67be61c7-f9c7-4d46-a61d-5350fd0ee246                    Fm-3m   \n",
       "7   sample:721b7447-8363-4e65-9515-9da2581d7124                    Fm-3m   \n",
       "8   sample:a3cf6d97-c922-4c4d-8517-e784df83b71e                    Fm-3m   \n",
       "9   sample:ab2bea57-39ea-49ea-ad3f-c1c40b013154                    Fm-3m   \n",
       "10  sample:b1f52dc6-5c92-428f-8f7a-78794fd0544c                    Fm-3m   \n",
       "11  sample:d015cfca-e047-40bc-baab-423e87fa2618                    Fm-3m   \n",
       "12  sample:fb01a7f2-8984-442b-a32e-15321c4fa99b                    Fm-3m   \n",
       "13  sample:aef7472e-7577-4256-8422-6ba77a954ce1                    Fm-3m   \n",
       "\n",
       "   hasNumberOfAtomsvalue  \n",
       "0                      4  \n",
       "1                      4  \n",
       "2                      4  \n",
       "3                      4  \n",
       "4                      4  \n",
       "5                      4  \n",
       "6                      4  \n",
       "7                      4  \n",
       "8                      4  \n",
       "9                      4  \n",
       "10                     4  \n",
       "11                     4  \n",
       "12                     4  \n",
       "13                     4  "
      ]
     },
     "execution_count": 20,
     "metadata": {},
     "output_type": "execute_result"
    }
   ],
   "source": [
    "kg.auto_query(kg.terms.cmso.AtomicScaleSample, [kg.terms.cmso.hasSpaceGroupSymbol, kg.terms.cmso.hasNumberOfAtoms==4])"
   ]
  },
  {
   "cell_type": "markdown",
   "metadata": {},
   "source": [
    "Now the building of such a query programmatically is discussed. The function needs a source and destination(s). Destination can include conditions attached to it, for example, that numbers of atoms. The first thing to do is to find the right terms. For this, we can use the tab completion feature."
   ]
  },
  {
   "cell_type": "code",
   "execution_count": 21,
   "metadata": {},
   "outputs": [
    {
     "data": {
      "text/plain": [
       "cmso, qudt, pldo, podo, asmo, ns, calculation, ldo, prov, rdf, rdfs"
      ]
     },
     "execution_count": 21,
     "metadata": {},
     "output_type": "execute_result"
    }
   ],
   "source": [
    "kg.terms"
   ]
  },
  {
   "cell_type": "markdown",
   "metadata": {},
   "source": [
    "Those are all the ontologies, with the terms we use. One can go deeper down"
   ]
  },
  {
   "cell_type": "code",
   "execution_count": 22,
   "metadata": {},
   "outputs": [
    {
     "data": {
      "text/plain": [
       "SimulationCell, UnitCell, LatticeAngle, SimulationCellAngle, Angle, AtomicScaleSample, AtomicForce, AtomicPosition, AtomicVelocity, CoordinationNumber, Occupancy, AtomAttribute, Basis, MacroscaleSample, MesoscaleSample, MicroscaleSample, NanoscaleSample, ComputationalSample, CalculatedProperty, CrystallineMaterial, CrystalDefect, Atom, Molecule, ChemicalSpecies, ChemicalElement, LatticeParameter, SimulationCellLength, Length, AmorphousMaterial, Material, CrystalStructure, SpaceGroup, Microstructure, Structure, LatticeVector, SimulationCellVector, Vector, ChemicalComposition, hasAngle, hasAttribute, hasBasis, hasCalculatedProperty, isCalculatedPropertyOf, hasDefect, isDefectOf, hasElement, hasLatticeParameter, hasLength, hasMaterial, isMaterialOf, hasSimulationCell, hasSpaceGroup, hasSpecies, hasStructure, hasUnit, hasUnitCell, hasVector, hasAltName, hasName, hasAngle_alpha, hasAngle_beta, hasAngle_gamma, hasAtomicPercent, hasBravaisLattice, hasChemicalSymbol, hasSymbol, hasComponent_x, hasComponent_y, hasComponent_z, hasElementRatio, hasIdentifier, hasLength_x, hasLength_y, hasLength_z, hasNumberOfAtoms, hasPath, hasReference, hasRepetition_x, hasRepetition_y, hasRepetition_z, hasSpaceGroupNumber, hasSpaceGroupSymbol, hasValue, hasVolume, hasWeightPercent"
      ]
     },
     "execution_count": 22,
     "metadata": {},
     "output_type": "execute_result"
    }
   ],
   "source": [
    "kg.terms.cmso"
   ]
  },
  {
   "cell_type": "markdown",
   "metadata": {},
   "source": [
    "And further select terms from there."
   ]
  },
  {
   "cell_type": "code",
   "execution_count": 23,
   "metadata": {},
   "outputs": [
    {
     "data": {
      "text/plain": [
       "cmso:AtomicScaleSample\n",
       "Atomic scale sample is a computational sample in the atomic length scale."
      ]
     },
     "execution_count": 23,
     "metadata": {},
     "output_type": "execute_result"
    }
   ],
   "source": [
    "kg.terms.cmso.AtomicScaleSample"
   ]
  },
  {
   "cell_type": "markdown",
   "metadata": {},
   "source": [
    "Applying constraints can be done through basic comparison operators"
   ]
  },
  {
   "cell_type": "markdown",
   "metadata": {},
   "source": [
    "## Basic comparison operations\n",
    "\n",
    "Basic operators such as <, >, <=, >=, and =="
   ]
  },
  {
   "cell_type": "markdown",
   "metadata": {},
   "source": [
    "These operations are useful for adding conditions to the SPARQL query. When these operations are performed on a term, it is stored in its condition string. No other changes are needed. "
   ]
  },
  {
   "cell_type": "code",
   "execution_count": 25,
   "metadata": {},
   "outputs": [
    {
     "data": {
      "text/plain": [
       "SimulationCell, UnitCell, LatticeAngle, SimulationCellAngle, Angle, AtomicScaleSample, AtomicForce, AtomicPosition, AtomicVelocity, CoordinationNumber, Occupancy, AtomAttribute, Basis, MacroscaleSample, MesoscaleSample, MicroscaleSample, NanoscaleSample, ComputationalSample, CalculatedProperty, CrystallineMaterial, CrystalDefect, Atom, Molecule, ChemicalSpecies, ChemicalElement, LatticeParameter, SimulationCellLength, Length, AmorphousMaterial, Material, CrystalStructure, SpaceGroup, Microstructure, Structure, LatticeVector, SimulationCellVector, Vector, ChemicalComposition, hasAngle, hasAttribute, hasBasis, hasCalculatedProperty, isCalculatedPropertyOf, hasDefect, isDefectOf, hasElement, hasLatticeParameter, hasLength, hasMaterial, isMaterialOf, hasSimulationCell, hasSpaceGroup, hasSpecies, hasStructure, hasUnit, hasUnitCell, hasVector, hasAltName, hasName, hasAngle_alpha, hasAngle_beta, hasAngle_gamma, hasAtomicPercent, hasBravaisLattice, hasChemicalSymbol, hasSymbol, hasComponent_x, hasComponent_y, hasComponent_z, hasElementRatio, hasIdentifier, hasLength_x, hasLength_y, hasLength_z, hasNumberOfAtoms, hasPath, hasReference, hasRepetition_x, hasRepetition_y, hasRepetition_z, hasSpaceGroupNumber, hasSpaceGroupSymbol, hasValue, hasVolume, hasWeightPercent"
      ]
     },
     "execution_count": 25,
     "metadata": {},
     "output_type": "execute_result"
    }
   ],
   "source": [
    "kg.terms.cmso"
   ]
  },
  {
   "cell_type": "code",
   "execution_count": null,
   "metadata": {},
   "outputs": [],
   "source": [
    "kg.terms.cmso.hasElementRatio==1.0"
   ]
  },
  {
   "cell_type": "markdown",
   "metadata": {},
   "source": [
    "## Logical operators\n",
    "\n",
    "Logical operators currently supported are & and |. These operators, when applied, aggregates the condition between two terms|"
   ]
  },
  {
   "cell_type": "code",
   "execution_count": null,
   "metadata": {},
   "outputs": [],
   "source": [
    "(kg.terms.cmso.hasChemicalSymbol=='Al') & (kg.terms.cmso.hasElementRatio==1.0)"
   ]
  },
  {
   "cell_type": "code",
   "execution_count": null,
   "metadata": {},
   "outputs": [],
   "source": [
    "(kg.terms.cmso.hasChemicalSymbol=='Al') | (kg.terms.cmso.hasElementRatio==1.0)"
   ]
  },
  {
   "cell_type": "markdown",
   "metadata": {},
   "source": [
    "## @ operator\n",
    "\n",
    "The final class of operator we have is the @ operator. This can be used for resolving terms that has multiple paths. For example, rdfs:label which multiple entities can have. "
   ]
  },
  {
   "cell_type": "markdown",
   "metadata": {},
   "source": [
    "If we want to specify label for the InputParameter, it can be done like this:"
   ]
  },
  {
   "cell_type": "code",
   "execution_count": null,
   "metadata": {},
   "outputs": [],
   "source": [
    "kg.terms.rdfs.label@kg.terms.asmo.hasInputParameter"
   ]
  },
  {
   "cell_type": "markdown",
   "metadata": {},
   "source": [
    "conditions can also be applied on top"
   ]
  },
  {
   "cell_type": "code",
   "execution_count": null,
   "metadata": {},
   "outputs": [],
   "source": [
    "kg.terms.rdfs.label@kg.terms.asmo.hasInputParameter=='label_string'"
   ]
  },
  {
   "cell_type": "markdown",
   "metadata": {},
   "source": [
    "That summarises all the possible options. Now we put together these blocks to formulate some more complex queries"
   ]
  },
  {
   "cell_type": "markdown",
   "metadata": {},
   "source": [
    "__All samples that have been used for an energy calculation__"
   ]
  },
  {
   "cell_type": "code",
   "execution_count": 26,
   "metadata": {},
   "outputs": [
    {
     "data": {
      "text/html": [
       "<div>\n",
       "<style scoped>\n",
       "    .dataframe tbody tr th:only-of-type {\n",
       "        vertical-align: middle;\n",
       "    }\n",
       "\n",
       "    .dataframe tbody tr th {\n",
       "        vertical-align: top;\n",
       "    }\n",
       "\n",
       "    .dataframe thead th {\n",
       "        text-align: right;\n",
       "    }\n",
       "</style>\n",
       "<table border=\"1\" class=\"dataframe\">\n",
       "  <thead>\n",
       "    <tr style=\"text-align: right;\">\n",
       "      <th></th>\n",
       "      <th>AtomicScaleSample</th>\n",
       "      <th>EnergyCalculation</th>\n",
       "    </tr>\n",
       "  </thead>\n",
       "  <tbody>\n",
       "    <tr>\n",
       "      <th>0</th>\n",
       "      <td>sample:e54c0e91-52ec-4c47-8ba3-43979a1ebe2e</td>\n",
       "      <td>activity:f61a2139-2dae-4aab-954e-73d34d7bc042</td>\n",
       "    </tr>\n",
       "    <tr>\n",
       "      <th>1</th>\n",
       "      <td>sample:721b7447-8363-4e65-9515-9da2581d7124</td>\n",
       "      <td>activity:0848b931-d647-41c7-a6dc-8150989e36c7</td>\n",
       "    </tr>\n",
       "    <tr>\n",
       "      <th>2</th>\n",
       "      <td>sample:ab2bea57-39ea-49ea-ad3f-c1c40b013154</td>\n",
       "      <td>activity:8a680cb2-c7f1-4747-95b0-a4ce71fab87f</td>\n",
       "    </tr>\n",
       "    <tr>\n",
       "      <th>3</th>\n",
       "      <td>sample:b1f52dc6-5c92-428f-8f7a-78794fd0544c</td>\n",
       "      <td>activity:2e461195-15a4-45ba-b369-5a2429ded084</td>\n",
       "    </tr>\n",
       "    <tr>\n",
       "      <th>4</th>\n",
       "      <td>sample:d015cfca-e047-40bc-baab-423e87fa2618</td>\n",
       "      <td>activity:1e081e86-73fd-45e5-8341-cab787b9ff0c</td>\n",
       "    </tr>\n",
       "    <tr>\n",
       "      <th>5</th>\n",
       "      <td>sample:fb01a7f2-8984-442b-a32e-15321c4fa99b</td>\n",
       "      <td>activity:923e1808-efdf-4a6a-a5de-9e0a64cb198c</td>\n",
       "    </tr>\n",
       "  </tbody>\n",
       "</table>\n",
       "</div>"
      ],
      "text/plain": [
       "                             AtomicScaleSample  \\\n",
       "0  sample:e54c0e91-52ec-4c47-8ba3-43979a1ebe2e   \n",
       "1  sample:721b7447-8363-4e65-9515-9da2581d7124   \n",
       "2  sample:ab2bea57-39ea-49ea-ad3f-c1c40b013154   \n",
       "3  sample:b1f52dc6-5c92-428f-8f7a-78794fd0544c   \n",
       "4  sample:d015cfca-e047-40bc-baab-423e87fa2618   \n",
       "5  sample:fb01a7f2-8984-442b-a32e-15321c4fa99b   \n",
       "\n",
       "                               EnergyCalculation  \n",
       "0  activity:f61a2139-2dae-4aab-954e-73d34d7bc042  \n",
       "1  activity:0848b931-d647-41c7-a6dc-8150989e36c7  \n",
       "2  activity:8a680cb2-c7f1-4747-95b0-a4ce71fab87f  \n",
       "3  activity:2e461195-15a4-45ba-b369-5a2429ded084  \n",
       "4  activity:1e081e86-73fd-45e5-8341-cab787b9ff0c  \n",
       "5  activity:923e1808-efdf-4a6a-a5de-9e0a64cb198c  "
      ]
     },
     "execution_count": 26,
     "metadata": {},
     "output_type": "execute_result"
    }
   ],
   "source": [
    "kg.auto_query(kg.terms.cmso.AtomicScaleSample, kg.terms.asmo.EnergyCalculation)"
   ]
  },
  {
   "cell_type": "markdown",
   "metadata": {},
   "source": [
    "__Which of those had an input parameter, called Temperature?__"
   ]
  },
  {
   "cell_type": "code",
   "execution_count": 27,
   "metadata": {},
   "outputs": [
    {
     "data": {
      "text/html": [
       "<div>\n",
       "<style scoped>\n",
       "    .dataframe tbody tr th:only-of-type {\n",
       "        vertical-align: middle;\n",
       "    }\n",
       "\n",
       "    .dataframe tbody tr th {\n",
       "        vertical-align: top;\n",
       "    }\n",
       "\n",
       "    .dataframe thead th {\n",
       "        text-align: right;\n",
       "    }\n",
       "</style>\n",
       "<table border=\"1\" class=\"dataframe\">\n",
       "  <thead>\n",
       "    <tr style=\"text-align: right;\">\n",
       "      <th></th>\n",
       "      <th>AtomicScaleSample</th>\n",
       "      <th>EnergyCalculation</th>\n",
       "      <th>InputParameter_labelvalue</th>\n",
       "    </tr>\n",
       "  </thead>\n",
       "  <tbody>\n",
       "    <tr>\n",
       "      <th>0</th>\n",
       "      <td>sample:e54c0e91-52ec-4c47-8ba3-43979a1ebe2e</td>\n",
       "      <td>activity:f61a2139-2dae-4aab-954e-73d34d7bc042</td>\n",
       "      <td>temperature</td>\n",
       "    </tr>\n",
       "  </tbody>\n",
       "</table>\n",
       "</div>"
      ],
      "text/plain": [
       "                             AtomicScaleSample  \\\n",
       "0  sample:e54c0e91-52ec-4c47-8ba3-43979a1ebe2e   \n",
       "\n",
       "                               EnergyCalculation InputParameter_labelvalue  \n",
       "0  activity:f61a2139-2dae-4aab-954e-73d34d7bc042               temperature  "
      ]
     },
     "execution_count": 27,
     "metadata": {},
     "output_type": "execute_result"
    }
   ],
   "source": [
    "kg.auto_query(kg.terms.cmso.AtomicScaleSample, [kg.terms.asmo.EnergyCalculation,\n",
    "                                                kg.terms.rdfs.label@kg.terms.asmo.InputParameter=='temperature'])"
   ]
  },
  {
   "cell_type": "markdown",
   "metadata": {},
   "source": [
    "And the value"
   ]
  },
  {
   "cell_type": "code",
   "execution_count": 28,
   "metadata": {},
   "outputs": [
    {
     "data": {
      "text/html": [
       "<div>\n",
       "<style scoped>\n",
       "    .dataframe tbody tr th:only-of-type {\n",
       "        vertical-align: middle;\n",
       "    }\n",
       "\n",
       "    .dataframe tbody tr th {\n",
       "        vertical-align: top;\n",
       "    }\n",
       "\n",
       "    .dataframe thead th {\n",
       "        text-align: right;\n",
       "    }\n",
       "</style>\n",
       "<table border=\"1\" class=\"dataframe\">\n",
       "  <thead>\n",
       "    <tr style=\"text-align: right;\">\n",
       "      <th></th>\n",
       "      <th>AtomicScaleSample</th>\n",
       "      <th>EnergyCalculation</th>\n",
       "      <th>InputParameter_labelvalue</th>\n",
       "      <th>InputParameter_hasValuevalue</th>\n",
       "    </tr>\n",
       "  </thead>\n",
       "  <tbody>\n",
       "    <tr>\n",
       "      <th>0</th>\n",
       "      <td>sample:e54c0e91-52ec-4c47-8ba3-43979a1ebe2e</td>\n",
       "      <td>activity:f61a2139-2dae-4aab-954e-73d34d7bc042</td>\n",
       "      <td>temperature</td>\n",
       "      <td>500.0</td>\n",
       "    </tr>\n",
       "  </tbody>\n",
       "</table>\n",
       "</div>"
      ],
      "text/plain": [
       "                             AtomicScaleSample  \\\n",
       "0  sample:e54c0e91-52ec-4c47-8ba3-43979a1ebe2e   \n",
       "\n",
       "                               EnergyCalculation InputParameter_labelvalue  \\\n",
       "0  activity:f61a2139-2dae-4aab-954e-73d34d7bc042               temperature   \n",
       "\n",
       "  InputParameter_hasValuevalue  \n",
       "0                        500.0  "
      ]
     },
     "execution_count": 28,
     "metadata": {},
     "output_type": "execute_result"
    }
   ],
   "source": [
    "kg.auto_query(kg.terms.cmso.AtomicScaleSample, [kg.terms.asmo.EnergyCalculation,\n",
    "                                                kg.terms.rdfs.label@kg.terms.asmo.InputParameter=='temperature',\n",
    "                                                kg.terms.asmo.hasValue@kg.terms.asmo.InputParameter])"
   ]
  },
  {
   "cell_type": "markdown",
   "metadata": {},
   "source": [
    "**What is the composition and space group of these structures**"
   ]
  },
  {
   "cell_type": "code",
   "execution_count": 30,
   "metadata": {},
   "outputs": [],
   "source": [
    "ss = kg.auto_query(kg.terms.cmso.AtomicScaleSample, [\n",
    "        kg.terms.rdfs.label@kg.terms.asmo.InputParameter=='temperature',\n",
    "        kg.terms.asmo.hasValue@kg.terms.asmo.InputParameter,\n",
    "        kg.terms.cmso.hasSpaceGroupSymbol,\n",
    "        kg.terms.cmso.hasChemicalSymbol,\n",
    "        kg.terms.cmso.hasElementRatio],\n",
    "             return_query=True)"
   ]
  },
  {
   "cell_type": "code",
   "execution_count": 31,
   "metadata": {},
   "outputs": [
    {
     "name": "stdout",
     "output_type": "stream",
     "text": [
      "PREFIX cmso: <http://purls.helmholtz-metadaten.de/cmso/>\n",
      "PREFIX qudt: <http://qudt.org/schema/qudt/>\n",
      "PREFIX pldo: <http://purls.helmholtz-metadaten.de/pldo/>\n",
      "PREFIX podo: <http://purls.helmholtz-metadaten.de/podo/>\n",
      "PREFIX asmo: <http://purls.helmholtz-metadaten.de/asmo/>\n",
      "PREFIX ns: <http://www.w3.org/ns/>\n",
      "PREFIX calculation: <https://w3id.org/mdo/calculation/>\n",
      "PREFIX ldo: <http://purls.helmholtz-metadaten.de/cdos/ldo/>\n",
      "PREFIX prov: <http://www.w3.org/ns/prov#>\n",
      "PREFIX rdf: <http://www.w3.org/1999/02/22-rdf-syntax-ns#>\n",
      "PREFIX rdfs: <http://www.w3.org/2000/01/rdf-schema#>\n",
      "SELECT DISTINCT ?AtomicScaleSample ?InputParameter_labelvalue ?InputParameter_hasValuevalue ?hasSpaceGroupSymbolvalue ?hasChemicalSymbolvalue ?hasElementRatiovalue\n",
      "WHERE {\n",
      "    ?AtomicScaleSample prov:wasGeneratedBy ?asmo_EnergyCalculation .\n",
      "    ?asmo_EnergyCalculation asmo:hasInputParameter ?InputParameter .\n",
      "    ?InputParameter rdfs:label ?InputParameter_labelvalue .\n",
      "    ?InputParameter asmo:hasValue ?InputParameter_hasValuevalue .\n",
      "    ?AtomicScaleSample cmso:hasMaterial ?cmso_AmorphousMaterial .\n",
      "    ?cmso_AmorphousMaterial cmso:hasStructure ?cmso_CrystalStructure .\n",
      "    ?cmso_CrystalStructure cmso:hasSpaceGroupSymbol ?hasSpaceGroupSymbolvalue .\n",
      "    ?AtomicScaleSample cmso:hasSpecies ?cmso_Atom .\n",
      "    ?cmso_Atom cmso:hasElement ?cmso_ChemicalElement .\n",
      "    ?cmso_ChemicalElement cmso:hasChemicalSymbol ?hasChemicalSymbolvalue .\n",
      "    ?cmso_ChemicalElement cmso:hasElementRatio ?hasElementRatiovalue .\n",
      "    ?AtomicScaleSample rdf:type cmso:AtomicScaleSample .\n",
      "FILTER (?InputParameter_labelvalue=\"temperature\"^^xsd:string)\n",
      "}\n"
     ]
    }
   ],
   "source": [
    "print(ss)"
   ]
  },
  {
   "cell_type": "code",
   "execution_count": null,
   "metadata": {},
   "outputs": [],
   "source": []
  }
 ],
 "metadata": {
  "kernelspec": {
   "display_name": "Python 3 (ipykernel)",
   "language": "python",
   "name": "python3"
  },
  "language_info": {
   "codemirror_mode": {
    "name": "ipython",
    "version": 3
   },
   "file_extension": ".py",
   "mimetype": "text/x-python",
   "name": "python",
   "nbconvert_exporter": "python",
   "pygments_lexer": "ipython3",
   "version": "3.11.8"
  }
 },
 "nbformat": 4,
 "nbformat_minor": 4
}
