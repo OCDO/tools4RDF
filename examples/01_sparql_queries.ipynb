{
 "cells": [
  {
   "cell_type": "markdown",
   "metadata": {},
   "source": [
    "# Writing SPARQL queries programmatically\n",
    "\n",
    "This notebook demonstrates how to compose SPARQL queries programmatically, with little to no prior knowledge of SPARQL syntax.\n",
    "\n",
    "As an example, we'll work with the well-known Pizza ontology and a set of pre-loaded RDF data."
   ]
  },
  {
   "cell_type": "code",
   "execution_count": 30,
   "metadata": {},
   "outputs": [],
   "source": [
    "from tools4rdf.network.network import OntologyNetwork\n",
    "from rdflib import Graph"
   ]
  },
  {
   "cell_type": "code",
   "execution_count": 31,
   "metadata": {},
   "outputs": [],
   "source": [
    "onto = OntologyNetwork(\"pizza.owl\")"
   ]
  },
  {
   "cell_type": "markdown",
   "metadata": {},
   "source": [
    "<img src=\"examples/pizza_schematic.jpg\" alt=\"Pizza schematic\" width=\"400\"/>\n"
   ]
  },
  {
   "cell_type": "code",
   "execution_count": 32,
   "metadata": {},
   "outputs": [
    {
     "data": {
      "text/plain": [
       "<Graph identifier=Nfe61821628bb4b0994bf2268c5ef025a (<class 'rdflib.graph.Graph'>)>"
      ]
     },
     "execution_count": 32,
     "metadata": {},
     "output_type": "execute_result"
    }
   ],
   "source": [
    "g = Graph()\n",
    "g.parse(\"pizza_kg.ttl\", format=\"ttl\")"
   ]
  },
  {
   "cell_type": "markdown",
   "metadata": {},
   "source": [
    "Naturally, you can write and run SPARQL queries directly. Here's a simple example:"
   ]
  },
  {
   "cell_type": "code",
   "execution_count": 33,
   "metadata": {},
   "outputs": [],
   "source": [
    "query = \"\"\"\n",
    "PREFIX pizza: <https://example.org/pizza#>\n",
    "PREFIX rdf: <http://www.w3.org/1999/02/22-rdf-syntax-ns#>\n",
    "SELECT DISTINCT ?Food ?hasPricevalue\n",
    "WHERE {\n",
    "    ?Food pizza:hasPrice ?hasPricevalue .\n",
    "}\"\"\""
   ]
  },
  {
   "cell_type": "markdown",
   "metadata": {},
   "source": [
    "Running a Direct SPARQL Query Using RDFLib"
   ]
  },
  {
   "cell_type": "code",
   "execution_count": 34,
   "metadata": {},
   "outputs": [],
   "source": [
    "results = g.query(query)"
   ]
  },
  {
   "cell_type": "code",
   "execution_count": 35,
   "metadata": {},
   "outputs": [
    {
     "name": "stdout",
     "output_type": "stream",
     "text": [
      "(rdflib.term.URIRef('American:3775bb76'), rdflib.term.Literal('10.0', datatype=rdflib.term.URIRef('http://www.w3.org/2001/XMLSchema#float')))\n",
      "(rdflib.term.URIRef('AmericanHot:b3f8f95b'), rdflib.term.Literal('11.5', datatype=rdflib.term.URIRef('http://www.w3.org/2001/XMLSchema#float')))\n",
      "(rdflib.term.URIRef('VegetarianPizza:48687fff'), rdflib.term.Literal('11.5', datatype=rdflib.term.URIRef('http://www.w3.org/2001/XMLSchema#float')))\n",
      "(rdflib.term.URIRef('IceCream:58e21cdd'), rdflib.term.Literal('7.0', datatype=rdflib.term.URIRef('http://www.w3.org/2001/XMLSchema#float')))\n",
      "(rdflib.term.URIRef('Margherita:52ceb1ed'), rdflib.term.Literal('8.99', datatype=rdflib.term.URIRef('http://www.w3.org/2001/XMLSchema#float')))\n",
      "(rdflib.term.URIRef('Margherita:fed8acfc'), rdflib.term.Literal('9.5', datatype=rdflib.term.URIRef('http://www.w3.org/2001/XMLSchema#float')))\n",
      "(rdflib.term.URIRef('Mushroom:1e428ac1'), rdflib.term.Literal('11.0', datatype=rdflib.term.URIRef('http://www.w3.org/2001/XMLSchema#float')))\n",
      "(rdflib.term.URIRef('SpicyPizza:2a9eb8e8'), rdflib.term.Literal('11.0', datatype=rdflib.term.URIRef('http://www.w3.org/2001/XMLSchema#float')))\n",
      "(rdflib.term.URIRef('SpicyPizza:8864a1fc'), rdflib.term.Literal('12.99', datatype=rdflib.term.URIRef('http://www.w3.org/2001/XMLSchema#float')))\n"
     ]
    }
   ],
   "source": [
    "for row in results:\n",
    "    print(row)"
   ]
  },
  {
   "cell_type": "markdown",
   "metadata": {},
   "source": [
    "You can also construct this query programmatically. Here’s how that looks:"
   ]
  },
  {
   "cell_type": "markdown",
   "metadata": {},
   "source": [
    "You can use `onto.terms` with tab completion to explore available ontology terms."
   ]
  },
  {
   "cell_type": "code",
   "execution_count": 36,
   "metadata": {},
   "outputs": [
    {
     "data": {
      "text/html": [
       "<div>\n",
       "<style scoped>\n",
       "    .dataframe tbody tr th:only-of-type {\n",
       "        vertical-align: middle;\n",
       "    }\n",
       "\n",
       "    .dataframe tbody tr th {\n",
       "        vertical-align: top;\n",
       "    }\n",
       "\n",
       "    .dataframe thead th {\n",
       "        text-align: right;\n",
       "    }\n",
       "</style>\n",
       "<table border=\"1\" class=\"dataframe\">\n",
       "  <thead>\n",
       "    <tr style=\"text-align: right;\">\n",
       "      <th></th>\n",
       "      <th>Food</th>\n",
       "      <th>hasPricevalue</th>\n",
       "    </tr>\n",
       "  </thead>\n",
       "  <tbody>\n",
       "    <tr>\n",
       "      <th>0</th>\n",
       "      <td>American:3775bb76</td>\n",
       "      <td>10.0</td>\n",
       "    </tr>\n",
       "    <tr>\n",
       "      <th>1</th>\n",
       "      <td>AmericanHot:b3f8f95b</td>\n",
       "      <td>11.5</td>\n",
       "    </tr>\n",
       "    <tr>\n",
       "      <th>2</th>\n",
       "      <td>VegetarianPizza:48687fff</td>\n",
       "      <td>11.5</td>\n",
       "    </tr>\n",
       "    <tr>\n",
       "      <th>3</th>\n",
       "      <td>IceCream:58e21cdd</td>\n",
       "      <td>7.0</td>\n",
       "    </tr>\n",
       "    <tr>\n",
       "      <th>4</th>\n",
       "      <td>Margherita:52ceb1ed</td>\n",
       "      <td>8.99</td>\n",
       "    </tr>\n",
       "    <tr>\n",
       "      <th>5</th>\n",
       "      <td>Margherita:fed8acfc</td>\n",
       "      <td>9.5</td>\n",
       "    </tr>\n",
       "    <tr>\n",
       "      <th>6</th>\n",
       "      <td>Mushroom:1e428ac1</td>\n",
       "      <td>11.0</td>\n",
       "    </tr>\n",
       "    <tr>\n",
       "      <th>7</th>\n",
       "      <td>SpicyPizza:2a9eb8e8</td>\n",
       "      <td>11.0</td>\n",
       "    </tr>\n",
       "    <tr>\n",
       "      <th>8</th>\n",
       "      <td>SpicyPizza:8864a1fc</td>\n",
       "      <td>12.99</td>\n",
       "    </tr>\n",
       "  </tbody>\n",
       "</table>\n",
       "</div>"
      ],
      "text/plain": [
       "                       Food hasPricevalue\n",
       "0         American:3775bb76          10.0\n",
       "1      AmericanHot:b3f8f95b          11.5\n",
       "2  VegetarianPizza:48687fff          11.5\n",
       "3         IceCream:58e21cdd           7.0\n",
       "4       Margherita:52ceb1ed          8.99\n",
       "5       Margherita:fed8acfc           9.5\n",
       "6         Mushroom:1e428ac1          11.0\n",
       "7       SpicyPizza:2a9eb8e8          11.0\n",
       "8       SpicyPizza:8864a1fc         12.99"
      ]
     },
     "execution_count": 36,
     "metadata": {},
     "output_type": "execute_result"
    }
   ],
   "source": [
    "q = onto.query(g, onto.terms.pizza.Food.any, onto.terms.pizza.hasPrice)\n",
    "q"
   ]
  },
  {
   "cell_type": "markdown",
   "metadata": {},
   "source": [
    "The `tools4RDF` package also provides a query method that returns results as a pandas DataFrame, making further analysis easier."
   ]
  },
  {
   "cell_type": "markdown",
   "metadata": {},
   "source": [
    "Now let's look at how to build this type of query programmatically.\n",
    "The function requires a source class and one or more destination classes.\n",
    "In this case, we want to find all pizzas that include a Peperoni Sausage Topping."
   ]
  },
  {
   "cell_type": "code",
   "execution_count": 37,
   "metadata": {},
   "outputs": [
    {
     "data": {
      "text/html": [
       "<div>\n",
       "<style scoped>\n",
       "    .dataframe tbody tr th:only-of-type {\n",
       "        vertical-align: middle;\n",
       "    }\n",
       "\n",
       "    .dataframe tbody tr th {\n",
       "        vertical-align: top;\n",
       "    }\n",
       "\n",
       "    .dataframe thead th {\n",
       "        text-align: right;\n",
       "    }\n",
       "</style>\n",
       "<table border=\"1\" class=\"dataframe\">\n",
       "  <thead>\n",
       "    <tr style=\"text-align: right;\">\n",
       "      <th></th>\n",
       "      <th>Pizza</th>\n",
       "      <th>PeperoniSausageTopping</th>\n",
       "    </tr>\n",
       "  </thead>\n",
       "  <tbody>\n",
       "  </tbody>\n",
       "</table>\n",
       "</div>"
      ],
      "text/plain": [
       "Empty DataFrame\n",
       "Columns: [Pizza, PeperoniSausageTopping]\n",
       "Index: []"
      ]
     },
     "execution_count": 37,
     "metadata": {},
     "output_type": "execute_result"
    }
   ],
   "source": [
    "q = onto.query(g, onto.terms.pizza.Pizza, onto.terms.pizza.PeperoniSausageTopping)\n",
    "q"
   ]
  },
  {
   "cell_type": "markdown",
   "metadata": {},
   "source": [
    "What happened here? The function tried to find the shortest path between the `Pizza` and `PeperoniSausageTopping` classes. Since both are subclasses of `Food`, it initially chose the `hasIngredient` property.\n",
    "\n",
    "However, by increasing the `num_paths` parameter, we can get alternative paths. In this case, the second option uses `hasTopping`, which is the more appropiate query."
   ]
  },
  {
   "cell_type": "code",
   "execution_count": 38,
   "metadata": {},
   "outputs": [
    {
     "name": "stdout",
     "output_type": "stream",
     "text": [
      "PREFIX rdf: <http://www.w3.org/1999/02/22-rdf-syntax-ns#>\n",
      "PREFIX pizza: <https://example.org/pizza#>\n",
      "SELECT DISTINCT ?Pizza ?PeperoniSausageTopping\n",
      "WHERE {\n",
      "    ?Pizza pizza:hasIngredient ?PeperoniSausageTopping .\n",
      "    ?Pizza rdf:type pizza:Pizza .\n",
      "    ?PeperoniSausageTopping rdf:type pizza:PeperoniSausageTopping .\n",
      "} PREFIX rdf: <http://www.w3.org/1999/02/22-rdf-syntax-ns#>\n",
      "PREFIX pizza: <https://example.org/pizza#>\n",
      "SELECT DISTINCT ?Pizza ?PeperoniSausageTopping\n",
      "WHERE {\n",
      "    ?Pizza pizza:hasTopping ?PeperoniSausageTopping .\n",
      "    ?Pizza rdf:type pizza:Pizza .\n",
      "    ?PeperoniSausageTopping rdf:type pizza:PeperoniSausageTopping .\n",
      "}\n"
     ]
    }
   ],
   "source": [
    "q = onto.create_query(onto.terms.pizza.Pizza, onto.terms.pizza.PeperoniSausageTopping,num_paths=2)\n",
    "print (q[0], q[1])"
   ]
  },
  {
   "cell_type": "markdown",
   "metadata": {},
   "source": [
    "If you know part of the path in advance, you can specify intermediate classes or properties.\n",
    "For example, we can directly query for any class that has a `PeperoniSausageTopping` using the `hasTopping` object property."
   ]
  },
  {
   "cell_type": "code",
   "execution_count": 39,
   "metadata": {},
   "outputs": [
    {
     "data": {
      "text/html": [
       "<div>\n",
       "<style scoped>\n",
       "    .dataframe tbody tr th:only-of-type {\n",
       "        vertical-align: middle;\n",
       "    }\n",
       "\n",
       "    .dataframe tbody tr th {\n",
       "        vertical-align: top;\n",
       "    }\n",
       "\n",
       "    .dataframe thead th {\n",
       "        text-align: right;\n",
       "    }\n",
       "</style>\n",
       "<table border=\"1\" class=\"dataframe\">\n",
       "  <thead>\n",
       "    <tr style=\"text-align: right;\">\n",
       "      <th></th>\n",
       "      <th>Pizza</th>\n",
       "      <th>hasTopping_PeperoniSausageTopping</th>\n",
       "    </tr>\n",
       "  </thead>\n",
       "  <tbody>\n",
       "    <tr>\n",
       "      <th>0</th>\n",
       "      <td>American:3775bb76</td>\n",
       "      <td>PeperoniSausageTopping:f3a39bb8</td>\n",
       "    </tr>\n",
       "    <tr>\n",
       "      <th>1</th>\n",
       "      <td>AmericanHot:b3f8f95b</td>\n",
       "      <td>PeperoniSausageTopping:f3a39bb8</td>\n",
       "    </tr>\n",
       "    <tr>\n",
       "      <th>2</th>\n",
       "      <td>Margherita:52ceb1ed</td>\n",
       "      <td>PeperoniSausageTopping:f3a39bb8</td>\n",
       "    </tr>\n",
       "    <tr>\n",
       "      <th>3</th>\n",
       "      <td>Margherita:fed8acfc</td>\n",
       "      <td>PeperoniSausageTopping:f3a39bb8</td>\n",
       "    </tr>\n",
       "    <tr>\n",
       "      <th>4</th>\n",
       "      <td>Mushroom:1e428ac1</td>\n",
       "      <td>PeperoniSausageTopping:f3a39bb8</td>\n",
       "    </tr>\n",
       "    <tr>\n",
       "      <th>5</th>\n",
       "      <td>SpicyPizza:2a9eb8e8</td>\n",
       "      <td>PeperoniSausageTopping:f3a39bb8</td>\n",
       "    </tr>\n",
       "    <tr>\n",
       "      <th>6</th>\n",
       "      <td>SpicyPizza:8864a1fc</td>\n",
       "      <td>PeperoniSausageTopping:f3a39bb8</td>\n",
       "    </tr>\n",
       "    <tr>\n",
       "      <th>7</th>\n",
       "      <td>VegetarianPizza:48687fff</td>\n",
       "      <td>PeperoniSausageTopping:f3a39bb8</td>\n",
       "    </tr>\n",
       "  </tbody>\n",
       "</table>\n",
       "</div>"
      ],
      "text/plain": [
       "                      Pizza hasTopping_PeperoniSausageTopping\n",
       "0         American:3775bb76   PeperoniSausageTopping:f3a39bb8\n",
       "1      AmericanHot:b3f8f95b   PeperoniSausageTopping:f3a39bb8\n",
       "2       Margherita:52ceb1ed   PeperoniSausageTopping:f3a39bb8\n",
       "3       Margherita:fed8acfc   PeperoniSausageTopping:f3a39bb8\n",
       "4         Mushroom:1e428ac1   PeperoniSausageTopping:f3a39bb8\n",
       "5       SpicyPizza:2a9eb8e8   PeperoniSausageTopping:f3a39bb8\n",
       "6       SpicyPizza:8864a1fc   PeperoniSausageTopping:f3a39bb8\n",
       "7  VegetarianPizza:48687fff   PeperoniSausageTopping:f3a39bb8"
      ]
     },
     "execution_count": 39,
     "metadata": {},
     "output_type": "execute_result"
    }
   ],
   "source": [
    "q = onto.query(g, onto.terms.pizza.Pizza.all_subtypes, [[onto.terms.pizza.hasTopping, onto.terms.pizza.PeperoniSausageTopping],])\n",
    "q"
   ]
  },
  {
   "cell_type": "markdown",
   "metadata": {},
   "source": [
    "Alternatively, you can also start from a specific predicate and build the query outward from there."
   ]
  },
  {
   "cell_type": "code",
   "execution_count": 40,
   "metadata": {},
   "outputs": [
    {
     "data": {
      "text/html": [
       "<div>\n",
       "<style scoped>\n",
       "    .dataframe tbody tr th:only-of-type {\n",
       "        vertical-align: middle;\n",
       "    }\n",
       "\n",
       "    .dataframe tbody tr th {\n",
       "        vertical-align: top;\n",
       "    }\n",
       "\n",
       "    .dataframe thead th {\n",
       "        text-align: right;\n",
       "    }\n",
       "</style>\n",
       "<table border=\"1\" class=\"dataframe\">\n",
       "  <thead>\n",
       "    <tr style=\"text-align: right;\">\n",
       "      <th></th>\n",
       "      <th>Siciliana</th>\n",
       "      <th>PeperoniSausageTopping</th>\n",
       "      <th>hasTopping</th>\n",
       "    </tr>\n",
       "  </thead>\n",
       "  <tbody>\n",
       "  </tbody>\n",
       "</table>\n",
       "</div>"
      ],
      "text/plain": [
       "Empty DataFrame\n",
       "Columns: [Siciliana, PeperoniSausageTopping, hasTopping]\n",
       "Index: []"
      ]
     },
     "execution_count": 40,
     "metadata": {},
     "output_type": "execute_result"
    }
   ],
   "source": [
    "q = onto.query(g, onto.terms.pizza.hasTopping, onto.terms.pizza.PeperoniSausageTopping)\n",
    "q"
   ]
  }
 ],
 "metadata": {
  "kernelspec": {
   "display_name": "Python 3 (ipykernel)",
   "language": "python",
   "name": "python3"
  },
  "language_info": {
   "codemirror_mode": {
    "name": "ipython",
    "version": 3
   },
   "file_extension": ".py",
   "mimetype": "text/x-python",
   "name": "python",
   "nbconvert_exporter": "python",
   "pygments_lexer": "ipython3",
   "version": "3.11.11"
  }
 },
 "nbformat": 4,
 "nbformat_minor": 4
}
