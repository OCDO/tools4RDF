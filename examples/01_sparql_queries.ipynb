{
 "cells": [
  {
   "cell_type": "markdown",
   "metadata": {},
   "source": [
    "# SPARQL queries\n",
    "\n",
    "This notebook demonstrates how SPARQL queries can be composed programmatically, and without (almost) no knowledge of SPARQL. For this purpose, we will use an existing dataset. For this example, we will use pre-prepared ontology networks. See `tools4rdf/network/ontology.py` on how to read in Ontologies and create networks from them."
   ]
  },
  {
   "cell_type": "code",
   "execution_count": 1,
   "metadata": {},
   "outputs": [],
   "source": [
    "from tools4rdf.network.ontology import read_ontology\n",
    "from rdflib import Graph"
   ]
  },
  {
   "cell_type": "code",
   "execution_count": 2,
   "metadata": {},
   "outputs": [],
   "source": [
    "onto = read_ontology()"
   ]
  },
  {
   "cell_type": "code",
   "execution_count": 3,
   "metadata": {},
   "outputs": [
    {
     "data": {
      "text/plain": [
       "<Graph identifier=Na4730e087d2641698162513edb40c7eb (<class 'rdflib.graph.Graph'>)>"
      ]
     },
     "execution_count": 3,
     "metadata": {},
     "output_type": "execute_result"
    }
   ],
   "source": [
    "#kg = KnowledgeGraph.unarchive('dataset.tar.gz')\n",
    "kg = Graph()\n",
    "kg.parse(\"dataset/triples\", format=\"turtle\")"
   ]
  },
  {
   "cell_type": "markdown",
   "metadata": {},
   "source": [
    "Of course, SPARQL queries can be directly run. See an example:"
   ]
  },
  {
   "cell_type": "code",
   "execution_count": 4,
   "metadata": {},
   "outputs": [],
   "source": [
    "query = \"\"\"\n",
    "PREFIX cmso: <http://purls.helmholtz-metadaten.de/cmso/>\n",
    "SELECT DISTINCT ?sample ?symbol ?number \n",
    "WHERE {\n",
    "    ?sample cmso:hasMaterial ?material .\n",
    "    ?material cmso:hasStructure ?structure .\n",
    "    ?structure cmso:hasSpaceGroupSymbol ?symbol .\n",
    "    ?sample cmso:hasNumberOfAtoms ?number .\n",
    "FILTER (?number=\"4\"^^xsd:integer)\n",
    "}\"\"\""
   ]
  },
  {
   "cell_type": "markdown",
   "metadata": {},
   "source": [
    "The above query finds the Space Group symbol of all structures which have four atoms."
   ]
  },
  {
   "cell_type": "code",
   "execution_count": 5,
   "metadata": {},
   "outputs": [],
   "source": [
    "results = kg.query(query)"
   ]
  },
  {
   "cell_type": "code",
   "execution_count": 6,
   "metadata": {},
   "outputs": [
    {
     "name": "stdout",
     "output_type": "stream",
     "text": [
      "(rdflib.term.URIRef('sample:10ffd2cc-9e92-4f04-896d-d6c0fdb9e55f'), rdflib.term.Literal('Pm-3m', datatype=rdflib.term.URIRef('http://www.w3.org/2001/XMLSchema#string')), rdflib.term.Literal('4', datatype=rdflib.term.URIRef('http://www.w3.org/2001/XMLSchema#integer')))\n",
      "(rdflib.term.URIRef('sample:1f6b1b0f-446a-4ad8-877e-d2e6176797df'), rdflib.term.Literal('Fm-3m', datatype=rdflib.term.URIRef('http://www.w3.org/2001/XMLSchema#string')), rdflib.term.Literal('4', datatype=rdflib.term.URIRef('http://www.w3.org/2001/XMLSchema#integer')))\n",
      "(rdflib.term.URIRef('sample:286c3974-962b-4333-a2bb-d164ae645454'), rdflib.term.Literal('Fm-3m', datatype=rdflib.term.URIRef('http://www.w3.org/2001/XMLSchema#string')), rdflib.term.Literal('4', datatype=rdflib.term.URIRef('http://www.w3.org/2001/XMLSchema#integer')))\n",
      "(rdflib.term.URIRef('sample:67be61c7-f9c7-4d46-a61d-5350fd0ee246'), rdflib.term.Literal('Fm-3m', datatype=rdflib.term.URIRef('http://www.w3.org/2001/XMLSchema#string')), rdflib.term.Literal('4', datatype=rdflib.term.URIRef('http://www.w3.org/2001/XMLSchema#integer')))\n",
      "(rdflib.term.URIRef('sample:721b7447-8363-4e65-9515-9da2581d7124'), rdflib.term.Literal('Fm-3m', datatype=rdflib.term.URIRef('http://www.w3.org/2001/XMLSchema#string')), rdflib.term.Literal('4', datatype=rdflib.term.URIRef('http://www.w3.org/2001/XMLSchema#integer')))\n",
      "(rdflib.term.URIRef('sample:8fc8e47b-acee-40f8-bcbf-fc298cc31f05'), rdflib.term.Literal('Fm-3m', datatype=rdflib.term.URIRef('http://www.w3.org/2001/XMLSchema#string')), rdflib.term.Literal('4', datatype=rdflib.term.URIRef('http://www.w3.org/2001/XMLSchema#integer')))\n",
      "(rdflib.term.URIRef('sample:9f0f48d1-5ebf-4f7a-b241-5e7aa273f5a0'), rdflib.term.Literal('Fm-3m', datatype=rdflib.term.URIRef('http://www.w3.org/2001/XMLSchema#string')), rdflib.term.Literal('4', datatype=rdflib.term.URIRef('http://www.w3.org/2001/XMLSchema#integer')))\n",
      "(rdflib.term.URIRef('sample:a3cf6d97-c922-4c4d-8517-e784df83b71e'), rdflib.term.Literal('Fm-3m', datatype=rdflib.term.URIRef('http://www.w3.org/2001/XMLSchema#string')), rdflib.term.Literal('4', datatype=rdflib.term.URIRef('http://www.w3.org/2001/XMLSchema#integer')))\n",
      "(rdflib.term.URIRef('sample:ab2bea57-39ea-49ea-ad3f-c1c40b013154'), rdflib.term.Literal('Fm-3m', datatype=rdflib.term.URIRef('http://www.w3.org/2001/XMLSchema#string')), rdflib.term.Literal('4', datatype=rdflib.term.URIRef('http://www.w3.org/2001/XMLSchema#integer')))\n",
      "(rdflib.term.URIRef('sample:aef7472e-7577-4256-8422-6ba77a954ce1'), rdflib.term.Literal('Fm-3m', datatype=rdflib.term.URIRef('http://www.w3.org/2001/XMLSchema#string')), rdflib.term.Literal('4', datatype=rdflib.term.URIRef('http://www.w3.org/2001/XMLSchema#integer')))\n",
      "(rdflib.term.URIRef('sample:b1f52dc6-5c92-428f-8f7a-78794fd0544c'), rdflib.term.Literal('Fm-3m', datatype=rdflib.term.URIRef('http://www.w3.org/2001/XMLSchema#string')), rdflib.term.Literal('4', datatype=rdflib.term.URIRef('http://www.w3.org/2001/XMLSchema#integer')))\n",
      "(rdflib.term.URIRef('sample:d015cfca-e047-40bc-baab-423e87fa2618'), rdflib.term.Literal('Fm-3m', datatype=rdflib.term.URIRef('http://www.w3.org/2001/XMLSchema#string')), rdflib.term.Literal('4', datatype=rdflib.term.URIRef('http://www.w3.org/2001/XMLSchema#integer')))\n",
      "(rdflib.term.URIRef('sample:e54c0e91-52ec-4c47-8ba3-43979a1ebe2e'), rdflib.term.Literal('Fm-3m', datatype=rdflib.term.URIRef('http://www.w3.org/2001/XMLSchema#string')), rdflib.term.Literal('4', datatype=rdflib.term.URIRef('http://www.w3.org/2001/XMLSchema#integer')))\n",
      "(rdflib.term.URIRef('sample:fb01a7f2-8984-442b-a32e-15321c4fa99b'), rdflib.term.Literal('Fm-3m', datatype=rdflib.term.URIRef('http://www.w3.org/2001/XMLSchema#string')), rdflib.term.Literal('4', datatype=rdflib.term.URIRef('http://www.w3.org/2001/XMLSchema#integer')))\n"
     ]
    }
   ],
   "source": [
    "for row in results:\n",
    "    print(row)"
   ]
  },
  {
   "cell_type": "markdown",
   "metadata": {},
   "source": [
    "This query can also be performed programmatically, which looks like this:"
   ]
  },
  {
   "cell_type": "markdown",
   "metadata": {},
   "source": [
    "`onto.terms` can be auto-completed to find ontology terms"
   ]
  },
  {
   "cell_type": "code",
   "execution_count": 7,
   "metadata": {},
   "outputs": [],
   "source": [
    "query = onto.create_query(onto.terms.cmso.AtomicScaleSample, [onto.terms.cmso.hasSpaceGroupSymbol, onto.terms.cmso.hasNumberOfAtoms==4])"
   ]
  },
  {
   "cell_type": "code",
   "execution_count": 8,
   "metadata": {},
   "outputs": [
    {
     "name": "stdout",
     "output_type": "stream",
     "text": [
      "PREFIX cmso: <http://purls.helmholtz-metadaten.de/cmso/>\n",
      "PREFIX rdf: <http://www.w3.org/1999/02/22-rdf-syntax-ns#>\n",
      "SELECT DISTINCT ?AtomicScaleSample ?hasSpaceGroupSymbolvalue ?hasNumberOfAtomsvalue\n",
      "WHERE {\n",
      "    ?AtomicScaleSample cmso:hasMaterial ?cmso_Material .\n",
      "    ?cmso_Material cmso:hasStructure ?cmso_CrystalStructure .\n",
      "    ?cmso_CrystalStructure cmso:hasSpaceGroupSymbol ?hasSpaceGroupSymbolvalue .\n",
      "    ?AtomicScaleSample cmso:hasNumberOfAtoms ?hasNumberOfAtomsvalue .\n",
      "    ?AtomicScaleSample rdf:type cmso:AtomicScaleSample .\n",
      "FILTER (?hasNumberOfAtomsvalue=\"4\"^^xsd:integer)\n",
      "}\n"
     ]
    }
   ],
   "source": [
    "print(query)"
   ]
  },
  {
   "cell_type": "markdown",
   "metadata": {},
   "source": [
    "Which can now be executed"
   ]
  },
  {
   "cell_type": "code",
   "execution_count": 9,
   "metadata": {},
   "outputs": [
    {
     "name": "stdout",
     "output_type": "stream",
     "text": [
      "(rdflib.term.URIRef('sample:10ffd2cc-9e92-4f04-896d-d6c0fdb9e55f'), rdflib.term.Literal('Pm-3m', datatype=rdflib.term.URIRef('http://www.w3.org/2001/XMLSchema#string')), rdflib.term.Literal('4', datatype=rdflib.term.URIRef('http://www.w3.org/2001/XMLSchema#integer')))\n",
      "(rdflib.term.URIRef('sample:286c3974-962b-4333-a2bb-d164ae645454'), rdflib.term.Literal('Fm-3m', datatype=rdflib.term.URIRef('http://www.w3.org/2001/XMLSchema#string')), rdflib.term.Literal('4', datatype=rdflib.term.URIRef('http://www.w3.org/2001/XMLSchema#integer')))\n",
      "(rdflib.term.URIRef('sample:8fc8e47b-acee-40f8-bcbf-fc298cc31f05'), rdflib.term.Literal('Fm-3m', datatype=rdflib.term.URIRef('http://www.w3.org/2001/XMLSchema#string')), rdflib.term.Literal('4', datatype=rdflib.term.URIRef('http://www.w3.org/2001/XMLSchema#integer')))\n",
      "(rdflib.term.URIRef('sample:9f0f48d1-5ebf-4f7a-b241-5e7aa273f5a0'), rdflib.term.Literal('Fm-3m', datatype=rdflib.term.URIRef('http://www.w3.org/2001/XMLSchema#string')), rdflib.term.Literal('4', datatype=rdflib.term.URIRef('http://www.w3.org/2001/XMLSchema#integer')))\n",
      "(rdflib.term.URIRef('sample:e54c0e91-52ec-4c47-8ba3-43979a1ebe2e'), rdflib.term.Literal('Fm-3m', datatype=rdflib.term.URIRef('http://www.w3.org/2001/XMLSchema#string')), rdflib.term.Literal('4', datatype=rdflib.term.URIRef('http://www.w3.org/2001/XMLSchema#integer')))\n",
      "(rdflib.term.URIRef('sample:1f6b1b0f-446a-4ad8-877e-d2e6176797df'), rdflib.term.Literal('Fm-3m', datatype=rdflib.term.URIRef('http://www.w3.org/2001/XMLSchema#string')), rdflib.term.Literal('4', datatype=rdflib.term.URIRef('http://www.w3.org/2001/XMLSchema#integer')))\n",
      "(rdflib.term.URIRef('sample:67be61c7-f9c7-4d46-a61d-5350fd0ee246'), rdflib.term.Literal('Fm-3m', datatype=rdflib.term.URIRef('http://www.w3.org/2001/XMLSchema#string')), rdflib.term.Literal('4', datatype=rdflib.term.URIRef('http://www.w3.org/2001/XMLSchema#integer')))\n",
      "(rdflib.term.URIRef('sample:721b7447-8363-4e65-9515-9da2581d7124'), rdflib.term.Literal('Fm-3m', datatype=rdflib.term.URIRef('http://www.w3.org/2001/XMLSchema#string')), rdflib.term.Literal('4', datatype=rdflib.term.URIRef('http://www.w3.org/2001/XMLSchema#integer')))\n",
      "(rdflib.term.URIRef('sample:a3cf6d97-c922-4c4d-8517-e784df83b71e'), rdflib.term.Literal('Fm-3m', datatype=rdflib.term.URIRef('http://www.w3.org/2001/XMLSchema#string')), rdflib.term.Literal('4', datatype=rdflib.term.URIRef('http://www.w3.org/2001/XMLSchema#integer')))\n",
      "(rdflib.term.URIRef('sample:ab2bea57-39ea-49ea-ad3f-c1c40b013154'), rdflib.term.Literal('Fm-3m', datatype=rdflib.term.URIRef('http://www.w3.org/2001/XMLSchema#string')), rdflib.term.Literal('4', datatype=rdflib.term.URIRef('http://www.w3.org/2001/XMLSchema#integer')))\n",
      "(rdflib.term.URIRef('sample:b1f52dc6-5c92-428f-8f7a-78794fd0544c'), rdflib.term.Literal('Fm-3m', datatype=rdflib.term.URIRef('http://www.w3.org/2001/XMLSchema#string')), rdflib.term.Literal('4', datatype=rdflib.term.URIRef('http://www.w3.org/2001/XMLSchema#integer')))\n",
      "(rdflib.term.URIRef('sample:d015cfca-e047-40bc-baab-423e87fa2618'), rdflib.term.Literal('Fm-3m', datatype=rdflib.term.URIRef('http://www.w3.org/2001/XMLSchema#string')), rdflib.term.Literal('4', datatype=rdflib.term.URIRef('http://www.w3.org/2001/XMLSchema#integer')))\n",
      "(rdflib.term.URIRef('sample:fb01a7f2-8984-442b-a32e-15321c4fa99b'), rdflib.term.Literal('Fm-3m', datatype=rdflib.term.URIRef('http://www.w3.org/2001/XMLSchema#string')), rdflib.term.Literal('4', datatype=rdflib.term.URIRef('http://www.w3.org/2001/XMLSchema#integer')))\n",
      "(rdflib.term.URIRef('sample:aef7472e-7577-4256-8422-6ba77a954ce1'), rdflib.term.Literal('Fm-3m', datatype=rdflib.term.URIRef('http://www.w3.org/2001/XMLSchema#string')), rdflib.term.Literal('4', datatype=rdflib.term.URIRef('http://www.w3.org/2001/XMLSchema#integer')))\n"
     ]
    }
   ],
   "source": [
    "results = kg.query(query)\n",
    "for row in results:\n",
    "    print(row)"
   ]
  },
  {
   "cell_type": "markdown",
   "metadata": {},
   "source": [
    "OntologyNetwork also has a query method which returns a pandas DataFrame for convenience"
   ]
  },
  {
   "cell_type": "code",
   "execution_count": 10,
   "metadata": {},
   "outputs": [
    {
     "data": {
      "text/html": [
       "<div>\n",
       "<style scoped>\n",
       "    .dataframe tbody tr th:only-of-type {\n",
       "        vertical-align: middle;\n",
       "    }\n",
       "\n",
       "    .dataframe tbody tr th {\n",
       "        vertical-align: top;\n",
       "    }\n",
       "\n",
       "    .dataframe thead th {\n",
       "        text-align: right;\n",
       "    }\n",
       "</style>\n",
       "<table border=\"1\" class=\"dataframe\">\n",
       "  <thead>\n",
       "    <tr style=\"text-align: right;\">\n",
       "      <th></th>\n",
       "      <th>AtomicScaleSample</th>\n",
       "      <th>hasSpaceGroupSymbolvalue</th>\n",
       "      <th>hasNumberOfAtomsvalue</th>\n",
       "    </tr>\n",
       "  </thead>\n",
       "  <tbody>\n",
       "    <tr>\n",
       "      <th>0</th>\n",
       "      <td>sample:10ffd2cc-9e92-4f04-896d-d6c0fdb9e55f</td>\n",
       "      <td>Pm-3m</td>\n",
       "      <td>4</td>\n",
       "    </tr>\n",
       "    <tr>\n",
       "      <th>1</th>\n",
       "      <td>sample:286c3974-962b-4333-a2bb-d164ae645454</td>\n",
       "      <td>Fm-3m</td>\n",
       "      <td>4</td>\n",
       "    </tr>\n",
       "    <tr>\n",
       "      <th>2</th>\n",
       "      <td>sample:8fc8e47b-acee-40f8-bcbf-fc298cc31f05</td>\n",
       "      <td>Fm-3m</td>\n",
       "      <td>4</td>\n",
       "    </tr>\n",
       "    <tr>\n",
       "      <th>3</th>\n",
       "      <td>sample:9f0f48d1-5ebf-4f7a-b241-5e7aa273f5a0</td>\n",
       "      <td>Fm-3m</td>\n",
       "      <td>4</td>\n",
       "    </tr>\n",
       "    <tr>\n",
       "      <th>4</th>\n",
       "      <td>sample:e54c0e91-52ec-4c47-8ba3-43979a1ebe2e</td>\n",
       "      <td>Fm-3m</td>\n",
       "      <td>4</td>\n",
       "    </tr>\n",
       "    <tr>\n",
       "      <th>5</th>\n",
       "      <td>sample:1f6b1b0f-446a-4ad8-877e-d2e6176797df</td>\n",
       "      <td>Fm-3m</td>\n",
       "      <td>4</td>\n",
       "    </tr>\n",
       "    <tr>\n",
       "      <th>6</th>\n",
       "      <td>sample:67be61c7-f9c7-4d46-a61d-5350fd0ee246</td>\n",
       "      <td>Fm-3m</td>\n",
       "      <td>4</td>\n",
       "    </tr>\n",
       "    <tr>\n",
       "      <th>7</th>\n",
       "      <td>sample:721b7447-8363-4e65-9515-9da2581d7124</td>\n",
       "      <td>Fm-3m</td>\n",
       "      <td>4</td>\n",
       "    </tr>\n",
       "    <tr>\n",
       "      <th>8</th>\n",
       "      <td>sample:a3cf6d97-c922-4c4d-8517-e784df83b71e</td>\n",
       "      <td>Fm-3m</td>\n",
       "      <td>4</td>\n",
       "    </tr>\n",
       "    <tr>\n",
       "      <th>9</th>\n",
       "      <td>sample:ab2bea57-39ea-49ea-ad3f-c1c40b013154</td>\n",
       "      <td>Fm-3m</td>\n",
       "      <td>4</td>\n",
       "    </tr>\n",
       "    <tr>\n",
       "      <th>10</th>\n",
       "      <td>sample:b1f52dc6-5c92-428f-8f7a-78794fd0544c</td>\n",
       "      <td>Fm-3m</td>\n",
       "      <td>4</td>\n",
       "    </tr>\n",
       "    <tr>\n",
       "      <th>11</th>\n",
       "      <td>sample:d015cfca-e047-40bc-baab-423e87fa2618</td>\n",
       "      <td>Fm-3m</td>\n",
       "      <td>4</td>\n",
       "    </tr>\n",
       "    <tr>\n",
       "      <th>12</th>\n",
       "      <td>sample:fb01a7f2-8984-442b-a32e-15321c4fa99b</td>\n",
       "      <td>Fm-3m</td>\n",
       "      <td>4</td>\n",
       "    </tr>\n",
       "    <tr>\n",
       "      <th>13</th>\n",
       "      <td>sample:aef7472e-7577-4256-8422-6ba77a954ce1</td>\n",
       "      <td>Fm-3m</td>\n",
       "      <td>4</td>\n",
       "    </tr>\n",
       "  </tbody>\n",
       "</table>\n",
       "</div>"
      ],
      "text/plain": [
       "                              AtomicScaleSample hasSpaceGroupSymbolvalue  \\\n",
       "0   sample:10ffd2cc-9e92-4f04-896d-d6c0fdb9e55f                    Pm-3m   \n",
       "1   sample:286c3974-962b-4333-a2bb-d164ae645454                    Fm-3m   \n",
       "2   sample:8fc8e47b-acee-40f8-bcbf-fc298cc31f05                    Fm-3m   \n",
       "3   sample:9f0f48d1-5ebf-4f7a-b241-5e7aa273f5a0                    Fm-3m   \n",
       "4   sample:e54c0e91-52ec-4c47-8ba3-43979a1ebe2e                    Fm-3m   \n",
       "5   sample:1f6b1b0f-446a-4ad8-877e-d2e6176797df                    Fm-3m   \n",
       "6   sample:67be61c7-f9c7-4d46-a61d-5350fd0ee246                    Fm-3m   \n",
       "7   sample:721b7447-8363-4e65-9515-9da2581d7124                    Fm-3m   \n",
       "8   sample:a3cf6d97-c922-4c4d-8517-e784df83b71e                    Fm-3m   \n",
       "9   sample:ab2bea57-39ea-49ea-ad3f-c1c40b013154                    Fm-3m   \n",
       "10  sample:b1f52dc6-5c92-428f-8f7a-78794fd0544c                    Fm-3m   \n",
       "11  sample:d015cfca-e047-40bc-baab-423e87fa2618                    Fm-3m   \n",
       "12  sample:fb01a7f2-8984-442b-a32e-15321c4fa99b                    Fm-3m   \n",
       "13  sample:aef7472e-7577-4256-8422-6ba77a954ce1                    Fm-3m   \n",
       "\n",
       "   hasNumberOfAtomsvalue  \n",
       "0                      4  \n",
       "1                      4  \n",
       "2                      4  \n",
       "3                      4  \n",
       "4                      4  \n",
       "5                      4  \n",
       "6                      4  \n",
       "7                      4  \n",
       "8                      4  \n",
       "9                      4  \n",
       "10                     4  \n",
       "11                     4  \n",
       "12                     4  \n",
       "13                     4  "
      ]
     },
     "execution_count": 10,
     "metadata": {},
     "output_type": "execute_result"
    }
   ],
   "source": [
    "onto.query(kg, onto.terms.cmso.AtomicScaleSample, [onto.terms.cmso.hasSpaceGroupSymbol, onto.terms.cmso.hasNumberOfAtoms==4])"
   ]
  },
  {
   "cell_type": "markdown",
   "metadata": {},
   "source": [
    "Now the building of such a query programmatically is discussed. The function needs a source and destination(s). Destination can include conditions attached to it, for example, that numbers of atoms. The first thing to do is to find the right terms. For this, we can use the tab completion feature."
   ]
  },
  {
   "cell_type": "code",
   "execution_count": 11,
   "metadata": {},
   "outputs": [
    {
     "data": {
      "text/plain": [
       "brick, csvw, dc, dcat, dcmitype, dcterms, dcam, doap, foaf, geo, odrl, org, prof, prov, qb, schema, sh, skos, sosa, ssn, time, vann, void, wgs, owl, rdf, rdfs, xsd, xml, obo, asmo, calculation, cmso, pldo, podo, qudt, ldo"
      ]
     },
     "execution_count": 11,
     "metadata": {},
     "output_type": "execute_result"
    }
   ],
   "source": [
    "onto.terms"
   ]
  },
  {
   "cell_type": "markdown",
   "metadata": {},
   "source": [
    "Those are all the ontologies, with the terms we use. One can go deeper down"
   ]
  },
  {
   "cell_type": "code",
   "execution_count": 12,
   "metadata": {},
   "outputs": [
    {
     "data": {
      "text/plain": [
       "NormalVector, Length, SimulationCell, AmorphousMaterial, ComputationalSample, Basis, ChemicalElement, UnitCell, ChemicalComposition, CrystalDefect, MacroscaleSample, Microstructure, AtomicScaleSample, AtomicForce, ChemicalSpecies, SimulationCellLength, MicroscaleSample, LatticePlane, LatticeAngle, CalculatedProperty, LatticeParameter, Material, LatticeVector, NanoscaleSample, Atom, AtomAttribute, SpaceGroup, SimulationCellAngle, CrystallineMaterial, Plane, SimulationCellVector, Vector, Occupancy, Angle, CoordinationNumber, Structure, Molecule, CrystalStructure, AtomicPosition, AtomicVelocity, MesoscaleSample, hasAngle, hasBasis, hasStructure, hasUnitCell, hasLatticeParameter, hasElement, hasLength, hasDefect, hasSpecies, hasAttribute, isDefectOf, hasSpaceGroup, hasVector, hasNormalVector, hasUnit, hasSimulationCell, isCalculatedPropertyOf, hasMaterial, hasCalculatedProperty, isMaterialOf, hasLength_y, hasAtomicPercent, hasComponent_y, hasAngle_alpha, hasRepetition_x, hasReference, hasName, hasChemicalSymbol, hasLength_x, hasPath, hasBravaisLattice, hasDistanceFromOrigin, hasLength_z, hasComponent_z, hasComponent_x, hasRepetition_y, hasElementRatio, hasRepetition_z, hasSymbol, hasWeightPercent, hasValue, hasSpaceGroupSymbol, hasVolume, hasAltName, hasNumberOfAtoms, hasSpaceGroupNumber, hasIdentifier, hasAngle_gamma, hasAngle_beta"
      ]
     },
     "execution_count": 12,
     "metadata": {},
     "output_type": "execute_result"
    }
   ],
   "source": [
    "onto.terms.cmso"
   ]
  },
  {
   "cell_type": "markdown",
   "metadata": {},
   "source": [
    "And further select terms from there."
   ]
  },
  {
   "cell_type": "code",
   "execution_count": 13,
   "metadata": {},
   "outputs": [
    {
     "data": {
      "text/plain": [
       "cmso:AtomicScaleSample\n",
       "Atomic scale sample is a computational sample in the atomic length scale."
      ]
     },
     "execution_count": 13,
     "metadata": {},
     "output_type": "execute_result"
    }
   ],
   "source": [
    "onto.terms.cmso.AtomicScaleSample"
   ]
  },
  {
   "cell_type": "markdown",
   "metadata": {},
   "source": [
    "Domains and ranges can also be checked"
   ]
  },
  {
   "cell_type": "code",
   "execution_count": 14,
   "metadata": {},
   "outputs": [
    {
     "data": {
      "text/plain": [
       "(['cmso:CrystalStructure'], ['string'])"
      ]
     },
     "execution_count": 14,
     "metadata": {},
     "output_type": "execute_result"
    }
   ],
   "source": [
    "onto.terms.cmso.hasSpaceGroupSymbol.domain, onto.terms.cmso.hasSpaceGroupSymbol.range"
   ]
  },
  {
   "cell_type": "markdown",
   "metadata": {},
   "source": [
    "Applying constraints can be done through basic comparison operators"
   ]
  },
  {
   "cell_type": "markdown",
   "metadata": {},
   "source": [
    "## Basic comparison operations\n",
    "\n",
    "Basic operators such as <, >, <=, >=, and =="
   ]
  },
  {
   "cell_type": "markdown",
   "metadata": {},
   "source": [
    "These operations are useful for adding conditions to the SPARQL query. When these operations are performed on a term, it is stored in its condition string. No other changes are needed. "
   ]
  },
  {
   "cell_type": "code",
   "execution_count": 15,
   "metadata": {},
   "outputs": [
    {
     "data": {
      "text/plain": [
       "NormalVector, Length, SimulationCell, AmorphousMaterial, ComputationalSample, Basis, ChemicalElement, UnitCell, ChemicalComposition, CrystalDefect, MacroscaleSample, Microstructure, AtomicScaleSample, AtomicForce, ChemicalSpecies, SimulationCellLength, MicroscaleSample, LatticePlane, LatticeAngle, CalculatedProperty, LatticeParameter, Material, LatticeVector, NanoscaleSample, Atom, AtomAttribute, SpaceGroup, SimulationCellAngle, CrystallineMaterial, Plane, SimulationCellVector, Vector, Occupancy, Angle, CoordinationNumber, Structure, Molecule, CrystalStructure, AtomicPosition, AtomicVelocity, MesoscaleSample, hasAngle, hasBasis, hasStructure, hasUnitCell, hasLatticeParameter, hasElement, hasLength, hasDefect, hasSpecies, hasAttribute, isDefectOf, hasSpaceGroup, hasVector, hasNormalVector, hasUnit, hasSimulationCell, isCalculatedPropertyOf, hasMaterial, hasCalculatedProperty, isMaterialOf, hasLength_y, hasAtomicPercent, hasComponent_y, hasAngle_alpha, hasRepetition_x, hasReference, hasName, hasChemicalSymbol, hasLength_x, hasPath, hasBravaisLattice, hasDistanceFromOrigin, hasLength_z, hasComponent_z, hasComponent_x, hasRepetition_y, hasElementRatio, hasRepetition_z, hasSymbol, hasWeightPercent, hasValue, hasSpaceGroupSymbol, hasVolume, hasAltName, hasNumberOfAtoms, hasSpaceGroupNumber, hasIdentifier, hasAngle_gamma, hasAngle_beta"
      ]
     },
     "execution_count": 15,
     "metadata": {},
     "output_type": "execute_result"
    }
   ],
   "source": [
    "onto.terms.cmso"
   ]
  },
  {
   "cell_type": "code",
   "execution_count": 16,
   "metadata": {},
   "outputs": [
    {
     "data": {
      "text/plain": [
       "cmso:hasElementRatio\n",
       "A data property linking a chemical element with the ratio or fraction of it in the material."
      ]
     },
     "execution_count": 16,
     "metadata": {},
     "output_type": "execute_result"
    }
   ],
   "source": [
    "onto.terms.cmso.hasElementRatio==1.0"
   ]
  },
  {
   "cell_type": "markdown",
   "metadata": {},
   "source": [
    "## Logical operators\n",
    "\n",
    "Logical operators currently supported are & and |. These operators, when applied, aggregates the condition between two terms|"
   ]
  },
  {
   "cell_type": "code",
   "execution_count": 17,
   "metadata": {},
   "outputs": [
    {
     "data": {
      "text/plain": [
       "cmso:hasChemicalSymbol\n",
       "A data property linking an element with its chemical symbol."
      ]
     },
     "execution_count": 17,
     "metadata": {},
     "output_type": "execute_result"
    }
   ],
   "source": [
    "(onto.terms.cmso.hasChemicalSymbol=='Al') & (onto.terms.cmso.hasElementRatio==1.0)"
   ]
  },
  {
   "cell_type": "code",
   "execution_count": 18,
   "metadata": {},
   "outputs": [
    {
     "data": {
      "text/plain": [
       "cmso:hasChemicalSymbol\n",
       "A data property linking an element with its chemical symbol."
      ]
     },
     "execution_count": 18,
     "metadata": {},
     "output_type": "execute_result"
    }
   ],
   "source": [
    "(onto.terms.cmso.hasChemicalSymbol=='Al') | (onto.terms.cmso.hasElementRatio==1.0)"
   ]
  },
  {
   "cell_type": "markdown",
   "metadata": {},
   "source": [
    "## @ operator\n",
    "\n",
    "The final class of operator we have is the @ operator. This can be used for resolving terms that has multiple paths. For example, rdfs:label which multiple entities can have. "
   ]
  },
  {
   "cell_type": "markdown",
   "metadata": {},
   "source": [
    "If we want to specify label for the InputParameter, it can be done like this:"
   ]
  },
  {
   "cell_type": "code",
   "execution_count": 19,
   "metadata": {},
   "outputs": [
    {
     "data": {
      "text/plain": [
       "rdfs:label"
      ]
     },
     "execution_count": 19,
     "metadata": {},
     "output_type": "execute_result"
    }
   ],
   "source": [
    "onto.terms.rdfs.label@onto.terms.asmo.hasInputParameter"
   ]
  },
  {
   "cell_type": "markdown",
   "metadata": {},
   "source": [
    "conditions can also be applied on top"
   ]
  },
  {
   "cell_type": "code",
   "execution_count": 20,
   "metadata": {},
   "outputs": [
    {
     "data": {
      "text/plain": [
       "rdfs:label"
      ]
     },
     "execution_count": 20,
     "metadata": {},
     "output_type": "execute_result"
    }
   ],
   "source": [
    "onto.terms.rdfs.label@onto.terms.asmo.hasInputParameter=='label_string'"
   ]
  },
  {
   "cell_type": "markdown",
   "metadata": {},
   "source": [
    "That summarises all the possible options. Now we put together these blocks to formulate some more complex queries"
   ]
  }
 ],
 "metadata": {
  "kernelspec": {
   "display_name": "pyiron",
   "language": "python",
   "name": "pyiron"
  },
  "language_info": {
   "codemirror_mode": {
    "name": "ipython",
    "version": 3
   },
   "file_extension": ".py",
   "mimetype": "text/x-python",
   "name": "python",
   "nbconvert_exporter": "python",
   "pygments_lexer": "ipython3",
   "version": "3.11.11"
  }
 },
 "nbformat": 4,
 "nbformat_minor": 4
}
