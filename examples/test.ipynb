{
 "cells": [
  {
   "cell_type": "code",
   "execution_count": 1,
   "metadata": {},
   "outputs": [],
   "source": [
    "from tools4rdf.network.network import OntologyNetwork\n",
    "from rdflib import Graph"
   ]
  },
  {
   "cell_type": "code",
   "execution_count": 2,
   "metadata": {},
   "outputs": [],
   "source": [
    "onto = OntologyNetwork(\"pizza.owl\")"
   ]
  },
  {
   "cell_type": "code",
   "execution_count": 3,
   "metadata": {},
   "outputs": [
    {
     "data": {
      "text/plain": [
       "<Graph identifier=Neb8e3e4819864d07a1ff529010a47488 (<class 'rdflib.graph.Graph'>)>"
      ]
     },
     "execution_count": 3,
     "metadata": {},
     "output_type": "execute_result"
    }
   ],
   "source": [
    "g = Graph()\n",
    "g.parse(\"pizza_kg.ttl\", format=\"ttl\")"
   ]
  },
  {
   "cell_type": "code",
   "execution_count": 7,
   "metadata": {},
   "outputs": [
    {
     "name": "stdout",
     "output_type": "stream",
     "text": [
      "['Pizza', 'pizza:hasTopping', 'hasTopping']\n",
      "['hasTopping', 'hasTopping_PeperoniSausageTopping']\n",
      "PREFIX rdf: <http://www.w3.org/1999/02/22-rdf-syntax-ns#>\n",
      "PREFIX pizza: <https://example.org/pizza#>\n",
      "SELECT DISTINCT ?Pizza ?hasTopping_PeperoniSausageTopping\n",
      "WHERE {\n",
      "    ?Pizza pizza:hasTopping ?hasTopping_PeperoniSausageTopping .\n",
      "}\n"
     ]
    }
   ],
   "source": [
    "q = onto.create_query(onto.terms.pizza.Pizza.any, [[onto.terms.pizza.hasTopping, onto.terms.pizza.PeperoniSausageTopping.any],])\n",
    "print(q)"
   ]
  },
  {
   "cell_type": "code",
   "execution_count": 6,
   "metadata": {},
   "outputs": [
    {
     "name": "stdout",
     "output_type": "stream",
     "text": [
      "PREFIX rdf: <http://www.w3.org/1999/02/22-rdf-syntax-ns#>\n",
      "PREFIX pizza: <https://example.org/pizza#>\n",
      "SELECT DISTINCT ?Pizza ?hasTopping_PeperoniSausageTopping\n",
      "WHERE {\n",
      "    ?Pizza pizza:hasTopping ?hasTopping_PeperoniSausageTopping .\n",
      "    ?Pizza rdf:type pizza:Pizza .\n",
      "    ?hasTopping_PeperoniSausageTopping rdf:type pizza:PeperoniSausageTopping .\n",
      "}\n"
     ]
    }
   ],
   "source": [
    "print(q)"
   ]
  },
  {
   "cell_type": "code",
   "execution_count": 8,
   "metadata": {},
   "outputs": [
    {
     "name": "stdout",
     "output_type": "stream",
     "text": [
      "(rdflib.term.URIRef('American:6301092c'), rdflib.term.URIRef('PeperoniSausageTopping:a6dd218a'))\n",
      "(rdflib.term.URIRef('AmericanHot:c3aee5cd'), rdflib.term.URIRef('PeperoniSausageTopping:a6dd218a'))\n"
     ]
    }
   ],
   "source": [
    "r=g.query(\"\"\"\n",
    "PREFIX rdf: <http://www.w3.org/1999/02/22-rdf-syntax-ns#>\n",
    "PREFIX pizza: <https://example.org/pizza#>\n",
    "SELECT DISTINCT ?Pizza ?hasTopping_PeperoniSausageTopping\n",
    "WHERE {\n",
    "    ?Pizza pizza:hasTopping ?hasTopping_PeperoniSausageTopping .\n",
    "    ?hasTopping_PeperoniSausageTopping rdf:type pizza:PeperoniSausageTopping .\n",
    "}\n",
    "\"\"\")\n",
    "for a in r:\n",
    "    print(a)"
   ]
  }
 ],
 "metadata": {
  "kernelspec": {
   "display_name": "rdf",
   "language": "python",
   "name": "python3"
  },
  "language_info": {
   "codemirror_mode": {
    "name": "ipython",
    "version": 3
   },
   "file_extension": ".py",
   "mimetype": "text/x-python",
   "name": "python",
   "nbconvert_exporter": "python",
   "pygments_lexer": "ipython3",
   "version": "3.11.11"
  }
 },
 "nbformat": 4,
 "nbformat_minor": 4
}
