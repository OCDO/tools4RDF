{
 "cells": [
  {
   "cell_type": "code",
   "execution_count": 1,
   "metadata": {},
   "outputs": [],
   "source": [
    "from tools4rdf.network.network import OntologyNetwork\n",
    "from rdflib import Graph"
   ]
  },
  {
   "cell_type": "code",
   "execution_count": 2,
   "metadata": {},
   "outputs": [],
   "source": [
    "onto = OntologyNetwork(\"pizza.owl\")"
   ]
  },
  {
   "cell_type": "code",
   "execution_count": 3,
   "metadata": {},
   "outputs": [
    {
     "data": {
      "text/plain": [
       "<Graph identifier=Nb22d9310eca348d4a45c754e9761f81f (<class 'rdflib.graph.Graph'>)>"
      ]
     },
     "execution_count": 3,
     "metadata": {},
     "output_type": "execute_result"
    }
   ],
   "source": [
    "g = Graph()\n",
    "g.parse(\"pizza_kg.ttl\", format=\"ttl\")"
   ]
  },
  {
   "cell_type": "code",
   "execution_count": 4,
   "metadata": {},
   "outputs": [
    {
     "name": "stdout",
     "output_type": "stream",
     "text": [
      "['Pizza', 'pizza:hasTopping', 'hasTopping']\n",
      "['hasTopping', 'hasTopping_PeperoniSausageTopping']\n"
     ]
    },
    {
     "data": {
      "text/plain": [
       "'PREFIX pizza: <https://example.org/pizza#>\\nPREFIX rdf: <http://www.w3.org/1999/02/22-rdf-syntax-ns#>\\nSELECT DISTINCT ?Pizza ?hasTopping_PeperoniSausageTopping\\nWHERE {\\n    ?Pizza pizza:hasTopping ?hasTopping_PeperoniSausageTopping .\\n    ?Pizza rdf:type pizza:Pizza .\\n    ?hasTopping_PeperoniSausageTopping rdf:type pizza:PeperoniSausageTopping .\\n}'"
      ]
     },
     "execution_count": 4,
     "metadata": {},
     "output_type": "execute_result"
    }
   ],
   "source": [
    "q = onto.create_query(onto.terms.pizza.Pizza, [[onto.terms.pizza.hasTopping, onto.terms.pizza.PeperoniSausageTopping],])\n",
    "q"
   ]
  },
  {
   "cell_type": "code",
   "execution_count": 5,
   "metadata": {},
   "outputs": [
    {
     "name": "stdout",
     "output_type": "stream",
     "text": [
      "PREFIX pizza: <https://example.org/pizza#>\n",
      "PREFIX rdf: <http://www.w3.org/1999/02/22-rdf-syntax-ns#>\n",
      "SELECT DISTINCT ?Pizza ?hasTopping_PeperoniSausageTopping\n",
      "WHERE {\n",
      "    ?Pizza pizza:hasTopping ?hasTopping_PeperoniSausageTopping .\n",
      "    ?Pizza rdf:type pizza:Pizza .\n",
      "    ?hasTopping_PeperoniSausageTopping rdf:type pizza:PeperoniSausageTopping .\n",
      "}\n"
     ]
    }
   ],
   "source": [
    "print(q)"
   ]
  },
  {
   "cell_type": "code",
   "execution_count": 24,
   "metadata": {},
   "outputs": [
    {
     "name": "stdout",
     "output_type": "stream",
     "text": [
      "(rdflib.term.URIRef('American:dea57c44'),)\n",
      "(rdflib.term.URIRef('AmericanHot:24b1c49f'),)\n",
      "(rdflib.term.URIRef('Margherita:30a3f96f'),)\n",
      "(rdflib.term.URIRef('Margherita:5e902c81'),)\n",
      "(rdflib.term.URIRef('Mushroom:a8318f66'),)\n",
      "(rdflib.term.URIRef('SpicyPizza:00e5d4e0'),)\n",
      "(rdflib.term.URIRef('SpicyPizza:0fec2a01'),)\n",
      "(rdflib.term.URIRef('VegetarianPizza:d152923c'),)\n"
     ]
    }
   ],
   "source": [
    "r=g.query(\"\"\"\n",
    "PREFIX pizza: <https://example.org/pizza#>\n",
    "PREFIX rdf: <http://www.w3.org/1999/02/22-rdf-syntax-ns#>\n",
    "SELECT DISTINCT ?Pizza\n",
    "WHERE {\n",
    "    ?Pizza pizza:hasTopping pizza:MozzarellaTopping .\n",
    "}\n",
    "\"\"\")\n",
    "for a in r:\n",
    "    print(a)"
   ]
  },
  {
   "cell_type": "code",
   "execution_count": 20,
   "metadata": {},
   "outputs": [
    {
     "name": "stdout",
     "output_type": "stream",
     "text": [
      "(rdflib.term.URIRef('Margherita:5e902c81'), rdflib.term.URIRef('http://www.w3.org/1999/02/22-rdf-syntax-ns#type'), rdflib.term.URIRef('https://example.org/pizza#Margherita'))\n",
      "(rdflib.term.URIRef('AmericanHot:24b1c49f'), rdflib.term.URIRef('http://www.w3.org/1999/02/22-rdf-syntax-ns#type'), rdflib.term.URIRef('https://example.org/pizza#AmericanHot'))\n",
      "(rdflib.term.URIRef('SpicyPizza:00e5d4e0'), rdflib.term.URIRef('https://example.org/pizza#hasPrice'), rdflib.term.Literal('11.0', datatype=rdflib.term.URIRef('http://www.w3.org/2001/XMLSchema#float')))\n",
      "(rdflib.term.URIRef('SpicyPizza:0fec2a01'), rdflib.term.URIRef('https://example.org/pizza#hasTopping'), rdflib.term.URIRef('https://example.org/pizza#TomatoTopping'))\n",
      "(rdflib.term.URIRef('American:dea57c44'), rdflib.term.URIRef('https://example.org/pizza#hasTopping'), rdflib.term.URIRef('https://example.org/pizza#MozzarellaTopping'))\n",
      "(rdflib.term.URIRef('AmericanHot:24b1c49f'), rdflib.term.URIRef('https://example.org/pizza#hasTopping'), rdflib.term.URIRef('https://example.org/pizza#PeperoniSausageTopping'))\n",
      "(rdflib.term.URIRef('SpicyPizza:00e5d4e0'), rdflib.term.URIRef('http://www.w3.org/1999/02/22-rdf-syntax-ns#type'), rdflib.term.URIRef('https://example.org/pizza#SpicyPizza'))\n",
      "(rdflib.term.URIRef('VegetarianPizza:d152923c'), rdflib.term.URIRef('https://example.org/pizza#hasTopping'), rdflib.term.URIRef('https://example.org/pizza#TomatoTopping'))\n",
      "(rdflib.term.URIRef('Margherita:30a3f96f'), rdflib.term.URIRef('https://example.org/pizza#hasTopping'), rdflib.term.URIRef('https://example.org/pizza#TomatoTopping'))\n",
      "(rdflib.term.URIRef('Margherita:5e902c81'), rdflib.term.URIRef('https://example.org/pizza#hasBase'), rdflib.term.URIRef('https://example.org/pizza#DeepPanBase'))\n",
      "(rdflib.term.URIRef('Mushroom:a8318f66'), rdflib.term.URIRef('https://example.org/pizza#hasTopping'), rdflib.term.URIRef('https://example.org/pizza#MozzarellaTopping'))\n",
      "(rdflib.term.URIRef('IceCream:4a233997'), rdflib.term.URIRef('http://www.w3.org/1999/02/22-rdf-syntax-ns#type'), rdflib.term.URIRef('https://example.org/pizza#IceCream'))\n",
      "(rdflib.term.URIRef('SpicyPizza:0fec2a01'), rdflib.term.URIRef('https://example.org/pizza#hasSpiciness'), rdflib.term.URIRef('https://example.org/pizza#Mild'))\n",
      "(rdflib.term.URIRef('Margherita:5e902c81'), rdflib.term.URIRef('https://example.org/pizza#hasTopping'), rdflib.term.URIRef('https://example.org/pizza#MozzarellaTopping'))\n",
      "(rdflib.term.URIRef('AmericanHot:24b1c49f'), rdflib.term.URIRef('https://example.org/pizza#hasPrice'), rdflib.term.Literal('11.5', datatype=rdflib.term.URIRef('http://www.w3.org/2001/XMLSchema#float')))\n",
      "(rdflib.term.URIRef('IceCream:4a233997'), rdflib.term.URIRef('https://example.org/pizza#hasPrice'), rdflib.term.Literal('7.0', datatype=rdflib.term.URIRef('http://www.w3.org/2001/XMLSchema#float')))\n",
      "(rdflib.term.URIRef('Mushroom:a8318f66'), rdflib.term.URIRef('https://example.org/pizza#hasBase'), rdflib.term.URIRef('https://example.org/pizza#PizzaBase'))\n",
      "(rdflib.term.URIRef('SpicyPizza:0fec2a01'), rdflib.term.URIRef('https://example.org/pizza#hasPrice'), rdflib.term.Literal('12.99', datatype=rdflib.term.URIRef('http://www.w3.org/2001/XMLSchema#float')))\n",
      "(rdflib.term.URIRef('https://example.org/pizza#MushroomTopping'), rdflib.term.URIRef('https://example.org/pizza#hasCalorificContentValue'), rdflib.term.Literal('22.0', datatype=rdflib.term.URIRef('http://www.w3.org/2001/XMLSchema#float')))\n",
      "(rdflib.term.URIRef('https://example.org/pizza#JalapenoPepperTopping'), rdflib.term.URIRef('https://example.org/pizza#hasCalorificContentValue'), rdflib.term.Literal('29.0', datatype=rdflib.term.URIRef('http://www.w3.org/2001/XMLSchema#float')))\n",
      "(rdflib.term.URIRef('SpicyPizza:0fec2a01'), rdflib.term.URIRef('https://example.org/pizza#hasTopping'), rdflib.term.URIRef('https://example.org/pizza#MozzarellaTopping'))\n",
      "(rdflib.term.URIRef('American:dea57c44'), rdflib.term.URIRef('https://example.org/pizza#hasBase'), rdflib.term.URIRef('https://example.org/pizza#PizzaBase'))\n",
      "(rdflib.term.URIRef('Margherita:30a3f96f'), rdflib.term.URIRef('https://example.org/pizza#hasPrice'), rdflib.term.Literal('8.99', datatype=rdflib.term.URIRef('http://www.w3.org/2001/XMLSchema#float')))\n",
      "(rdflib.term.URIRef('AmericanHot:24b1c49f'), rdflib.term.URIRef('https://example.org/pizza#hasTopping'), rdflib.term.URIRef('https://example.org/pizza#JalapenoPepperTopping'))\n",
      "(rdflib.term.URIRef('Margherita:30a3f96f'), rdflib.term.URIRef('https://example.org/pizza#hasTopping'), rdflib.term.URIRef('https://example.org/pizza#MozzarellaTopping'))\n",
      "(rdflib.term.URIRef('https://example.org/pizza#MozzarellaTopping'), rdflib.term.URIRef('https://example.org/pizza#hasCalorificContentValue'), rdflib.term.Literal('280.0', datatype=rdflib.term.URIRef('http://www.w3.org/2001/XMLSchema#float')))\n",
      "(rdflib.term.URIRef('VegetarianPizza:d152923c'), rdflib.term.URIRef('https://example.org/pizza#hasTopping'), rdflib.term.URIRef('https://example.org/pizza#MozzarellaTopping'))\n",
      "(rdflib.term.URIRef('IceCream:4a233997'), rdflib.term.URIRef('https://example.org/pizza#hasIngredient'), rdflib.term.URIRef('https://example.org/pizza#Milk'))\n",
      "(rdflib.term.URIRef('https://example.org/pizza#TomatoTopping'), rdflib.term.URIRef('https://example.org/pizza#hasCalorificContentValue'), rdflib.term.Literal('18.0', datatype=rdflib.term.URIRef('http://www.w3.org/2001/XMLSchema#float')))\n",
      "(rdflib.term.URIRef('AmericanHot:24b1c49f'), rdflib.term.URIRef('https://example.org/pizza#hasTopping'), rdflib.term.URIRef('https://example.org/pizza#TomatoTopping'))\n",
      "(rdflib.term.URIRef('Mushroom:a8318f66'), rdflib.term.URIRef('https://example.org/pizza#hasPrice'), rdflib.term.Literal('11.0', datatype=rdflib.term.URIRef('http://www.w3.org/2001/XMLSchema#float')))\n",
      "(rdflib.term.URIRef('SpicyPizza:00e5d4e0'), rdflib.term.URIRef('https://example.org/pizza#hasSpiciness'), rdflib.term.URIRef('https://example.org/pizza#Hot'))\n",
      "(rdflib.term.URIRef('VegetarianPizza:d152923c'), rdflib.term.URIRef('https://example.org/pizza#hasBase'), rdflib.term.URIRef('https://example.org/pizza#PizzaBase'))\n",
      "(rdflib.term.URIRef('Margherita:5e902c81'), rdflib.term.URIRef('https://example.org/pizza#hasPrice'), rdflib.term.Literal('9.5', datatype=rdflib.term.URIRef('http://www.w3.org/2001/XMLSchema#float')))\n",
      "(rdflib.term.URIRef('American:dea57c44'), rdflib.term.URIRef('https://example.org/pizza#hasTopping'), rdflib.term.URIRef('https://example.org/pizza#PeperoniSausageTopping'))\n",
      "(rdflib.term.URIRef('Margherita:30a3f96f'), rdflib.term.URIRef('http://www.w3.org/1999/02/22-rdf-syntax-ns#type'), rdflib.term.URIRef('https://example.org/pizza#Margherita'))\n",
      "(rdflib.term.URIRef('SpicyPizza:00e5d4e0'), rdflib.term.URIRef('https://example.org/pizza#hasTopping'), rdflib.term.URIRef('https://example.org/pizza#TomatoTopping'))\n",
      "(rdflib.term.URIRef('https://example.org/pizza#HotGreenPepperTopping'), rdflib.term.URIRef('https://example.org/pizza#hasCalorificContentValue'), rdflib.term.Literal('40.0', datatype=rdflib.term.URIRef('http://www.w3.org/2001/XMLSchema#float')))\n",
      "(rdflib.term.URIRef('https://example.org/pizza#OliveTopping'), rdflib.term.URIRef('https://example.org/pizza#hasCalorificContentValue'), rdflib.term.Literal('115.0', datatype=rdflib.term.URIRef('http://www.w3.org/2001/XMLSchema#float')))\n",
      "(rdflib.term.URIRef('Margherita:30a3f96f'), rdflib.term.URIRef('https://example.org/pizza#hasBase'), rdflib.term.URIRef('https://example.org/pizza#ThinAndCrispyBase'))\n",
      "(rdflib.term.URIRef('American:dea57c44'), rdflib.term.URIRef('https://example.org/pizza#hasPrice'), rdflib.term.Literal('10.0', datatype=rdflib.term.URIRef('http://www.w3.org/2001/XMLSchema#float')))\n",
      "(rdflib.term.URIRef('SpicyPizza:0fec2a01'), rdflib.term.URIRef('https://example.org/pizza#hasBase'), rdflib.term.URIRef('https://example.org/pizza#PizzaBase'))\n",
      "(rdflib.term.URIRef('VegetarianPizza:d152923c'), rdflib.term.URIRef('https://example.org/pizza#hasTopping'), rdflib.term.URIRef('https://example.org/pizza#OliveTopping'))\n",
      "(rdflib.term.URIRef('VegetarianPizza:d152923c'), rdflib.term.URIRef('https://example.org/pizza#hasPrice'), rdflib.term.Literal('11.5', datatype=rdflib.term.URIRef('http://www.w3.org/2001/XMLSchema#float')))\n",
      "(rdflib.term.URIRef('AmericanHot:24b1c49f'), rdflib.term.URIRef('https://example.org/pizza#hasSpiciness'), rdflib.term.URIRef('https://example.org/pizza#Hot'))\n",
      "(rdflib.term.URIRef('https://example.org/pizza#ArtichokeTopping'), rdflib.term.URIRef('https://example.org/pizza#hasCalorificContentValue'), rdflib.term.Literal('47.0', datatype=rdflib.term.URIRef('http://www.w3.org/2001/XMLSchema#float')))\n",
      "(rdflib.term.URIRef('https://example.org/pizza#PeperoniSausageTopping'), rdflib.term.URIRef('https://example.org/pizza#hasCalorificContentValue'), rdflib.term.Literal('494.0', datatype=rdflib.term.URIRef('http://www.w3.org/2001/XMLSchema#float')))\n",
      "(rdflib.term.URIRef('Mushroom:a8318f66'), rdflib.term.URIRef('https://example.org/pizza#hasTopping'), rdflib.term.URIRef('https://example.org/pizza#MushroomTopping'))\n",
      "(rdflib.term.URIRef('AmericanHot:24b1c49f'), rdflib.term.URIRef('https://example.org/pizza#hasTopping'), rdflib.term.URIRef('https://example.org/pizza#MozzarellaTopping'))\n",
      "(rdflib.term.URIRef('VegetarianPizza:d152923c'), rdflib.term.URIRef('http://www.w3.org/1999/02/22-rdf-syntax-ns#type'), rdflib.term.URIRef('https://example.org/pizza#VegetarianPizza'))\n",
      "(rdflib.term.URIRef('Mushroom:a8318f66'), rdflib.term.URIRef('http://www.w3.org/1999/02/22-rdf-syntax-ns#type'), rdflib.term.URIRef('https://example.org/pizza#Mushroom'))\n",
      "(rdflib.term.URIRef('VegetarianPizza:d152923c'), rdflib.term.URIRef('https://example.org/pizza#hasTopping'), rdflib.term.URIRef('https://example.org/pizza#ArtichokeTopping'))\n",
      "(rdflib.term.URIRef('SpicyPizza:00e5d4e0'), rdflib.term.URIRef('https://example.org/pizza#hasTopping'), rdflib.term.URIRef('https://example.org/pizza#HotGreenPepperTopping'))\n",
      "(rdflib.term.URIRef('SpicyPizza:00e5d4e0'), rdflib.term.URIRef('https://example.org/pizza#hasTopping'), rdflib.term.URIRef('https://example.org/pizza#MozzarellaTopping'))\n",
      "(rdflib.term.URIRef('SpicyPizza:0fec2a01'), rdflib.term.URIRef('http://www.w3.org/1999/02/22-rdf-syntax-ns#type'), rdflib.term.URIRef('https://example.org/pizza#SpicyPizza'))\n",
      "(rdflib.term.URIRef('American:dea57c44'), rdflib.term.URIRef('https://example.org/pizza#hasTopping'), rdflib.term.URIRef('https://example.org/pizza#TomatoTopping'))\n",
      "(rdflib.term.URIRef('SpicyPizza:0fec2a01'), rdflib.term.URIRef('https://example.org/pizza#hasTopping'), rdflib.term.URIRef('https://example.org/pizza#SweetPepperTopping'))\n",
      "(rdflib.term.URIRef('https://example.org/pizza#SweetPepperTopping'), rdflib.term.URIRef('https://example.org/pizza#hasCalorificContentValue'), rdflib.term.Literal('26.0', datatype=rdflib.term.URIRef('http://www.w3.org/2001/XMLSchema#float')))\n",
      "(rdflib.term.URIRef('AmericanHot:24b1c49f'), rdflib.term.URIRef('https://example.org/pizza#hasBase'), rdflib.term.URIRef('https://example.org/pizza#PizzaBase'))\n",
      "(rdflib.term.URIRef('SpicyPizza:00e5d4e0'), rdflib.term.URIRef('https://example.org/pizza#hasBase'), rdflib.term.URIRef('https://example.org/pizza#PizzaBase'))\n",
      "(rdflib.term.URIRef('American:dea57c44'), rdflib.term.URIRef('http://www.w3.org/1999/02/22-rdf-syntax-ns#type'), rdflib.term.URIRef('https://example.org/pizza#American'))\n",
      "(rdflib.term.URIRef('Mushroom:a8318f66'), rdflib.term.URIRef('https://example.org/pizza#hasTopping'), rdflib.term.URIRef('https://example.org/pizza#TomatoTopping'))\n",
      "(rdflib.term.URIRef('Margherita:5e902c81'), rdflib.term.URIRef('https://example.org/pizza#hasTopping'), rdflib.term.URIRef('https://example.org/pizza#TomatoTopping'))\n"
     ]
    }
   ],
   "source": [
    "for k in g:\n",
    "    print(k)"
   ]
  },
  {
   "cell_type": "code",
   "execution_count": null,
   "metadata": {},
   "outputs": [],
   "source": []
  }
 ],
 "metadata": {
  "kernelspec": {
   "display_name": "Python 3 (ipykernel)",
   "language": "python",
   "name": "python3"
  },
  "language_info": {
   "codemirror_mode": {
    "name": "ipython",
    "version": 3
   },
   "file_extension": ".py",
   "mimetype": "text/x-python",
   "name": "python",
   "nbconvert_exporter": "python",
   "pygments_lexer": "ipython3",
   "version": "3.11.10"
  }
 },
 "nbformat": 4,
 "nbformat_minor": 4
}
