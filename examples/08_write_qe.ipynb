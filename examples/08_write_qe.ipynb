{
 "cells": [
  {
   "cell_type": "code",
   "execution_count": 1,
   "metadata": {},
   "outputs": [],
   "source": [
    "from atomrdf import KnowledgeGraph, System"
   ]
  },
  {
   "cell_type": "code",
   "execution_count": 2,
   "metadata": {},
   "outputs": [],
   "source": [
    "kg = KnowledgeGraph()"
   ]
  },
  {
   "cell_type": "code",
   "execution_count": 3,
   "metadata": {},
   "outputs": [],
   "source": [
    "s = System.create.element.Fe(graph = kg)"
   ]
  },
  {
   "cell_type": "code",
   "execution_count": 4,
   "metadata": {},
   "outputs": [],
   "source": [
    "s.write.file('qe_input', format='quantum-espresso')"
   ]
  },
  {
   "cell_type": "code",
   "execution_count": 5,
   "metadata": {},
   "outputs": [
    {
     "name": "stdout",
     "output_type": "stream",
     "text": [
      "! sample:5f3309f9-4d09-4080-9219-4eef18fd2170\n",
      "\n",
      "&SYSTEM\n",
      "   ibrav = 0,\n",
      "   nat = 2,\n",
      "   ntyp = 1,\n",
      "/\n",
      "\n",
      "CELL_PARAMETERS angstrom\n",
      "2.87 0.0 0.0\n",
      "0.0 2.87 0.0\n",
      "0.0 0.0 2.87\n",
      "\n",
      "ATOMIC_SPECIES\n",
      "Fe 55.845 None\n",
      "\n",
      "ATOMIC_POSITIONS crystal\n",
      "Fe 0.0 0.0 0.0\n",
      "Fe 0.5 0.5 0.5\n",
      "\n"
     ]
    }
   ],
   "source": [
    "! more qe_input"
   ]
  },
  {
   "cell_type": "markdown",
   "metadata": {},
   "source": [
    "One can also copy settings from an existing file"
   ]
  },
  {
   "cell_type": "code",
   "execution_count": 6,
   "metadata": {},
   "outputs": [],
   "source": [
    "s.write.file('qe_input_2', format='quantum-espresso', copy_from='qe_ref.in')"
   ]
  },
  {
   "cell_type": "code",
   "execution_count": 7,
   "metadata": {},
   "outputs": [
    {
     "name": "stdout",
     "output_type": "stream",
     "text": [
      "! sample:5f3309f9-4d09-4080-9219-4eef18fd2170\n",
      "\n",
      "&CONTROL\n",
      "   prefix = fe,\n",
      "/\n",
      "\n",
      "&SYSTEM\n",
      "   ibrav = 0,\n",
      "   nat = 2,\n",
      "   ntyp = 1,\n",
      "   ecutwfc = 25.0,\n",
      "   ecutrho = 200.0,\n",
      "   occupations = smearing,\n",
      "   smearing = mv,\n",
      "   degauss = 0.01,\n",
      "   nspin = 2,\n",
      "   starting_magnetization(1) = 0.6,\n",
      "/\n",
      "\n",
      "&ELECTRONS\n",
      "/\n",
      "\n",
      "CELL_PARAMETERS angstrom\n",
      "\u001b[Km--More--(71%)\u001b[m"
     ]
    }
   ],
   "source": [
    "! more qe_input_2"
   ]
  },
  {
   "cell_type": "markdown",
   "metadata": {},
   "source": [
    "This copies the input settings, but replaces the relevant ones."
   ]
  }
 ],
 "metadata": {
  "kernelspec": {
   "display_name": "workflow-rdf",
   "language": "python",
   "name": "python3"
  },
  "language_info": {
   "codemirror_mode": {
    "name": "ipython",
    "version": 3
   },
   "file_extension": ".py",
   "mimetype": "text/x-python",
   "name": "python",
   "nbconvert_exporter": "python",
   "pygments_lexer": "ipython3",
   "version": "3.11.8"
  }
 },
 "nbformat": 4,
 "nbformat_minor": 2
}
